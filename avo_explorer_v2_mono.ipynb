{
 "cells": [
  {
   "cell_type": "markdown",
   "metadata": {},
   "source": [
    "# AVO Explorer v2 (mono)\n",
    "\n",
    "Jupyter notebook to explore AVO classes.\n",
    "\n",
    "Monolytic version, made to be run without any Python installed on local pc using [colab.research.google.com](https://colab.research.google.com): no dependency from external libraries, no interactive widgets (ipywidgets are not yet supported by colab).\n",
    "\n",
    "Bookmark the following link to reuse this notebook: <https://colab.research.google.com/github/aadm/geophysical_notes/blob/master/avo_explorer_v2_mono.ipynb>\n",
    "\n",
    "2016-2018, Alessandro Amato del Monte (alessandro.adm@gmail.com)\n",
    "\n",
    "***"
   ]
  },
  {
   "cell_type": "code",
   "execution_count": 1,
   "metadata": {},
   "outputs": [],
   "source": [
    "import numpy as np\n",
    "import matplotlib.pyplot as plt\n",
    "import matplotlib.patches as patches\n",
    "%matplotlib inline\n",
    "%config InlineBackend.figure_format = 'retina'"
   ]
  },
  {
   "cell_type": "markdown",
   "metadata": {},
   "source": [
    "The cell below defines the elastic properties for the various AVO classes, taken from Castagna & Swan, \"Principles of AVO crossplotting\" (1997) and Hilterman, \"Seismic Amplitude Interpretation\" (2001)."
   ]
  },
  {
   "cell_type": "code",
   "execution_count": 2,
   "metadata": {},
   "outputs": [],
   "source": [
    "shale = np.array([[3094,1515,2.40], [2643,1167,2.29], [2192,818,2.16], [3240,1620,2.34]])\n",
    "ssgas = np.array([[4050,2526,2.21,.2], [2781,1665,2.08,.25], [1542,901,1.88,.33], [1650,1090,2.07,.18]])\n",
    "ssbri = np.array([[4115,2453,2.32,.2], [3048,1595,2.23,.25], [2134,860,2.11,.33], [2590,1060,2.21,.18]])\n",
    "avocl=['class 1','class 2','class 3','class 4']"
   ]
  },
  {
   "cell_type": "markdown",
   "metadata": {},
   "source": [
    "The following cell define some support functions: `ricker` (to create wavelets), `gassmann` (to perform fluid substitution), `shuey` and `ruger` (reflectivity equations for the isotropic and anisotropic case)."
   ]
  },
  {
   "cell_type": "code",
   "execution_count": 3,
   "metadata": {},
   "outputs": [],
   "source": [
    "def ricker(f, length, dt):\n",
    "    '''\n",
    "    (taken from https://github.com/seg/tutorials-2014/blob/master/1406_Make_a_synthetic/how_to_make_synthetic.ipynb)\n",
    "    (author: Evan Bianco)\n",
    "    '''\n",
    "    t = np.linspace(-length/2, (length-dt)/2, int(length/dt))\n",
    "    y = (1. - 2.*(np.pi**2)*(f**2)*(t**2))*np.exp(-(np.pi**2)*(f**2)*(t**2))\n",
    "    return t, y\n",
    "\n",
    "def gassmann(vp1, vs1, rho1, rho_fl1, k_fl1, rho_fl2, k_fl2, k0, phi):\n",
    "    '''\n",
    "    written by Alessandro Amato del Monte, 2016\n",
    "    '''\n",
    "    vp1 = vp1/1000\n",
    "    vs1 = vs1/1000\n",
    "    rho2 = rho1-phi*rho_fl1+phi*rho_fl2\n",
    "    mu1 = rho1*vs1**2.\n",
    "    k1 = rho1*vp1**2-(4./3.)*mu1\n",
    "    kdry= (k1 * ((phi*k0)/k_fl1+1-phi)-k0) / ((phi*k0)/k_fl1+(k1/k0)-1-phi)\n",
    "    k2 = kdry + (1- (kdry/k0))**2 / ( (phi/k_fl2) + ((1-phi)/k0) - (kdry/k0**2) )\n",
    "    mu2 = mu1\n",
    "    vp2 = np.sqrt(((k2+(4./3)*mu2))/rho2)\n",
    "    vs2 = np.sqrt((mu2/rho2))\n",
    "    return [vp2*1000, vs2*1000, rho2, k2, kdry]\n",
    "\n",
    "def ruger(vp1,vs1,rho1,d1,e1,vp2,vs2,rho2,d2,e2,theta):\n",
    "    '''\n",
    "    written by Alessandro Amato del Monte, 2016\n",
    "    '''\n",
    "    a = np.radians(theta)\n",
    "    vp  = np.mean([vp1,vp2])\n",
    "    vs  = np.mean([vs1,vs2])\n",
    "    rho = np.mean([rho1,rho2])\n",
    "    z   = np.mean([vp1*rho1,vp2*rho2])\n",
    "    g   = np.mean([rho1*vs1**2,rho2*vs2**2])\n",
    "    dvp = vp2-vp1\n",
    "    dvs = vs2-vs1\n",
    "    drho= rho2-rho1\n",
    "    z2, z1 = vp2*rho2, vp1*rho1\n",
    "    dz  = z2-z1\n",
    "    dg  = rho2*vs2**2 - rho1*vs1**2\n",
    "    dd = d2-d1\n",
    "    de = e2-e1\n",
    "    A = 0.5*(dz/z)\n",
    "    B = 0.5*(dvp/vp - (2*vs/vp)**2 * (dg/g) + dd) * np.sin(a)**2\n",
    "    C = 0.5*(dvp/vp + de) * np.sin(a)**2 * np.tan(a)**2\n",
    "    R = A+B+C\n",
    "    return R\n",
    "\n",
    "def shuey(vp1, vs1, rho1, vp2, vs2, rho2, theta, approx=True, terms=False):\n",
    "    '''\n",
    "    shuey (C) aadm 2016\n",
    "    Calculates P-wave reflectivity with Shuey's equation\n",
    "\n",
    "    reference:\n",
    "    Avseth et al. (2005), Quantitative Seismic Interpretation, Cambridge University Press (p.182)\n",
    "\n",
    "    INPUT\n",
    "    vp1, vs1, rho1: P-, S-wave velocity (m/s) and density (g/cm3) of upper medium\n",
    "    vp2, vs2, rho2: P-, S-wave velocity (m/s) and density (g/cm3) of lower medium\n",
    "    theta: angle of incidence (degree)\n",
    "    approx: returns approximate (2-term) form (default: True)\n",
    "    terms: returns reflectivity, intercept and gradient (default: False)\n",
    "\n",
    "    OUTPUT\n",
    "    reflectivity (and optionally intercept, gradient; see terms option) at angle theta\n",
    "    '''\n",
    "    a = np.radians(theta)\n",
    "    dvp = vp2-vp1\n",
    "    dvs = vs2-vs1\n",
    "    drho = rho2-rho1\n",
    "    vp  = np.mean([vp1,vp2])\n",
    "    vs  = np.mean([vs1,vs2])\n",
    "    rho = np.mean([rho1,rho2])\n",
    "    R0 = 0.5*(dvp/vp + drho/rho)\n",
    "    G  = 0.5*(dvp/vp) - 2*(vs**2/vp**2)*(drho/rho+2*(dvs/vs))\n",
    "    F =  0.5*(dvp/vp)\n",
    "    if approx:\n",
    "        R = R0 + G*np.sin(a)**2\n",
    "    else:\n",
    "        R = R0 + G*np.sin(a)**2 + F*(np.tan(a)**2-np.sin(a)**2)\n",
    "    if terms:\n",
    "        return R,R0,G\n",
    "    else:\n",
    "        return R"
   ]
  },
  {
   "cell_type": "markdown",
   "metadata": {},
   "source": [
    "The four main functions are `make_avoclasses` (plots a reference chart with the AVO classes), `avomod1` (creation of AVO curves, synthetic gather and Intercept-Gradient crossplot for a half-space model), `avomod2` (like the previous but allows for two different configurations for the lower medium, usually different fluids), `make_avo_explorer` (uses `avomod2` to give ... a simple selection to plot the reference AVO classes given by Hilterman (2001) for shale/brine sand scenarios and performs fluid replacement to make gas and oil sands)"
   ]
  },
  {
   "cell_type": "code",
   "execution_count": 4,
   "metadata": {},
   "outputs": [],
   "source": [
    "def make_avoclasses(brine=False):\n",
    "    '''\n",
    "    written by Alessandro Amato del Monte, 2016\n",
    "    '''\n",
    "    ang = np.arange(0,50,1)\n",
    "    cc = ['m','c','r','g']\n",
    "    f,ax=plt.subplots(1,2, figsize=(10, 5))\n",
    "    if brine:\n",
    "        print('In the Intercept-Gradient crossplot, circles are gas sands, squares are brine sands.')\n",
    "    for i, val in enumerate(avocl):\n",
    "        amp0 = shuey(shale[i,0],shale[i,1],shale[i,2],ssbri[i,0],ssbri[i,1],ssbri[i,2],ang)\n",
    "        amp1 = shuey(shale[i,0],shale[i,1],shale[i,2],ssgas[i,0],ssgas[i,1],ssgas[i,2],ang)\n",
    "        tmp0 = shuey(shale[i,0],shale[i,1],shale[i,2],ssbri[i,0],ssbri[i,1],ssbri[i,2],30,terms=True)\n",
    "        tmp1 = shuey(shale[i,0],shale[i,1],shale[i,2],ssgas[i,0],ssgas[i,1],ssgas[i,2],30,terms=True)\n",
    "        Ib, Gb = tmp0[1],tmp0[2]\n",
    "        Ig, Gg = tmp1[1],tmp1[2]\n",
    "        ax[0].plot(ang, amp1, color=cc[i], lw=2, ls='-', label=val+' (gas)')\n",
    "        ax[0].axhline(0, color='k')\n",
    "        ax[0].set_xlabel('angle of incidence'), ax[0].set_ylabel('amplitude')\n",
    "        ax[0].set_xlim(0, 40)\n",
    "        ax[0].text(2,amp1[0]-.02,avocl[i], style='italic', fontsize=10, ha='left', va='top')\n",
    "        ax[1].plot(Ig, Gg, color=cc[i], marker='o', ms=10, label=val+' (gas)')\n",
    "        ax[1].axhline(0, color='k'), ax[1].axvline(0, color='k')\n",
    "        ax[1].set_xlabel('intercept'), ax[1].set_ylabel('gradient')\n",
    "        ax[1].set_xlim(-.5, .5)\n",
    "        if brine:\n",
    "            ax[0].plot(ang, amp0, color=cc[i], lw=2, ls='--', label=val+' (brine)')\n",
    "            ax[1].plot(Ib, Gb, color=cc[i], marker='s', ms=10, label=val+' (brine)')\n",
    "        # draw avo classes areas\n",
    "        cl1_area = patches.Rectangle((0.02,-1),.98,1,edgecolor='None',facecolor='m',alpha=0.2)\n",
    "        cl2_area = patches.Rectangle((-0.02,-1),.04,2,edgecolor='None',facecolor='c',alpha=0.2)\n",
    "        cl3_area = patches.Rectangle((-1,-1),.98,1,edgecolor='None',facecolor='r',alpha=0.2)\n",
    "        cl4_area = patches.Rectangle((-1,0),.98,1,edgecolor='None',facecolor='g',alpha=0.2)\n",
    "        for aa in ax:\n",
    "            aa.grid()\n",
    "            aa.set_ylim(-.5, .5)\n",
    "    background = patches.Polygon([[-1, 1], [1, -1], [1, 1]],facecolor='w')\n",
    "    ax[1].add_patch(cl1_area)\n",
    "    ax[1].add_patch(cl2_area)\n",
    "    ax[1].add_patch(cl3_area)\n",
    "    ax[1].add_patch(cl4_area)\n",
    "    ax[1].add_patch(background)\n",
    "    ax[1].text(.15,-.3,'Class 1',ha='center',va='center',color='m',style='italic')\n",
    "    ax[1].text(0,-.25,'Class 2/2p',ha='center',va='center', color='c',style='italic')\n",
    "    ax[1].text(-.35,-.3,'Class 3',ha='center',va='center', color='r',style='italic')\n",
    "    ax[1].text(-.35,.15,'Class 4',ha='center',va='center', color='g',style='italic')\n",
    "\n",
    "def avomod1(vp1,vs1,rho1,vp2,vs2,rho2,angmin=0,angmax=30,polarity='normal',black=False,mx=0.5):\n",
    "    '''\n",
    "    written by Alessandro Amato del Monte, 2016\n",
    "    '''\n",
    "    n_samples = 500\n",
    "    gain=10\n",
    "    interface=int(n_samples/2)\n",
    "    ang = np.arange(angmin,angmax+1,1)\n",
    "    z = np.arange(n_samples)\n",
    "\n",
    "    # build Ip and Vp/Vs logs\n",
    "    ip, vpvs = (np.zeros(n_samples) for _ in range(2))\n",
    "    ip[:interface] = vp1*rho1\n",
    "    ip[interface:] = vp2*rho2\n",
    "    vpvs[:interface] = vp1/vs1\n",
    "    vpvs[interface:] = vp2/vs2\n",
    "\n",
    "    # calculate avo curve, intercept and gradient\n",
    "    avo = shuey(vp1,vs1,rho1,vp2,vs2,rho2,ang)\n",
    "    _,I,G = shuey(vp1,vs1,rho1,vp2,vs2,rho2,30,terms=True)\n",
    "\n",
    "    # create synthetic gather\n",
    "    _,wavelet = ricker(f=10, length=.250, dt=0.001)\n",
    "    if polarity is not 'normal':\n",
    "        avo *= -1\n",
    "\n",
    "    # builds prestack gather model\n",
    "    rc, syn = (np.zeros((n_samples,ang.size)) for _ in range(2))\n",
    "    rc[interface,:]=  avo\n",
    "    for i in range(ang.size):\n",
    "        syn[:,i] = np.convolve(rc[:,i],wavelet,mode='same')\n",
    "\n",
    "    # do the plot\n",
    "    f=plt.subplots(figsize=(10, 5))\n",
    "    ax0 = plt.subplot2grid((1,7), (0,0), colspan=1)\n",
    "    ax1 = plt.subplot2grid((1,7), (0,1), colspan=1)\n",
    "    ax2 = plt.subplot2grid((1,7), (0,2), colspan=1)\n",
    "    ax3 = plt.subplot2grid((1,7), (0,3), colspan=2)\n",
    "    ax4 = plt.subplot2grid((1,7), (0,5), colspan=2)\n",
    "    ax0.plot(ip, z, '-k', lw=4)\n",
    "    ax0.set_xlabel('AI [m/s*g/cc]')\n",
    "    ax0.margins(x=0.5)\n",
    "    ax1.plot(vpvs, z, '-k', lw=4)\n",
    "    ax1.set_xlabel('Vp/Vs')\n",
    "    ax1.margins(x=0.5)\n",
    "    opz1={'color':'k','linewidth':2}\n",
    "    opz2={'linewidth':0, 'alpha':0.6}\n",
    "    for i in range(0,int(ang.size),10):\n",
    "        trace=gain*syn[:,i] / np.max(np.abs(syn))\n",
    "        ax2.plot(i+trace,z,**opz1)\n",
    "        if black==False:\n",
    "            ax2.fill_betweenx(z,trace+i,i,where=trace+i>i,facecolor=[0.6,0.6,1.0],**opz2)\n",
    "            ax2.fill_betweenx(z,trace+i,i,where=trace+i<i,facecolor=[1.0,0.7,0.7],**opz2)\n",
    "        else:\n",
    "            ax2.fill_betweenx(z,trace+i,i,where=trace+i>i,facecolor='black',**opz2)\n",
    "        ax2.set_xticklabels([])\n",
    "    ax2.margins(x=0.05)\n",
    "    ax3.plot(ang, avo,'-k', lw=4)\n",
    "    ax3.axhline(0, color='k', lw=1)\n",
    "    ax3.set_xlabel('angle of incidence')\n",
    "    ax3.set_ylim(-mx,mx)\n",
    "    ax4.plot(I,G,'ko',ms=10,mfc='none',mew=2)\n",
    "    ax4.axhline(0, color='k', lw=1), ax4.axvline(0, color='k', lw=1)\n",
    "    ax4.set_xlabel('intercept'), ax4.set_ylabel('gradient')\n",
    "    ax4.set_xlim(-mx,mx), ax4.set_ylim(-mx,mx)\n",
    "    ax4.xaxis.set_label_position('top'), ax4.xaxis.tick_top()\n",
    "    ax4.yaxis.set_label_position('right'), ax4.yaxis.tick_right()\n",
    "    for aa in [ax0, ax1, ax2]:\n",
    "        aa.invert_yaxis()\n",
    "        aa.xaxis.tick_top()\n",
    "        plt.setp(aa.xaxis.get_majorticklabels(), rotation=90, fontsize=8)\n",
    "        aa.set_yticklabels([])\n",
    "    plt.tight_layout()\n",
    "\n",
    "def avomod2(vp1,vs1,rho1,vp2A,vs2A,rho2A,vp2B,vs2B,rho2B,angmin=0,angmax=30):\n",
    "    '''\n",
    "    written by Alessandro Amato del Monte, 2016\n",
    "    '''\n",
    "    n_samples = 500\n",
    "    interface = int(n_samples/2)\n",
    "    ang = np.arange(angmin,angmax+1,1)\n",
    "    z = np.arange(n_samples)\n",
    "\n",
    "    # builds Ip and Vp/Vs logs\n",
    "    ipA,ipB,vpvsA,vpvsB = (np.zeros(n_samples) for _ in range(4))\n",
    "    ipA[:interface] = vp1*rho1\n",
    "    ipA[interface:] = vp2A*rho2A\n",
    "    ipB[:interface] = vp1*rho1\n",
    "    ipB[interface:] = vp2B*rho2B\n",
    "    vpvsA[:interface] = vp1/vs1\n",
    "    vpvsA[interface:] = vp2A/vs2A\n",
    "    vpvsB[:interface] = vp1/vs1\n",
    "    vpvsB[interface:] = vp2B/vs2B\n",
    "\n",
    "    # calculates avo curve, intercept and gradient\n",
    "    avoA = shuey(vp1,vs1,rho1,vp2A,vs2A,rho2A,ang)\n",
    "    avoB = shuey(vp1,vs1,rho1,vp2B,vs2B,rho2B,ang)\n",
    "    tmp0= shuey(vp1,vs1,rho1,vp2A,vs2A,rho2A,30,terms=True)\n",
    "    IA, GA = tmp0[1],tmp0[2]\n",
    "    tmp0= shuey(vp1,vs1,rho1,vp2B,vs2B,rho2B,30,terms=True)\n",
    "    IB, GB = tmp0[1],tmp0[2]\n",
    "\n",
    "    # do the plot\n",
    "    f=plt.subplots(figsize=(10, 5))\n",
    "    ax0 = plt.subplot2grid((1,6), (0,0), colspan=1)\n",
    "    ax1 = plt.subplot2grid((1,6), (0,1), colspan=1)\n",
    "    ax2 = plt.subplot2grid((1,6), (0,2), colspan=2)\n",
    "    ax3 = plt.subplot2grid((1,6), (0,4), colspan=2)\n",
    "    ax0.plot(ipB, z, '-r', lw=4)\n",
    "    ax0.plot(ipA, z, '-k', lw=4)\n",
    "    ax0.set_xlabel('AI [m/s*g/cc]')\n",
    "    ax0.margins(x=0.5)\n",
    "    ax1.plot(vpvsB, z, '-r', lw=4)\n",
    "    ax1.plot(vpvsA, z, '-k', lw=4)\n",
    "    ax1.set_xlabel('Vp/Vs')\n",
    "    ax1.margins(x=0.5)\n",
    "    ax2.plot(ang, avoB,'-r', lw=4)\n",
    "    ax2.plot(ang, avoA,'-k', lw=4)\n",
    "    ax2.axhline(0, color='k', lw=1)\n",
    "    ax2.set_xlabel('angle of incidence')\n",
    "    ax2.margins(y=0.5)\n",
    "    ax3.plot(IB,GB,'ro',ms=15,mfc='r',mew=1)\n",
    "    ax3.plot(IA,GA,'ko',ms=15,mfc='k',mew=1)\n",
    "    ax3.axhline(0, color='k', lw=1), ax3.axvline(0, color='k', lw=1)\n",
    "    ax3.set_xlabel('intercept'), ax3.set_ylabel('gradient')\n",
    "    ax3.margins(0.5)\n",
    "    ax3.xaxis.set_label_position('top'), ax3.xaxis.tick_top()\n",
    "    ax3.yaxis.set_label_position('right'), ax3.yaxis.tick_right()\n",
    "    for aa in [ax0, ax1]:\n",
    "        aa.invert_yaxis()\n",
    "        aa.xaxis.tick_top()\n",
    "        plt.setp(aa.xaxis.get_majorticklabels(), rotation=90, fontsize=8)\n",
    "        aa.set_yticklabels([])\n",
    "    plt.tight_layout()\n",
    "\n",
    "def make_avo_explorer(avoclass=3, fluid='gas', phimod=0.0):\n",
    "    '''\n",
    "    written by Alessandro Amato del Monte, 2016\n",
    "    '''\n",
    "    shale = np.array([[3094,1515,2.40], [2643,1167,2.29], [2192,818,2.16], [3240,1620,2.34]])\n",
    "    ssbri = np.array([[4115,2453,2.32,.2], [3048,1595,2.23,.25], [2134,860,2.11,.33], [2590,1060,2.21,.18]])\n",
    "    vp1,vs1,rho1 = shale[avoclass-1,0],shale[avoclass-1,1],shale[avoclass-1,2]\n",
    "    vp2,vs2,rho2 = ssbri[avoclass-1,0],ssbri[avoclass-1,1],ssbri[avoclass-1,2]\n",
    "    phi2 = ssbri[avoclass-1,3]+phimod\n",
    "\n",
    "    # elastic parameters for toy-fluid replacement\n",
    "    k0 = 37.00\n",
    "    rhob, kb = 1.09,  2.20\n",
    "    if fluid is 'gas':\n",
    "        rhof_new, kf_new = 0.40,  0.02 # gas density & bulk modulus\n",
    "    else:\n",
    "        rhof_new, kf_new = 0.80,  1.02 # oil density & bulk modulus\n",
    "\n",
    "    vp2B,vs2B,rho2B,_,_ = gassmann(vp2, vs2, rho2, rhob, kb, rhof_new, kf_new, k0, phi2)\n",
    "\n",
    "    print('Shale:  Vp={:.0f}, Vs={:.0f}, rho={:.2f}'.format(vp1,vs1,rho1))\n",
    "    print('Sand (brine): Vp={:.0f}, Vs={:.0f}, rho={:.2f}, porosity={:.2f}'.format(vp2,vs2,rho2,phi2))\n",
    "    print('Sand ({:s}): Vp={:.0f}, Vs={:.0f}, rho={:.2f}'.format(fluid,vp2B,vs2B,rho2B))\n",
    "\n",
    "    avomod2(vp1,vs1,rho1,vp2,vs2,rho2,vp2B,vs2B,rho2B,angmin=0,angmax=30)"
   ]
  },
  {
   "cell_type": "markdown",
   "metadata": {},
   "source": [
    "## AVO classes\n",
    "\n",
    "The function `make_avoclasses` simply plots all the AVO classes in the amplitude vs angle domain and intercept vs gradient."
   ]
  },
  {
   "cell_type": "code",
   "execution_count": 5,
   "metadata": {},
   "outputs": [
    {
     "data": {
      "image/png": "[encoded data removed]",
      "text/plain": [
       "<Figure size 720x360 with 2 Axes>"
      ]
     },
     "metadata": {
      "image/png": {
       "height": 316,
       "width": 612
      },
      "needs_background": "light"
     },
     "output_type": "display_data"
    }
   ],
   "source": [
    "make_avoclasses()"
   ]
  },
  {
   "cell_type": "markdown",
   "metadata": {},
   "source": [
    "## AVO explorer\n",
    "\n",
    "`avomod1` is the main function that allows the user to explore AVO classes by studying the reflectivity (amplitude) variations with angle of incidence at an interface between two half-spaces.\n",
    "\n",
    "The syntax is:\n",
    "\n",
    "```\n",
    "avomod1(vp1, vs1, rho1, vp2, vs2, rho2, angmin=0, angmax=30, polarity='normal', black=False, mx=0.5)\n",
    "```\n",
    "\n",
    "The upper medium is characterized by the elastic properties `vp1`, `vs1`, `rho1` (P and S-wave velocity in m/s, density in g/cc) and the lower medium by `vp2`, `vs2`, `rho2`.\n",
    "\n",
    "The maximum angle of incidence in degrees is `angmax`.\n",
    "\n",
    "Optional parameters are `polarity` that when set to `normal` means SEG-normal, i.e. increase in acoustic impedance is a peak or positive number; `black` is a boolean flag to draw the synthetic seismogram in black and white when set to `True`, otherwise peaks are blue and troughs are red. Finally, `mx` controls the scale of the intercept and gradient crossplot as well as the vertical scale (i.e., reflection magnitude) of the AVO plot.\n",
    "\n",
    "We can use the elastic properties from the above array defining the various classes or input our own values:"
   ]
  },
  {
   "cell_type": "code",
   "execution_count": 6,
   "metadata": {},
   "outputs": [
    {
     "data": {
      "image/png": "[encoded data removed]",
      "text/plain": [
       "<Figure size 720x360 with 5 Axes>"
      ]
     },
     "metadata": {
      "image/png": {
       "height": 354,
       "width": 713
      },
      "needs_background": "light"
     },
     "output_type": "display_data"
    }
   ],
   "source": [
    "avomod1(shale[2,0],shale[2,1],shale[2,2],ssgas[2,0],ssgas[2,1],ssgas[2,2],angmin=0,angmax=30,polarity='normal',black=True)"
   ]
  },
  {
   "cell_type": "markdown",
   "metadata": {},
   "source": [
    "To make it easier to investigate the predefined AVO classes and how they change according to fluid content and porosity variations, use `make_avo_explorer`, that also allows the user to change the saturating fluid in the sand (lower half-space) and its porosity.\n",
    "\n",
    "In the plot below, *black* is always brine, *red* is either gas or oil according to the selection in the input parameters.\n",
    "\n",
    "Porosity variations should stay within a range of 10% positive or negative variations, i.e. from -0.1 to +0.1."
   ]
  },
  {
   "cell_type": "code",
   "execution_count": 7,
   "metadata": {},
   "outputs": [
    {
     "name": "stdout",
     "output_type": "stream",
     "text": [
      "Shale:  Vp=2192, Vs=818, rho=2.16\n",
      "Sand (brine): Vp=2134, Vs=860, rho=2.11, porosity=0.33\n",
      "Sand (gas): Vp=1521, Vs=911, rho=1.88\n"
     ]
    },
    {
     "data": {
      "image/png": "[encoded data removed]",
      "text/plain": [
       "<Figure size 720x360 with 4 Axes>"
      ]
     },
     "metadata": {
      "image/png": {
       "height": 354,
       "width": 713
      },
      "needs_background": "light"
     },
     "output_type": "display_data"
    }
   ],
   "source": [
    "make_avo_explorer(avoclass=3, fluid='gas', phimod=0)"
   ]
  }
 ],
 "metadata": {
  "anaconda-cloud": {},
  "kernelspec": {
   "display_name": "Python 3",
   "language": "python",
   "name": "python3"
  },
  "language_info": {
   "codemirror_mode": {
    "name": "ipython",
    "version": 3
   },
   "file_extension": ".py",
   "mimetype": "text/x-python",
   "name": "python",
   "nbconvert_exporter": "python",
   "pygments_lexer": "ipython3",
   "version": "3.7.9"
  },
  "widgets": {
   "application/vnd.jupyter.widget-state+json": {
    "state": {
     "0172601727ed474d853f8b2d93a97648": {
      "model_module": "@jupyter-widgets/controls",
      "model_module_version": "1.0.0",
      "model_name": "DescriptionStyleModel",
      "state": {
       "description_width": ""
      }
     },
     "01e0321898e34bc4a6b575f4c53a8f60": {
      "model_module": "@jupyter-widgets/base",
      "model_module_version": "1.0.0",
      "model_name": "LayoutModel",
      "state": {}
     },
     "021d663acf5e45f69e6e96105aed09d9": {
      "model_module": "@jupyter-widgets/controls",
      "model_module_version": "1.0.0",
      "model_name": "SliderStyleModel",
      "state": {
       "description_width": ""
      }
     },
     "02479e00172749b9a3dfb015f4d23832": {
      "model_module": "@jupyter-widgets/base",
      "model_module_version": "1.0.0",
      "model_name": "LayoutModel",
      "state": {}
     },
     "031add3a59f94e72b7edd2765f1a31ab": {
      "model_module": "@jupyter-widgets/controls",
      "model_module_version": "1.0.0",
      "model_name": "FloatSliderModel",
      "state": {
       "description": "mx",
       "layout": "IPY_MODEL_5f8c6ab82680477a92011546f725b3db",
       "max": 1,
       "min": 0.1,
       "step": 0.2,
       "style": "IPY_MODEL_c8dae81936b24d449b31121e7b615199",
       "value": 0.5
      }
     },
     "048a625acce64c75a1c707f1fa659938": {
      "model_module": "@jupyter-widgets/controls",
      "model_module_version": "1.0.0",
      "model_name": "DropdownModel",
      "state": {
       "_options_labels": [
        "Class 1",
        "Class 3",
        "Class 4",
        "Class 2"
       ],
       "description": "avoclass",
       "index": 0,
       "layout": "IPY_MODEL_049ccb4b51104c11b6793ad5f9f3d3ff",
       "style": "IPY_MODEL_bebd82704b034613a1268823242d18ad"
      }
     },
     "049ccb4b51104c11b6793ad5f9f3d3ff": {
      "model_module": "@jupyter-widgets/base",
      "model_module_version": "1.0.0",
      "model_name": "LayoutModel",
      "state": {}
     },
     "056bc4e7f73f4025817c96dc526875ad": {
      "model_module": "@jupyter-widgets/base",
      "model_module_version": "1.0.0",
      "model_name": "LayoutModel",
      "state": {}
     },
     "05f5a57e9a274efe9b7b83015579139a": {
      "model_module": "@jupyter-widgets/base",
      "model_module_version": "1.0.0",
      "model_name": "LayoutModel",
      "state": {}
     },
     "0632a6daa8144fbea9cacfa2404f8067": {
      "model_module": "@jupyter-widgets/base",
      "model_module_version": "1.0.0",
      "model_name": "LayoutModel",
      "state": {}
     },
     "06642f39574a40bd95b8ee0d59754d4c": {
      "model_module": "@jupyter-widgets/controls",
      "model_module_version": "1.0.0",
      "model_name": "VBoxModel",
      "state": {
       "_dom_classes": [
        "widget-interact"
       ],
       "children": [
        "IPY_MODEL_c9452dd31ae54e54a53d3556bef1b50a",
        "IPY_MODEL_5c61e20c47e8455fb2cc1d5270bec7d0",
        "IPY_MODEL_cc4f037eadb54667999a566a6ce82773",
        "IPY_MODEL_f2b61954ba1d4f8094ba4cf2a2b8b2a2"
       ],
       "layout": "IPY_MODEL_9a3fa44da0394b749c0b606e6c59cf0b"
      }
     },
     "069b0dfaba2843a89a3b59bf76ead5f7": {
      "model_module": "@jupyter-widgets/base",
      "model_module_version": "1.0.0",
      "model_name": "LayoutModel",
      "state": {}
     },
     "07db7344624941ee95dfaa6186170458": {
      "model_module": "@jupyter-widgets/controls",
      "model_module_version": "1.0.0",
      "model_name": "SliderStyleModel",
      "state": {
       "description_width": ""
      }
     },
     "081ca725a04a49378bcbd16dfb546c9a": {
      "model_module": "@jupyter-widgets/controls",
      "model_module_version": "1.0.0",
      "model_name": "SliderStyleModel",
      "state": {
       "description_width": ""
      }
     },
     "082c8120f0c34d8789495f8be7d8a22e": {
      "model_module": "@jupyter-widgets/controls",
      "model_module_version": "1.0.0",
      "model_name": "DescriptionStyleModel",
      "state": {
       "description_width": ""
      }
     },
     "099cba0c5b3d4450af7a0d04d0828be1": {
      "model_module": "@jupyter-widgets/controls",
      "model_module_version": "1.0.0",
      "model_name": "IntSliderModel",
      "state": {
       "description": "vs2",
       "layout": "IPY_MODEL_65bf0fabefe643b8b3e44b44ae9f4d94",
       "max": 3000,
       "min": 1000,
       "step": 100,
       "style": "IPY_MODEL_291842d885dc41bcbb40bf092bdbf56b",
       "value": 1000
      }
     },
     "0ac2502c4e13479bb2abbbdbb98db1ca": {
      "model_module": "@jupyter-widgets/controls",
      "model_module_version": "1.0.0",
      "model_name": "DropdownModel",
      "state": {
       "_options_labels": [
        "normal",
        "reverse"
       ],
       "description": "polarity",
       "index": 0,
       "layout": "IPY_MODEL_0632a6daa8144fbea9cacfa2404f8067",
       "style": "IPY_MODEL_4ab5a3ddffe74972bea3428b3c40e8f8"
      }
     },
     "0b0f32c8433c4073bbc7a0813e80dd23": {
      "model_module": "@jupyter-widgets/controls",
      "model_module_version": "1.0.0",
      "model_name": "DescriptionStyleModel",
      "state": {
       "description_width": ""
      }
     },
     "0b1ce970d5cb4909bca264b1617f1ef5": {
      "model_module": "@jupyter-widgets/base",
      "model_module_version": "1.0.0",
      "model_name": "LayoutModel",
      "state": {}
     },
     "0bb4e14f5ca54c488176922ca033d804": {
      "model_module": "@jupyter-widgets/controls",
      "model_module_version": "1.0.0",
      "model_name": "DescriptionStyleModel",
      "state": {
       "description_width": ""
      }
     },
     "0bf5908903c946a6969c908a44959cff": {
      "model_module": "@jupyter-widgets/base",
      "model_module_version": "1.0.0",
      "model_name": "LayoutModel",
      "state": {}
     },
     "0c86d4fa72094acfb593b05ff2822b0d": {
      "model_module": "@jupyter-widgets/base",
      "model_module_version": "1.0.0",
      "model_name": "LayoutModel",
      "state": {}
     },
     "0cbdf966e3a04917abce0a0eaad075b4": {
      "model_module": "@jupyter-widgets/base",
      "model_module_version": "1.0.0",
      "model_name": "LayoutModel",
      "state": {}
     },
     "0cf37ece7f4344bdbb8e33e3cb7c344d": {
      "model_module": "@jupyter-widgets/base",
      "model_module_version": "1.0.0",
      "model_name": "LayoutModel",
      "state": {}
     },
     "0cf6bc1daae548e0abf480c03fd9a392": {
      "model_module": "@jupyter-widgets/base",
      "model_module_version": "1.0.0",
      "model_name": "LayoutModel",
      "state": {}
     },
     "0d8ac9dc675c487c92389f6654a4e854": {
      "model_module": "@jupyter-widgets/controls",
      "model_module_version": "1.0.0",
      "model_name": "SliderStyleModel",
      "state": {
       "description_width": ""
      }
     },
     "0db660b9a0574782a3b630838f576400": {
      "model_module": "@jupyter-widgets/controls",
      "model_module_version": "1.0.0",
      "model_name": "DescriptionStyleModel",
      "state": {
       "description_width": ""
      }
     },
     "10122eb8631b421d932e048636e015c8": {
      "model_module": "@jupyter-widgets/controls",
      "model_module_version": "1.0.0",
      "model_name": "SliderStyleModel",
      "state": {
       "description_width": ""
      }
     },
     "1031bf44fe994155afe673fc0025d392": {
      "model_module": "@jupyter-widgets/base",
      "model_module_version": "1.0.0",
      "model_name": "LayoutModel",
      "state": {}
     },
     "1075d6264e0d4111b219cc28f31f49ea": {
      "model_module": "@jupyter-widgets/controls",
      "model_module_version": "1.0.0",
      "model_name": "CheckboxModel",
      "state": {
       "description": "black",
       "disabled": false,
       "layout": "IPY_MODEL_36da635998364bf6b6026415400ca1b4",
       "style": "IPY_MODEL_1e54d77d81374c45a11f2155a6b5f619",
       "value": false
      }
     },
     "10c9c662ff86425083042bff6586d216": {
      "model_module": "@jupyter-widgets/controls",
      "model_module_version": "1.0.0",
      "model_name": "SliderStyleModel",
      "state": {
       "description_width": ""
      }
     },
     "1325675d806c4becbe4dcac040dd9c36": {
      "model_module": "@jupyter-widgets/base",
      "model_module_version": "1.0.0",
      "model_name": "LayoutModel",
      "state": {}
     },
     "14262d271a7843f2bd3e087ff939510b": {
      "model_module": "@jupyter-widgets/controls",
      "model_module_version": "1.0.0",
      "model_name": "FloatSliderModel",
      "state": {
       "description": "phimod",
       "layout": "IPY_MODEL_451a4a49b6314c149611c470bed6b981",
       "max": 0.1,
       "min": -0.1,
       "step": 0.02,
       "style": "IPY_MODEL_10c9c662ff86425083042bff6586d216"
      }
     },
     "179a17eb700c48b6b6f579f4f23e4380": {
      "model_module": "@jupyter-widgets/base",
      "model_module_version": "1.0.0",
      "model_name": "LayoutModel",
      "state": {}
     },
     "19a49654cfa24b3c9a5b6316e96141a8": {
      "model_module": "@jupyter-widgets/controls",
      "model_module_version": "1.0.0",
      "model_name": "VBoxModel",
      "state": {
       "_dom_classes": [
        "widget-interact"
       ],
       "children": [
        "IPY_MODEL_55ce2901d6514044ad29322704544366",
        "IPY_MODEL_90f146b9cf2243d68126d24a4499b195",
        "IPY_MODEL_887e1e59d59c4c5ca165f6dac8fb2c14",
        "IPY_MODEL_9a15d792d175458b829078c869225963"
       ],
       "layout": "IPY_MODEL_ab905f1941704a9381528ed225eb466c"
      }
     },
     "1aff600b68704734b716d91b81228032": {
      "model_module": "@jupyter-widgets/base",
      "model_module_version": "1.0.0",
      "model_name": "LayoutModel",
      "state": {}
     },
     "1b11333831a747dc8e110953de5a8ce4": {
      "model_module": "@jupyter-widgets/controls",
      "model_module_version": "1.0.0",
      "model_name": "SliderStyleModel",
      "state": {
       "description_width": ""
      }
     },
     "1b90f831167643ce98030704e5d12726": {
      "model_module": "@jupyter-widgets/controls",
      "model_module_version": "1.0.0",
      "model_name": "DescriptionStyleModel",
      "state": {
       "description_width": ""
      }
     },
     "1b99114ea3304a40a9bee373beb60db3": {
      "model_module": "@jupyter-widgets/controls",
      "model_module_version": "1.0.0",
      "model_name": "IntSliderModel",
      "state": {
       "description": "vs1",
       "layout": "IPY_MODEL_6ddde8debaee4a70b2e342b8ce31c3eb",
       "max": 3000,
       "min": 1000,
       "step": 100,
       "style": "IPY_MODEL_b30fcc5f57784ba7b3bf7b7ce823bf23",
       "value": 1000
      }
     },
     "1c02dcb0712d4b5eb5b9780c15c5bb52": {
      "model_module": "@jupyter-widgets/controls",
      "model_module_version": "1.0.0",
      "model_name": "IntSliderModel",
      "state": {
       "description": "vp2",
       "layout": "IPY_MODEL_37bf11d8b9b049879928f71833d8ccc9",
       "max": 6000,
       "min": 1500,
       "step": 100,
       "style": "IPY_MODEL_89f33a50ac0045e58c18c71064707f71",
       "value": 1542
      }
     },
     "1c474e23735944afad56583bc31e1602": {
      "model_module": "@jupyter-widgets/controls",
      "model_module_version": "1.0.0",
      "model_name": "CheckboxModel",
      "state": {
       "description": "black",
       "disabled": false,
       "layout": "IPY_MODEL_1325675d806c4becbe4dcac040dd9c36",
       "style": "IPY_MODEL_0bb4e14f5ca54c488176922ca033d804",
       "value": false
      }
     },
     "1c667fad288e43b5b5def82d1fc07d91": {
      "model_module": "@jupyter-widgets/controls",
      "model_module_version": "1.0.0",
      "model_name": "DescriptionStyleModel",
      "state": {
       "description_width": ""
      }
     },
     "1e1c5d4e98d44c83aab73f4aed8d81eb": {
      "model_module": "@jupyter-widgets/base",
      "model_module_version": "1.0.0",
      "model_name": "LayoutModel",
      "state": {}
     },
     "1e54d77d81374c45a11f2155a6b5f619": {
      "model_module": "@jupyter-widgets/controls",
      "model_module_version": "1.0.0",
      "model_name": "DescriptionStyleModel",
      "state": {
       "description_width": ""
      }
     },
     "1fc42fe6ea9c4c679cd0f8f3728d9458": {
      "model_module": "@jupyter-widgets/controls",
      "model_module_version": "1.0.0",
      "model_name": "SliderStyleModel",
      "state": {
       "description_width": ""
      }
     },
     "20b12a23864b4772926380345928ac44": {
      "model_module": "@jupyter-widgets/controls",
      "model_module_version": "1.0.0",
      "model_name": "SliderStyleModel",
      "state": {
       "description_width": ""
      }
     },
     "2189795b9aff4596b521f55af3907bc1": {
      "model_module": "@jupyter-widgets/controls",
      "model_module_version": "1.0.0",
      "model_name": "IntSliderModel",
      "state": {
       "description": "vs1",
       "layout": "IPY_MODEL_99e2c9047da449159ac9a1408cd68196",
       "max": 3000,
       "min": 1000,
       "step": 100,
       "style": "IPY_MODEL_a06b3ac1d0404fcca5a483a868879f79",
       "value": 1515
      }
     },
     "21a589ce2ac6468d9c45b41b2cbbe9c0": {
      "model_module": "@jupyter-widgets/controls",
      "model_module_version": "1.0.0",
      "model_name": "SliderStyleModel",
      "state": {
       "description_width": ""
      }
     },
     "21bd599117d0432786c2d97add571fd6": {
      "model_module": "@jupyter-widgets/controls",
      "model_module_version": "1.0.0",
      "model_name": "SliderStyleModel",
      "state": {
       "description_width": ""
      }
     },
     "21de7d39d01e43b7b29f4b438642e52d": {
      "model_module": "@jupyter-widgets/base",
      "model_module_version": "1.0.0",
      "model_name": "LayoutModel",
      "state": {}
     },
     "2222b2c334ac49a4aef4b4c727fd9d4e": {
      "model_module": "@jupyter-widgets/controls",
      "model_module_version": "1.0.0",
      "model_name": "SliderStyleModel",
      "state": {
       "description_width": ""
      }
     },
     "225cce39f24f48529280d52f49ab176b": {
      "model_module": "@jupyter-widgets/base",
      "model_module_version": "1.0.0",
      "model_name": "LayoutModel",
      "state": {}
     },
     "231ba3b91d814a94be5eb611408fc454": {
      "model_module": "@jupyter-widgets/base",
      "model_module_version": "1.0.0",
      "model_name": "LayoutModel",
      "state": {}
     },
     "244e805a80c144319817e78550f08417": {
      "model_module": "@jupyter-widgets/base",
      "model_module_version": "1.0.0",
      "model_name": "LayoutModel",
      "state": {}
     },
     "26e0157e0251473cb3c2d60c80c96e55": {
      "model_module": "@jupyter-widgets/controls",
      "model_module_version": "1.0.0",
      "model_name": "IntSliderModel",
      "state": {
       "description": "vs1",
       "layout": "IPY_MODEL_3646d7add3234686b998215d30f7eff8",
       "max": 3000,
       "min": 1000,
       "step": 100,
       "style": "IPY_MODEL_9af1d332c4d34ad0a440882288016515",
       "value": 1000
      }
     },
     "274696cbe3eb4a2d92f69636ee0f0ec9": {
      "model_module": "@jupyter-widgets/base",
      "model_module_version": "1.0.0",
      "model_name": "LayoutModel",
      "state": {}
     },
     "275e14573f204a9baefefd455f32e6c4": {
      "model_module": "@jupyter-widgets/controls",
      "model_module_version": "1.0.0",
      "model_name": "SliderStyleModel",
      "state": {
       "description_width": ""
      }
     },
     "277f4db8405941019ec98f865460e87f": {
      "model_module": "@jupyter-widgets/controls",
      "model_module_version": "1.0.0",
      "model_name": "VBoxModel",
      "state": {
       "_dom_classes": [
        "widget-interact"
       ],
       "layout": "IPY_MODEL_e8bca2ad52434c9d8fcfa3f7a6f1e218"
      }
     },
     "27b832e8781c45b7b24535443d54ed0a": {
      "model_module": "@jupyter-widgets/base",
      "model_module_version": "1.0.0",
      "model_name": "LayoutModel",
      "state": {}
     },
     "27d4917494974fafb777ad5caa448426": {
      "model_module": "@jupyter-widgets/controls",
      "model_module_version": "1.0.0",
      "model_name": "FloatSliderModel",
      "state": {
       "description": "rho2",
       "layout": "IPY_MODEL_8a98a751faf94759947c4a194581ae17",
       "max": 3,
       "min": 1.5,
       "step": 0.1,
       "style": "IPY_MODEL_021d663acf5e45f69e6e96105aed09d9",
       "value": 2.18
      }
     },
     "28bc35051e044f808699dfd9e4373d4c": {
      "model_module": "@jupyter-widgets/base",
      "model_module_version": "1.0.0",
      "model_name": "LayoutModel",
      "state": {}
     },
     "291842d885dc41bcbb40bf092bdbf56b": {
      "model_module": "@jupyter-widgets/controls",
      "model_module_version": "1.0.0",
      "model_name": "SliderStyleModel",
      "state": {
       "description_width": ""
      }
     },
     "297c3ef5c9f34d5ca2b2e34212e3c905": {
      "model_module": "@jupyter-widgets/controls",
      "model_module_version": "1.0.0",
      "model_name": "CheckboxModel",
      "state": {
       "description": "black",
       "disabled": false,
       "layout": "IPY_MODEL_abe6161f6d1844379248cce796e7adf9",
       "style": "IPY_MODEL_9916e71d79004c03b6de048bc29c25b9",
       "value": false
      }
     },
     "29afb096d4d04652b96573b966e5a0cb": {
      "model_module": "@jupyter-widgets/controls",
      "model_module_version": "1.0.0",
      "model_name": "VBoxModel",
      "state": {
       "_dom_classes": [
        "widget-interact"
       ],
       "children": [
        "IPY_MODEL_6637e10bc64048a992cc8f1b73f9ec0a",
        "IPY_MODEL_96c3475b1b1f4a76b431549e2e4b6ec5",
        "IPY_MODEL_4b82a01c3c5c411198b7d4531cacb43c",
        "IPY_MODEL_96c8c312e11b4d2ea3d5f1d6677acd33",
        "IPY_MODEL_2b365b3927b54e8fb7d5de9491b1ddce",
        "IPY_MODEL_27d4917494974fafb777ad5caa448426",
        "IPY_MODEL_9fb9568c71684af884690ecaf99bcb58",
        "IPY_MODEL_b4522e38be0a4d2d9b85889692f35eac",
        "IPY_MODEL_f0ecf998d69a42cfb54356502389debe",
        "IPY_MODEL_8a196dec28cc405cb5f7514f80b6889c",
        "IPY_MODEL_e5761ed97ed04db19a0ab9db8d85c201"
       ],
       "layout": "IPY_MODEL_dadb0646b8004c41863a1a9130eb6f2f"
      }
     },
     "29c1edb475e144c689edc0945ef33baf": {
      "model_module": "@jupyter-widgets/controls",
      "model_module_version": "1.0.0",
      "model_name": "SliderStyleModel",
      "state": {
       "description_width": ""
      }
     },
     "2b365b3927b54e8fb7d5de9491b1ddce": {
      "model_module": "@jupyter-widgets/controls",
      "model_module_version": "1.0.0",
      "model_name": "IntSliderModel",
      "state": {
       "description": "vs2",
       "layout": "IPY_MODEL_9568d3f807a649d2aa9efe5f591086e9",
       "max": 3000,
       "min": 1000,
       "step": 100,
       "style": "IPY_MODEL_92ae5cccbca34c0eb7d7305c0181c55a",
       "value": 2529
      }
     },
     "2b802c870ff94ce1b46b38f13e39572e": {
      "model_module": "@jupyter-widgets/controls",
      "model_module_version": "1.0.0",
      "model_name": "VBoxModel",
      "state": {
       "_dom_classes": [
        "widget-interact"
       ],
       "layout": "IPY_MODEL_f153db1168ab407797290934e3f740ea"
      }
     },
     "2b9d2e16badc4666b19bde86a6ed2866": {
      "model_module": "@jupyter-widgets/controls",
      "model_module_version": "1.0.0",
      "model_name": "SliderStyleModel",
      "state": {
       "description_width": ""
      }
     },
     "2bc40e8eaa5648c78c937030c5a18f48": {
      "model_module": "@jupyter-widgets/controls",
      "model_module_version": "1.0.0",
      "model_name": "DropdownModel",
      "state": {
       "_options_labels": [
        "normal",
        "reverse"
       ],
       "description": "polarity",
       "index": 0,
       "layout": "IPY_MODEL_ce77c793a35249d7a8c93a12bcd4b3bb",
       "style": "IPY_MODEL_35b6b43163b14710989fb1cc7c76b594"
      }
     },
     "2c6ab33fb4ec45858d2f018df17d9e2c": {
      "model_module": "@jupyter-widgets/base",
      "model_module_version": "1.0.0",
      "model_name": "LayoutModel",
      "state": {}
     },
     "2c82c49dc6c34b91aab033f322fe8b43": {
      "model_module": "@jupyter-widgets/controls",
      "model_module_version": "1.0.0",
      "model_name": "FloatSliderModel",
      "state": {
       "description": "rho2",
       "layout": "IPY_MODEL_056bc4e7f73f4025817c96dc526875ad",
       "max": 3,
       "min": 1.5,
       "step": 0.1,
       "style": "IPY_MODEL_5a3bae3efdc54342b407cea39be21e96",
       "value": 1.88
      }
     },
     "3081330f4639437dbc9c7d52634cdd6a": {
      "model_module": "@jupyter-widgets/controls",
      "model_module_version": "1.0.0",
      "model_name": "CheckboxModel",
      "state": {
       "description": "black",
       "disabled": false,
       "layout": "IPY_MODEL_1aff600b68704734b716d91b81228032",
       "style": "IPY_MODEL_b04a55aa48e3412f836f9ee4939f1570",
       "value": false
      }
     },
     "30b06650cf3341da8a84b0069076ba0f": {
      "model_module": "@jupyter-widgets/base",
      "model_module_version": "1.0.0",
      "model_name": "LayoutModel",
      "state": {}
     },
     "310d925960754f48a0e88523e8702c6c": {
      "model_module": "@jupyter-widgets/base",
      "model_module_version": "1.0.0",
      "model_name": "LayoutModel",
      "state": {}
     },
     "3239c7497d804a8abee1ca1605b12f9b": {
      "model_module": "@jupyter-widgets/controls",
      "model_module_version": "1.0.0",
      "model_name": "DropdownModel",
      "state": {
       "_options_labels": [
        "Class 3",
        "Class 2",
        "Class 1",
        "Class 4"
       ],
       "description": "avoclass",
       "index": 0,
       "layout": "IPY_MODEL_427173fd70d145ae80b67a50135d45f9",
       "style": "IPY_MODEL_af75130110464dab9ff2b6438176eefd"
      }
     },
     "3284da3654164cd88f984377caa0b263": {
      "model_module": "@jupyter-widgets/controls",
      "model_module_version": "1.0.0",
      "model_name": "SliderStyleModel",
      "state": {
       "description_width": ""
      }
     },
     "331ae7030e1447bb9e3b94593a051645": {
      "model_module": "@jupyter-widgets/base",
      "model_module_version": "1.0.0",
      "model_name": "LayoutModel",
      "state": {}
     },
     "337cd1a8f13c4a5cb1d25ffe56d59e53": {
      "model_module": "@jupyter-widgets/base",
      "model_module_version": "1.0.0",
      "model_name": "LayoutModel",
      "state": {}
     },
     "345879577c2e4ba098230ac5a32a1e3f": {
      "model_module": "@jupyter-widgets/base",
      "model_module_version": "1.0.0",
      "model_name": "LayoutModel",
      "state": {}
     },
     "35b6b43163b14710989fb1cc7c76b594": {
      "model_module": "@jupyter-widgets/controls",
      "model_module_version": "1.0.0",
      "model_name": "DescriptionStyleModel",
      "state": {
       "description_width": ""
      }
     },
     "362739b3fddf445595200f4f1768a7f1": {
      "model_module": "@jupyter-widgets/base",
      "model_module_version": "1.0.0",
      "model_name": "LayoutModel",
      "state": {}
     },
     "3646d7add3234686b998215d30f7eff8": {
      "model_module": "@jupyter-widgets/base",
      "model_module_version": "1.0.0",
      "model_name": "LayoutModel",
      "state": {}
     },
     "36608beaa6494fa6b229a6378b41ee0f": {
      "model_module": "@jupyter-widgets/output",
      "model_module_version": "1.0.0",
      "model_name": "OutputModel",
      "state": {
       "layout": "IPY_MODEL_90e5d4eb36cc42b09af7c96a1d17c2ba",
       "outputs": [
        {
         "data": {
          "image/png": "iVBORw0KGgoAAAANSUhEUgAAAsgAAAFgCAYAAACmDI9oAAAABHNCSVQICAgIfAhkiAAAAAlwSFlz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\n",
          "text/plain": "<matplotlib.figure.Figure at 0xb2dbbe0>"
         },
         "metadata": {},
         "output_type": "display_data"
        },
        {
         "data": {
          "text/plain": "(array([ 0,  1,  2,  3,  4,  5,  6,  7,  8,  9, 10, 11, 12, 13, 14, 15, 16,\n        17, 18, 19, 20, 21, 22, 23, 24, 25, 26, 27, 28, 29, 30]),\n array([-0.24338299, -0.24341179, -0.24349814, -0.24364195, -0.24384303,\n        -0.24410115, -0.24441598, -0.24478715, -0.24521421, -0.24569662,\n        -0.24623381, -0.24682511, -0.24746982, -0.24816714, -0.24891623,\n        -0.24971616, -0.25056598, -0.25146463, -0.25241104, -0.25340403,\n        -0.25444241, -0.25552491, -0.25665021, -0.25781694, -0.25902367,\n        -0.26026894, -0.26155124, -0.26286899, -0.26422059, -0.2656044 ,\n        -0.26701872]),\n -0.24338298853988244,\n -0.094542937487458734)"
         },
         "metadata": {},
         "output_type": "display_data"
        }
       ]
      }
     },
     "36da635998364bf6b6026415400ca1b4": {
      "model_module": "@jupyter-widgets/base",
      "model_module_version": "1.0.0",
      "model_name": "LayoutModel",
      "state": {}
     },
     "37bf11d8b9b049879928f71833d8ccc9": {
      "model_module": "@jupyter-widgets/base",
      "model_module_version": "1.0.0",
      "model_name": "LayoutModel",
      "state": {}
     },
     "37d028ba6e464ef7ad8ef002732e6daf": {
      "model_module": "@jupyter-widgets/controls",
      "model_module_version": "1.0.0",
      "model_name": "SliderStyleModel",
      "state": {
       "description_width": ""
      }
     },
     "39752e63321f4355946d6b950609c436": {
      "model_module": "@jupyter-widgets/base",
      "model_module_version": "1.0.0",
      "model_name": "LayoutModel",
      "state": {}
     },
     "3a562b37f33a4fa1a6414625c489f9d0": {
      "model_module": "@jupyter-widgets/base",
      "model_module_version": "1.0.0",
      "model_name": "LayoutModel",
      "state": {}
     },
     "3b89b83949e541e999a27c477c0ecf18": {
      "model_module": "@jupyter-widgets/controls",
      "model_module_version": "1.0.0",
      "model_name": "SliderStyleModel",
      "state": {
       "description_width": ""
      }
     },
     "3bbe5063b6844739b6f03a06df66df60": {
      "model_module": "@jupyter-widgets/base",
      "model_module_version": "1.0.0",
      "model_name": "LayoutModel",
      "state": {}
     },
     "3d32ee2711b6422a881e464a3f9e44ed": {
      "model_module": "@jupyter-widgets/controls",
      "model_module_version": "1.0.0",
      "model_name": "SliderStyleModel",
      "state": {
       "description_width": ""
      }
     },
     "3d463f2ee0f94213835bac967c5c20ff": {
      "model_module": "@jupyter-widgets/base",
      "model_module_version": "1.0.0",
      "model_name": "LayoutModel",
      "state": {}
     },
     "3d72d3636aec4a9998c2f5762997640e": {
      "model_module": "@jupyter-widgets/controls",
      "model_module_version": "1.0.0",
      "model_name": "IntSliderModel",
      "state": {
       "description": "vs2",
       "layout": "IPY_MODEL_4233976e310c441b9a4b38e97b2280cd",
       "max": 3000,
       "min": 1000,
       "step": 100,
       "style": "IPY_MODEL_081ca725a04a49378bcbd16dfb546c9a",
       "value": 1000
      }
     },
     "3e0aeb027d6548b093cb40aac35fdd4b": {
      "model_module": "@jupyter-widgets/controls",
      "model_module_version": "1.0.0",
      "model_name": "SliderStyleModel",
      "state": {
       "description_width": ""
      }
     },
     "3fe25999cc7f48feaabd1b4a28a8c842": {
      "model_module": "@jupyter-widgets/base",
      "model_module_version": "1.0.0",
      "model_name": "LayoutModel",
      "state": {}
     },
     "4077d562c7ec4079a8d8438a445c4221": {
      "model_module": "@jupyter-widgets/controls",
      "model_module_version": "1.0.0",
      "model_name": "VBoxModel",
      "state": {
       "_dom_classes": [
        "widget-interact"
       ],
       "children": [
        "IPY_MODEL_7d3815b2d75c44d9b5a8038371f9ad30",
        "IPY_MODEL_a86712049b3c4a7d831d4956cf6e3a63",
        "IPY_MODEL_4a13bac91300450b94292df7194b34b7",
        "IPY_MODEL_1c02dcb0712d4b5eb5b9780c15c5bb52",
        "IPY_MODEL_d8b3a7494dfa420f966f0354cfb6e579",
        "IPY_MODEL_5840660eef0f47b08f05a6ecae262a6b",
        "IPY_MODEL_adaade5525824aba97e6db9e65378dba",
        "IPY_MODEL_5c724a8df8534d72a3a0d7e0a4b56d13",
        "IPY_MODEL_bfedcbc9c97c4af48620767944bcf0b2",
        "IPY_MODEL_cfb34f9574e04fcf8c04e0b4b7f0ae1d",
        "IPY_MODEL_9e2ff8146c454017a09adc83f55a6b0b"
       ],
       "layout": "IPY_MODEL_5c8cfee590514f9daa2ae604f8dcb451"
      }
     },
     "40bd81e3c8e64ccb9c18ccbb4a2b7fcd": {
      "model_module": "@jupyter-widgets/controls",
      "model_module_version": "1.0.0",
      "model_name": "DropdownModel",
      "state": {
       "_options_labels": [
        "normal",
        "reverse"
       ],
       "description": "polarity",
       "index": 1,
       "layout": "IPY_MODEL_ffeec0681b0f4fa79eaa79e921e96241",
       "style": "IPY_MODEL_1b90f831167643ce98030704e5d12726"
      }
     },
     "4233976e310c441b9a4b38e97b2280cd": {
      "model_module": "@jupyter-widgets/base",
      "model_module_version": "1.0.0",
      "model_name": "LayoutModel",
      "state": {}
     },
     "427173fd70d145ae80b67a50135d45f9": {
      "model_module": "@jupyter-widgets/base",
      "model_module_version": "1.0.0",
      "model_name": "LayoutModel",
      "state": {}
     },
     "42c9b6baae864bcd95b25300052a61dd": {
      "model_module": "@jupyter-widgets/controls",
      "model_module_version": "1.0.0",
      "model_name": "IntSliderModel",
      "state": {
       "description": "vp2",
       "layout": "IPY_MODEL_5f580625f2d14abbb1a71c6e856c4f74",
       "max": 6000,
       "min": 1500,
       "step": 100,
       "style": "IPY_MODEL_cb00794eacf94afeab0a14fde4fa912a",
       "value": 4099
      }
     },
     "43aed0262e39416180f3e3842dcf62f9": {
      "model_module": "@jupyter-widgets/base",
      "model_module_version": "1.0.0",
      "model_name": "LayoutModel",
      "state": {}
     },
     "43ff54e40abb49878f402ab85d129457": {
      "model_module": "@jupyter-widgets/controls",
      "model_module_version": "1.0.0",
      "model_name": "DescriptionStyleModel",
      "state": {
       "description_width": ""
      }
     },
     "44a3fed1d1434759a4691da74dbc63eb": {
      "model_module": "@jupyter-widgets/base",
      "model_module_version": "1.0.0",
      "model_name": "LayoutModel",
      "state": {}
     },
     "44b94776b10444f7b366a888da929297": {
      "model_module": "@jupyter-widgets/controls",
      "model_module_version": "1.0.0",
      "model_name": "FloatSliderModel",
      "state": {
       "description": "rho2",
       "layout": "IPY_MODEL_dfa461bc8afe46718c5bb7c9678504a3",
       "max": 3,
       "min": 1.5,
       "step": 0.1,
       "style": "IPY_MODEL_50bd9eac7a4549cdbd10593d94532488",
       "value": 2.18
      }
     },
     "451a4a49b6314c149611c470bed6b981": {
      "model_module": "@jupyter-widgets/base",
      "model_module_version": "1.0.0",
      "model_name": "LayoutModel",
      "state": {}
     },
     "452173adcd5844d6baae1c16400c1f31": {
      "model_module": "@jupyter-widgets/controls",
      "model_module_version": "1.0.0",
      "model_name": "FloatSliderModel",
      "state": {
       "description": "rho1",
       "layout": "IPY_MODEL_75be50378bc54f578dfd4592c9db80ee",
       "max": 3,
       "min": 1.5,
       "step": 0.1,
       "style": "IPY_MODEL_c2fde726c8164bf08d17b79072398df6",
       "value": 2.16
      }
     },
     "453ba06373764fc781571da1700fcb5f": {
      "model_module": "@jupyter-widgets/base",
      "model_module_version": "1.0.0",
      "model_name": "LayoutModel",
      "state": {}
     },
     "45843dcc46a5415692f601d89a68a26d": {
      "model_module": "@jupyter-widgets/base",
      "model_module_version": "1.0.0",
      "model_name": "LayoutModel",
      "state": {}
     },
     "46874e728cca47e4bfb2eb78ce5c9a9d": {
      "model_module": "@jupyter-widgets/controls",
      "model_module_version": "1.0.0",
      "model_name": "VBoxModel",
      "state": {
       "_dom_classes": [
        "widget-interact"
       ],
       "children": [
        "IPY_MODEL_048a625acce64c75a1c707f1fa659938",
        "IPY_MODEL_b363df554e9c4d6dbca2f3375e7184cb",
        "IPY_MODEL_722ca010d71d4bcdb645d731e423a85a",
        "IPY_MODEL_e3f39bdec10f44068a60a2e7fc0deecf"
       ],
       "layout": "IPY_MODEL_345879577c2e4ba098230ac5a32a1e3f"
      }
     },
     "47f7b19933d24ea8ae50ca8baccb2cd4": {
      "model_module": "@jupyter-widgets/controls",
      "model_module_version": "1.0.0",
      "model_name": "SliderStyleModel",
      "state": {
       "description_width": ""
      }
     },
     "490660ab6175460fa9c43d07ff4e49bc": {
      "model_module": "@jupyter-widgets/controls",
      "model_module_version": "1.0.0",
      "model_name": "SliderStyleModel",
      "state": {
       "description_width": ""
      }
     },
     "49d43df80f324063908a4f3d8734dba3": {
      "model_module": "@jupyter-widgets/controls",
      "model_module_version": "1.0.0",
      "model_name": "FloatSliderModel",
      "state": {
       "description": "mx",
       "layout": "IPY_MODEL_88375452e60b4fc7929793ad21afb807",
       "max": 1.5,
       "min": -0.5,
       "step": 0.1,
       "style": "IPY_MODEL_a2bd4be1537843fbb6c6d1798e05153e",
       "value": 0.5
      }
     },
     "4a13bac91300450b94292df7194b34b7": {
      "model_module": "@jupyter-widgets/controls",
      "model_module_version": "1.0.0",
      "model_name": "FloatSliderModel",
      "state": {
       "description": "rho1",
       "layout": "IPY_MODEL_6ef371858c2245059c20884724fd8e9b",
       "max": 3,
       "min": 1.5,
       "step": 0.1,
       "style": "IPY_MODEL_a817e7cad385405c865b3c7bb09b6afd",
       "value": 2.16
      }
     },
     "4ab5a3ddffe74972bea3428b3c40e8f8": {
      "model_module": "@jupyter-widgets/controls",
      "model_module_version": "1.0.0",
      "model_name": "DescriptionStyleModel",
      "state": {
       "description_width": ""
      }
     },
     "4b82a01c3c5c411198b7d4531cacb43c": {
      "model_module": "@jupyter-widgets/controls",
      "model_module_version": "1.0.0",
      "model_name": "FloatSliderModel",
      "state": {
       "description": "rho1",
       "layout": "IPY_MODEL_abd38032788046c6b1325eb9a6fa86a3",
       "max": 3,
       "min": 1.5,
       "step": 0.1,
       "style": "IPY_MODEL_490660ab6175460fa9c43d07ff4e49bc",
       "value": 2.4
      }
     },
     "4bb8dfbb33b14f8c89bd20e7dc2f007d": {
      "model_module": "@jupyter-widgets/base",
      "model_module_version": "1.0.0",
      "model_name": "LayoutModel",
      "state": {}
     },
     "4bc10d174c204cba8483db7ed7255602": {
      "model_module": "@jupyter-widgets/controls",
      "model_module_version": "1.0.0",
      "model_name": "IntSliderModel",
      "state": {
       "description": "vp2",
       "layout": "IPY_MODEL_231ba3b91d814a94be5eb611408fc454",
       "max": 6000,
       "min": 1500,
       "step": 100,
       "style": "IPY_MODEL_70644588fdac45ec8a8fe1875a578e01",
       "value": 1542
      }
     },
     "4d06fcae9cb54077abdf3f965d373347": {
      "model_module": "@jupyter-widgets/controls",
      "model_module_version": "1.0.0",
      "model_name": "DescriptionStyleModel",
      "state": {
       "description_width": ""
      }
     },
     "50bd9eac7a4549cdbd10593d94532488": {
      "model_module": "@jupyter-widgets/controls",
      "model_module_version": "1.0.0",
      "model_name": "SliderStyleModel",
      "state": {
       "description_width": ""
      }
     },
     "532eb043c3964248ab9edc4a498092e1": {
      "model_module": "@jupyter-widgets/output",
      "model_module_version": "1.0.0",
      "model_name": "OutputModel",
      "state": {
       "layout": "IPY_MODEL_5f4aa462e8ef43459664973ae4d12811",
       "outputs": [
        {
         "data": {
          "application/javascript": "/* Put everything inside the global mpl namespace */\nwindow.mpl = {};\n\n\nmpl.get_websocket_type = function() {\n    if (typeof(WebSocket) !== 'undefined') {\n        return WebSocket;\n    } else if (typeof(MozWebSocket) !== 'undefined') {\n        return MozWebSocket;\n    } else {\n        alert('Your browser does not have WebSocket support.' +\n              'Please try Chrome, Safari or Firefox ≥ 6. ' +\n              'Firefox 4 and 5 are also supported but you ' +\n              'have to enable WebSockets in about:config.');\n    };\n}\n\nmpl.figure = function(figure_id, websocket, ondownload, parent_element) {\n    this.id = figure_id;\n\n    this.ws = websocket;\n\n    this.supports_binary = (this.ws.binaryType != undefined);\n\n    if (!this.supports_binary) {\n        var warnings = document.getElementById(\"mpl-warnings\");\n        if (warnings) {\n            warnings.style.display = 'block';\n            warnings.textContent = (\n                \"This browser does not support binary websocket messages. \" +\n                    \"Performance may be slow.\");\n        }\n    }\n\n    this.imageObj = new Image();\n\n    this.context = undefined;\n    this.message = undefined;\n    this.canvas = undefined;\n    this.rubberband_canvas = undefined;\n    this.rubberband_context = undefined;\n    this.format_dropdown = undefined;\n\n    this.image_mode = 'full';\n\n    this.root = $('<div/>');\n    this._root_extra_style(this.root)\n    this.root.attr('style', 'display: inline-block');\n\n    $(parent_element).append(this.root);\n\n    this._init_header(this);\n    this._init_canvas(this);\n    this._init_toolbar(this);\n\n    var fig = this;\n\n    this.waiting = false;\n\n    this.ws.onopen =  function () {\n            fig.send_message(\"supports_binary\", {value: fig.supports_binary});\n            fig.send_message(\"send_image_mode\", {});\n            if (mpl.ratio != 1) {\n                fig.send_message(\"set_dpi_ratio\", {'dpi_ratio': mpl.ratio});\n            }\n            fig.send_message(\"refresh\", {});\n        }\n\n    this.imageObj.onload = function() {\n            if (fig.image_mode == 'full') {\n                // Full images could contain transparency (where diff images\n                // almost always do), so we need to clear the canvas so that\n                // there is no ghosting.\n                fig.context.clearRect(0, 0, fig.canvas.width, fig.canvas.height);\n            }\n            fig.context.drawImage(fig.imageObj, 0, 0);\n        };\n\n    this.imageObj.onunload = function() {\n        this.ws.close();\n    }\n\n    this.ws.onmessage = this._make_on_message_function(this);\n\n    this.ondownload = ondownload;\n}\n\nmpl.figure.prototype._init_header = function() {\n    var titlebar = $(\n        '<div class=\"ui-dialog-titlebar ui-widget-header ui-corner-all ' +\n        'ui-helper-clearfix\"/>');\n    var titletext = $(\n        '<div class=\"ui-dialog-title\" style=\"width: 100%; ' +\n        'text-align: center; padding: 3px;\"/>');\n    titlebar.append(titletext)\n    this.root.append(titlebar);\n    this.header = titletext[0];\n}\n\n\n\nmpl.figure.prototype._canvas_extra_style = function(canvas_div) {\n\n}\n\n\nmpl.figure.prototype._root_extra_style = function(canvas_div) {\n\n}\n\nmpl.figure.prototype._init_canvas = function() {\n    var fig = this;\n\n    var canvas_div = $('<div/>');\n\n    canvas_div.attr('style', 'position: relative; clear: both; outline: 0');\n\n    function canvas_keyboard_event(event) {\n        return fig.key_event(event, event['data']);\n    }\n\n    canvas_div.keydown('key_press', canvas_keyboard_event);\n    canvas_div.keyup('key_release', canvas_keyboard_event);\n    this.canvas_div = canvas_div\n    this._canvas_extra_style(canvas_div)\n    this.root.append(canvas_div);\n\n    var canvas = $('<canvas/>');\n    canvas.addClass('mpl-canvas');\n    canvas.attr('style', \"left: 0; top: 0; z-index: 0; outline: 0\")\n\n    this.canvas = canvas[0];\n    this.context = canvas[0].getContext(\"2d\");\n\n    var backingStore = this.context.backingStorePixelRatio ||\n\tthis.context.webkitBackingStorePixelRatio ||\n\tthis.context.mozBackingStorePixelRatio ||\n\tthis.context.msBackingStorePixelRatio ||\n\tthis.context.oBackingStorePixelRatio ||\n\tthis.context.backingStorePixelRatio || 1;\n\n    mpl.ratio = (window.devicePixelRatio || 1) / backingStore;\n\n    var rubberband = $('<canvas/>');\n    rubberband.attr('style', \"position: absolute; left: 0; top: 0; z-index: 1;\")\n\n    var pass_mouse_events = true;\n\n    canvas_div.resizable({\n        start: function(event, ui) {\n            pass_mouse_events = false;\n        },\n        resize: function(event, ui) {\n            fig.request_resize(ui.size.width, ui.size.height);\n        },\n        stop: function(event, ui) {\n            pass_mouse_events = true;\n            fig.request_resize(ui.size.width, ui.size.height);\n        },\n    });\n\n    function mouse_event_fn(event) {\n        if (pass_mouse_events)\n            return fig.mouse_event(event, event['data']);\n    }\n\n    rubberband.mousedown('button_press', mouse_event_fn);\n    rubberband.mouseup('button_release', mouse_event_fn);\n    // Throttle sequential mouse events to 1 every 20ms.\n    rubberband.mousemove('motion_notify', mouse_event_fn);\n\n    rubberband.mouseenter('figure_enter', mouse_event_fn);\n    rubberband.mouseleave('figure_leave', mouse_event_fn);\n\n    canvas_div.on(\"wheel\", function (event) {\n        event = event.originalEvent;\n        event['data'] = 'scroll'\n        if (event.deltaY < 0) {\n            event.step = 1;\n        } else {\n            event.step = -1;\n        }\n        mouse_event_fn(event);\n    });\n\n    canvas_div.append(canvas);\n    canvas_div.append(rubberband);\n\n    this.rubberband = rubberband;\n    this.rubberband_canvas = rubberband[0];\n    this.rubberband_context = rubberband[0].getContext(\"2d\");\n    this.rubberband_context.strokeStyle = \"#000000\";\n\n    this._resize_canvas = function(width, height) {\n        // Keep the size of the canvas, canvas container, and rubber band\n        // canvas in synch.\n        canvas_div.css('width', width)\n        canvas_div.css('height', height)\n\n        canvas.attr('width', width * mpl.ratio);\n        canvas.attr('height', height * mpl.ratio);\n        canvas.attr('style', 'width: ' + width + 'px; height: ' + height + 'px;');\n\n        rubberband.attr('width', width);\n        rubberband.attr('height', height);\n    }\n\n    // Set the figure to an initial 600x600px, this will subsequently be updated\n    // upon first draw.\n    this._resize_canvas(600, 600);\n\n    // Disable right mouse context menu.\n    $(this.rubberband_canvas).bind(\"contextmenu\",function(e){\n        return false;\n    });\n\n    function set_focus () {\n        canvas.focus();\n        canvas_div.focus();\n    }\n\n    window.setTimeout(set_focus, 100);\n}\n\nmpl.figure.prototype._init_toolbar = function() {\n    var fig = this;\n\n    var nav_element = $('<div/>')\n    nav_element.attr('style', 'width: 100%');\n    this.root.append(nav_element);\n\n    // Define a callback function for later on.\n    function toolbar_event(event) {\n        return fig.toolbar_button_onclick(event['data']);\n    }\n    function toolbar_mouse_event(event) {\n        return fig.toolbar_button_onmouseover(event['data']);\n    }\n\n    for(var toolbar_ind in mpl.toolbar_items) {\n        var name = mpl.toolbar_items[toolbar_ind][0];\n        var tooltip = mpl.toolbar_items[toolbar_ind][1];\n        var image = mpl.toolbar_items[toolbar_ind][2];\n        var method_name = mpl.toolbar_items[toolbar_ind][3];\n\n        if (!name) {\n            // put a spacer in here.\n            continue;\n        }\n        var button = $('<button/>');\n        button.addClass('ui-button ui-widget ui-state-default ui-corner-all ' +\n                        'ui-button-icon-only');\n        button.attr('role', 'button');\n        button.attr('aria-disabled', 'false');\n        button.click(method_name, toolbar_event);\n        button.mouseover(tooltip, toolbar_mouse_event);\n\n        var icon_img = $('<span/>');\n        icon_img.addClass('ui-button-icon-primary ui-icon');\n        icon_img.addClass(image);\n        icon_img.addClass('ui-corner-all');\n\n        var tooltip_span = $('<span/>');\n        tooltip_span.addClass('ui-button-text');\n        tooltip_span.html(tooltip);\n\n        button.append(icon_img);\n        button.append(tooltip_span);\n\n        nav_element.append(button);\n    }\n\n    var fmt_picker_span = $('<span/>');\n\n    var fmt_picker = $('<select/>');\n    fmt_picker.addClass('mpl-toolbar-option ui-widget ui-widget-content');\n    fmt_picker_span.append(fmt_picker);\n    nav_element.append(fmt_picker_span);\n    this.format_dropdown = fmt_picker[0];\n\n    for (var ind in mpl.extensions) {\n        var fmt = mpl.extensions[ind];\n        var option = $(\n            '<option/>', {selected: fmt === mpl.default_extension}).html(fmt);\n        fmt_picker.append(option)\n    }\n\n    // Add hover states to the ui-buttons\n    $( \".ui-button\" ).hover(\n        function() { $(this).addClass(\"ui-state-hover\");},\n        function() { $(this).removeClass(\"ui-state-hover\");}\n    );\n\n    var status_bar = $('<span class=\"mpl-message\"/>');\n    nav_element.append(status_bar);\n    this.message = status_bar[0];\n}\n\nmpl.figure.prototype.request_resize = function(x_pixels, y_pixels) {\n    // Request matplotlib to resize the figure. Matplotlib will then trigger a resize in the client,\n    // which will in turn request a refresh of the image.\n    this.send_message('resize', {'width': x_pixels, 'height': y_pixels});\n}\n\nmpl.figure.prototype.send_message = function(type, properties) {\n    properties['type'] = type;\n    properties['figure_id'] = this.id;\n    this.ws.send(JSON.stringify(properties));\n}\n\nmpl.figure.prototype.send_draw_message = function() {\n    if (!this.waiting) {\n        this.waiting = true;\n        this.ws.send(JSON.stringify({type: \"draw\", figure_id: this.id}));\n    }\n}\n\n\nmpl.figure.prototype.handle_save = function(fig, msg) {\n    var format_dropdown = fig.format_dropdown;\n    var format = format_dropdown.options[format_dropdown.selectedIndex].value;\n    fig.ondownload(fig, format);\n}\n\n\nmpl.figure.prototype.handle_resize = function(fig, msg) {\n    var size = msg['size'];\n    if (size[0] != fig.canvas.width || size[1] != fig.canvas.height) {\n        fig._resize_canvas(size[0], size[1]);\n        fig.send_message(\"refresh\", {});\n    };\n}\n\nmpl.figure.prototype.handle_rubberband = function(fig, msg) {\n    var x0 = msg['x0'] / mpl.ratio;\n    var y0 = (fig.canvas.height - msg['y0']) / mpl.ratio;\n    var x1 = msg['x1'] / mpl.ratio;\n    var y1 = (fig.canvas.height - msg['y1']) / mpl.ratio;\n    x0 = Math.floor(x0) + 0.5;\n    y0 = Math.floor(y0) + 0.5;\n    x1 = Math.floor(x1) + 0.5;\n    y1 = Math.floor(y1) + 0.5;\n    var min_x = Math.min(x0, x1);\n    var min_y = Math.min(y0, y1);\n    var width = Math.abs(x1 - x0);\n    var height = Math.abs(y1 - y0);\n\n    fig.rubberband_context.clearRect(\n        0, 0, fig.canvas.width, fig.canvas.height);\n\n    fig.rubberband_context.strokeRect(min_x, min_y, width, height);\n}\n\nmpl.figure.prototype.handle_figure_label = function(fig, msg) {\n    // Updates the figure title.\n    fig.header.textContent = msg['label'];\n}\n\nmpl.figure.prototype.handle_cursor = function(fig, msg) {\n    var cursor = msg['cursor'];\n    switch(cursor)\n    {\n    case 0:\n        cursor = 'pointer';\n        break;\n    case 1:\n        cursor = 'default';\n        break;\n    case 2:\n        cursor = 'crosshair';\n        break;\n    case 3:\n        cursor = 'move';\n        break;\n    }\n    fig.rubberband_canvas.style.cursor = cursor;\n}\n\nmpl.figure.prototype.handle_message = function(fig, msg) {\n    fig.message.textContent = msg['message'];\n}\n\nmpl.figure.prototype.handle_draw = function(fig, msg) {\n    // Request the server to send over a new figure.\n    fig.send_draw_message();\n}\n\nmpl.figure.prototype.handle_image_mode = function(fig, msg) {\n    fig.image_mode = msg['mode'];\n}\n\nmpl.figure.prototype.updated_canvas_event = function() {\n    // Called whenever the canvas gets updated.\n    this.send_message(\"ack\", {});\n}\n\n// A function to construct a web socket function for onmessage handling.\n// Called in the figure constructor.\nmpl.figure.prototype._make_on_message_function = function(fig) {\n    return function socket_on_message(evt) {\n        if (evt.data instanceof Blob) {\n            /* FIXME: We get \"Resource interpreted as Image but\n             * transferred with MIME type text/plain:\" errors on\n             * Chrome.  But how to set the MIME type?  It doesn't seem\n             * to be part of the websocket stream */\n            evt.data.type = \"image/png\";\n\n            /* Free the memory for the previous frames */\n            if (fig.imageObj.src) {\n                (window.URL || window.webkitURL).revokeObjectURL(\n                    fig.imageObj.src);\n            }\n\n            fig.imageObj.src = (window.URL || window.webkitURL).createObjectURL(\n                evt.data);\n            fig.updated_canvas_event();\n            fig.waiting = false;\n            return;\n        }\n        else if (typeof evt.data === 'string' && evt.data.slice(0, 21) == \"data:image/png;base64\") {\n            fig.imageObj.src = evt.data;\n            fig.updated_canvas_event();\n            fig.waiting = false;\n            return;\n        }\n\n        var msg = JSON.parse(evt.data);\n        var msg_type = msg['type'];\n\n        // Call the  \"handle_{type}\" callback, which takes\n        // the figure and JSON message as its only arguments.\n        try {\n            var callback = fig[\"handle_\" + msg_type];\n        } catch (e) {\n            console.log(\"No handler for the '\" + msg_type + \"' message type: \", msg);\n            return;\n        }\n\n        if (callback) {\n            try {\n                // console.log(\"Handling '\" + msg_type + \"' message: \", msg);\n                callback(fig, msg);\n            } catch (e) {\n                console.log(\"Exception inside the 'handler_\" + msg_type + \"' callback:\", e, e.stack, msg);\n            }\n        }\n    };\n}\n\n// from http://stackoverflow.com/questions/1114465/getting-mouse-location-in-canvas\nmpl.findpos = function(e) {\n    //this section is from http://www.quirksmode.org/js/events_properties.html\n    var targ;\n    if (!e)\n        e = window.event;\n    if (e.target)\n        targ = e.target;\n    else if (e.srcElement)\n        targ = e.srcElement;\n    if (targ.nodeType == 3) // defeat Safari bug\n        targ = targ.parentNode;\n\n    // jQuery normalizes the pageX and pageY\n    // pageX,Y are the mouse positions relative to the document\n    // offset() returns the position of the element relative to the document\n    var x = e.pageX - $(targ).offset().left;\n    var y = e.pageY - $(targ).offset().top;\n\n    return {\"x\": x, \"y\": y};\n};\n\n/*\n * return a copy of an object with only non-object keys\n * we need this to avoid circular references\n * http://stackoverflow.com/a/24161582/3208463\n */\nfunction simpleKeys (original) {\n  return Object.keys(original).reduce(function (obj, key) {\n    if (typeof original[key] !== 'object')\n        obj[key] = original[key]\n    return obj;\n  }, {});\n}\n\nmpl.figure.prototype.mouse_event = function(event, name) {\n    var canvas_pos = mpl.findpos(event)\n\n    if (name === 'button_press')\n    {\n        this.canvas.focus();\n        this.canvas_div.focus();\n    }\n\n    var x = canvas_pos.x * mpl.ratio;\n    var y = canvas_pos.y * mpl.ratio;\n\n    this.send_message(name, {x: x, y: y, button: event.button,\n                             step: event.step,\n                             guiEvent: simpleKeys(event)});\n\n    /* This prevents the web browser from automatically changing to\n     * the text insertion cursor when the button is pressed.  We want\n     * to control all of the cursor setting manually through the\n     * 'cursor' event from matplotlib */\n    event.preventDefault();\n    return false;\n}\n\nmpl.figure.prototype._key_event_extra = function(event, name) {\n    // Handle any extra behaviour associated with a key event\n}\n\nmpl.figure.prototype.key_event = function(event, name) {\n\n    // Prevent repeat events\n    if (name == 'key_press')\n    {\n        if (event.which === this._key)\n            return;\n        else\n            this._key = event.which;\n    }\n    if (name == 'key_release')\n        this._key = null;\n\n    var value = '';\n    if (event.ctrlKey && event.which != 17)\n        value += \"ctrl+\";\n    if (event.altKey && event.which != 18)\n        value += \"alt+\";\n    if (event.shiftKey && event.which != 16)\n        value += \"shift+\";\n\n    value += 'k';\n    value += event.which.toString();\n\n    this._key_event_extra(event, name);\n\n    this.send_message(name, {key: value,\n                             guiEvent: simpleKeys(event)});\n    return false;\n}\n\nmpl.figure.prototype.toolbar_button_onclick = function(name) {\n    if (name == 'download') {\n        this.handle_save(this, null);\n    } else {\n        this.send_message(\"toolbar_button\", {name: name});\n    }\n};\n\nmpl.figure.prototype.toolbar_button_onmouseover = function(tooltip) {\n    this.message.textContent = tooltip;\n};\nmpl.toolbar_items = [[\"Home\", \"Reset original view\", \"fa fa-home icon-home\", \"home\"], [\"Back\", \"Back to  previous view\", \"fa fa-arrow-left icon-arrow-left\", \"back\"], [\"Forward\", \"Forward to next view\", \"fa fa-arrow-right icon-arrow-right\", \"forward\"], [\"\", \"\", \"\", \"\"], [\"Pan\", \"Pan axes with left mouse, zoom with right\", \"fa fa-arrows icon-move\", \"pan\"], [\"Zoom\", \"Zoom to rectangle\", \"fa fa-square-o icon-check-empty\", \"zoom\"], [\"\", \"\", \"\", \"\"], [\"Download\", \"Download plot\", \"fa fa-floppy-o icon-save\", \"download\"]];\n\nmpl.extensions = [\"eps\", \"jpeg\", \"pdf\", \"png\", \"ps\", \"raw\", \"svg\", \"tif\"];\n\nmpl.default_extension = \"png\";var comm_websocket_adapter = function(comm) {\n    // Create a \"websocket\"-like object which calls the given IPython comm\n    // object with the appropriate methods. Currently this is a non binary\n    // socket, so there is still some room for performance tuning.\n    var ws = {};\n\n    ws.close = function() {\n        comm.close()\n    };\n    ws.send = function(m) {\n        //console.log('sending', m);\n        comm.send(m);\n    };\n    // Register the callback with on_msg.\n    comm.on_msg(function(msg) {\n        //console.log('receiving', msg['content']['data'], msg);\n        // Pass the mpl event to the overriden (by mpl) onmessage function.\n        ws.onmessage(msg['content']['data'])\n    });\n    return ws;\n}\n\nmpl.mpl_figure_comm = function(comm, msg) {\n    // This is the function which gets called when the mpl process\n    // starts-up an IPython Comm through the \"matplotlib\" channel.\n\n    var id = msg.content.data.id;\n    // Get hold of the div created by the display call when the Comm\n    // socket was opened in Python.\n    var element = $(\"#\" + id);\n    var ws_proxy = comm_websocket_adapter(comm)\n\n    function ondownload(figure, format) {\n        window.open(figure.imageObj.src);\n    }\n\n    var fig = new mpl.figure(id, ws_proxy,\n                           ondownload,\n                           element.get(0));\n\n    // Call onopen now - mpl needs it, as it is assuming we've passed it a real\n    // web socket which is closed, not our websocket->open comm proxy.\n    ws_proxy.onopen();\n\n    fig.parent_element = element.get(0);\n    fig.cell_info = mpl.find_output_cell(\"<div id='\" + id + \"'></div>\");\n    if (!fig.cell_info) {\n        console.error(\"Failed to find cell for figure\", id, fig);\n        return;\n    }\n\n    var output_index = fig.cell_info[2]\n    var cell = fig.cell_info[0];\n\n};\n\nmpl.figure.prototype.handle_close = function(fig, msg) {\n    var width = fig.canvas.width/mpl.ratio\n    fig.root.unbind('remove')\n\n    // Update the output cell to use the data from the current canvas.\n    fig.push_to_output();\n    var dataURL = fig.canvas.toDataURL();\n    // Re-enable the keyboard manager in IPython - without this line, in FF,\n    // the notebook keyboard shortcuts fail.\n    IPython.keyboard_manager.enable()\n    $(fig.parent_element).html('<img src=\"' + dataURL + '\" width=\"' + width + '\">');\n    fig.close_ws(fig, msg);\n}\n\nmpl.figure.prototype.close_ws = function(fig, msg){\n    fig.send_message('closing', msg);\n    // fig.ws.close()\n}\n\nmpl.figure.prototype.push_to_output = function(remove_interactive) {\n    // Turn the data on the canvas into data in the output cell.\n    var width = this.canvas.width/mpl.ratio\n    var dataURL = this.canvas.toDataURL();\n    this.cell_info[1]['text/html'] = '<img src=\"' + dataURL + '\" width=\"' + width + '\">';\n}\n\nmpl.figure.prototype.updated_canvas_event = function() {\n    // Tell IPython that the notebook contents must change.\n    IPython.notebook.set_dirty(true);\n    this.send_message(\"ack\", {});\n    var fig = this;\n    // Wait a second, then push the new image to the DOM so\n    // that it is saved nicely (might be nice to debounce this).\n    setTimeout(function () { fig.push_to_output() }, 1000);\n}\n\nmpl.figure.prototype._init_toolbar = function() {\n    var fig = this;\n\n    var nav_element = $('<div/>')\n    nav_element.attr('style', 'width: 100%');\n    this.root.append(nav_element);\n\n    // Define a callback function for later on.\n    function toolbar_event(event) {\n        return fig.toolbar_button_onclick(event['data']);\n    }\n    function toolbar_mouse_event(event) {\n        return fig.toolbar_button_onmouseover(event['data']);\n    }\n\n    for(var toolbar_ind in mpl.toolbar_items){\n        var name = mpl.toolbar_items[toolbar_ind][0];\n        var tooltip = mpl.toolbar_items[toolbar_ind][1];\n        var image = mpl.toolbar_items[toolbar_ind][2];\n        var method_name = mpl.toolbar_items[toolbar_ind][3];\n\n        if (!name) { continue; };\n\n        var button = $('<button class=\"btn btn-default\" href=\"#\" title=\"' + name + '\"><i class=\"fa ' + image + ' fa-lg\"></i></button>');\n        button.click(method_name, toolbar_event);\n        button.mouseover(tooltip, toolbar_mouse_event);\n        nav_element.append(button);\n    }\n\n    // Add the status bar.\n    var status_bar = $('<span class=\"mpl-message\" style=\"text-align:right; float: right;\"/>');\n    nav_element.append(status_bar);\n    this.message = status_bar[0];\n\n    // Add the close button to the window.\n    var buttongrp = $('<div class=\"btn-group inline pull-right\"></div>');\n    var button = $('<button class=\"btn btn-mini btn-primary\" href=\"#\" title=\"Stop Interaction\"><i class=\"fa fa-power-off icon-remove icon-large\"></i></button>');\n    button.click(function (evt) { fig.handle_close(fig, {}); } );\n    button.mouseover('Stop Interaction', toolbar_mouse_event);\n    buttongrp.append(button);\n    var titlebar = this.root.find($('.ui-dialog-titlebar'));\n    titlebar.prepend(buttongrp);\n}\n\nmpl.figure.prototype._root_extra_style = function(el){\n    var fig = this\n    el.on(\"remove\", function(){\n\tfig.close_ws(fig, {});\n    });\n}\n\nmpl.figure.prototype._canvas_extra_style = function(el){\n    // this is important to make the div 'focusable\n    el.attr('tabindex', 0)\n    // reach out to IPython and tell the keyboard manager to turn it's self\n    // off when our div gets focus\n\n    // location in version 3\n    if (IPython.notebook.keyboard_manager) {\n        IPython.notebook.keyboard_manager.register_events(el);\n    }\n    else {\n        // location in version 2\n        IPython.keyboard_manager.register_events(el);\n    }\n\n}\n\nmpl.figure.prototype._key_event_extra = function(event, name) {\n    var manager = IPython.notebook.keyboard_manager;\n    if (!manager)\n        manager = IPython.keyboard_manager;\n\n    // Check for shift+enter\n    if (event.shiftKey && event.which == 13) {\n        this.canvas_div.blur();\n        // select the cell after this one\n        var index = IPython.notebook.find_cell_index(this.cell_info[0]);\n        IPython.notebook.select(index + 1);\n    }\n}\n\nmpl.figure.prototype.handle_save = function(fig, msg) {\n    fig.ondownload(fig, null);\n}\n\n\nmpl.find_output_cell = function(html_output) {\n    // Return the cell and output element which can be found *uniquely* in the notebook.\n    // Note - this is a bit hacky, but it is done because the \"notebook_saving.Notebook\"\n    // IPython event is triggered only after the cells have been serialised, which for\n    // our purposes (turning an active figure into a static one), is too late.\n    var cells = IPython.notebook.get_cells();\n    var ncells = cells.length;\n    for (var i=0; i<ncells; i++) {\n        var cell = cells[i];\n        if (cell.cell_type === 'code'){\n            for (var j=0; j<cell.output_area.outputs.length; j++) {\n                var data = cell.output_area.outputs[j];\n                if (data.data) {\n                    // IPython >= 3 moved mimebundle to data attribute of output\n                    data = data.data;\n                }\n                if (data['text/html'] == html_output) {\n                    return [cell, data, j];\n                }\n            }\n        }\n    }\n}\n\n// Register the function which deals with the matplotlib target/channel.\n// The kernel may be null if the page has been refreshed.\nif (IPython.notebook.kernel != null) {\n    IPython.notebook.kernel.comm_manager.register_target('matplotlib', mpl.mpl_figure_comm);\n}\n",
          "text/plain": "<IPython.core.display.Javascript object>"
         },
         "metadata": {},
         "output_type": "display_data"
        },
        {
         "data": {
          "text/html": "<div id='68d4d011-fc5f-4418-b7b8-166f912efc08'></div>",
          "text/plain": "<IPython.core.display.HTML object>"
         },
         "metadata": {},
         "output_type": "display_data"
        }
       ]
      }
     },
     "534a37b4c9074780859d5917d4ec8875": {
      "model_module": "@jupyter-widgets/base",
      "model_module_version": "1.0.0",
      "model_name": "LayoutModel",
      "state": {}
     },
     "539ae06285d645539478fb257d8f8d08": {
      "model_module": "@jupyter-widgets/controls",
      "model_module_version": "1.0.0",
      "model_name": "VBoxModel",
      "state": {
       "_dom_classes": [
        "widget-interact"
       ],
       "children": [
        "IPY_MODEL_bddf0afd64ab4560b23a19b2b1ab5ba3",
        "IPY_MODEL_26e0157e0251473cb3c2d60c80c96e55",
        "IPY_MODEL_e55e846fbf0241428ebd78f2bd06fcc1",
        "IPY_MODEL_4bc10d174c204cba8483db7ed7255602",
        "IPY_MODEL_3d72d3636aec4a9998c2f5762997640e",
        "IPY_MODEL_9db50532a47145978eb06d0d0f040eb4",
        "IPY_MODEL_be027e3f09854c568535959ec580eb41",
        "IPY_MODEL_2bc40e8eaa5648c78c937030c5a18f48",
        "IPY_MODEL_da8e183584fc42bd9859ffd9bb302398",
        "IPY_MODEL_9538dfba30244272af8bb838ae30c1e7",
        "IPY_MODEL_86052fa3b0f44833b61a4ade7c4431f2"
       ],
       "layout": "IPY_MODEL_ea1162bffabc48d98b75bc8963f7ab0d"
      }
     },
     "53d450e84d034f67b1aa3d5f6535ac87": {
      "model_module": "@jupyter-widgets/controls",
      "model_module_version": "1.0.0",
      "model_name": "IntSliderModel",
      "state": {
       "description": "angmax",
       "layout": "IPY_MODEL_b961ee17ff5c422dbafe1a985e35a5db",
       "max": 60,
       "min": 30,
       "step": 10,
       "style": "IPY_MODEL_275e14573f204a9baefefd455f32e6c4",
       "value": 30
      }
     },
     "55ce2901d6514044ad29322704544366": {
      "model_module": "@jupyter-widgets/controls",
      "model_module_version": "1.0.0",
      "model_name": "DropdownModel",
      "state": {
       "_options_labels": [
        "Class 1",
        "Class 2",
        "Class 3",
        "Class 4"
       ],
       "description": "avoclass",
       "index": 2,
       "layout": "IPY_MODEL_0bf5908903c946a6969c908a44959cff",
       "style": "IPY_MODEL_0172601727ed474d853f8b2d93a97648"
      }
     },
     "562377b4620f4dfcbc4a8c6d1910bb4a": {
      "model_module": "@jupyter-widgets/base",
      "model_module_version": "1.0.0",
      "model_name": "LayoutModel",
      "state": {}
     },
     "56b56a663c384772b1e415882acc2425": {
      "model_module": "@jupyter-widgets/controls",
      "model_module_version": "1.0.0",
      "model_name": "SliderStyleModel",
      "state": {
       "description_width": ""
      }
     },
     "5750d4a807734a4fbd6735152dd06219": {
      "model_module": "@jupyter-widgets/base",
      "model_module_version": "1.0.0",
      "model_name": "LayoutModel",
      "state": {}
     },
     "577ffeabf4af41aeabacc6e407c81cc4": {
      "model_module": "@jupyter-widgets/controls",
      "model_module_version": "1.0.0",
      "model_name": "FloatSliderModel",
      "state": {
       "description": "mx",
       "layout": "IPY_MODEL_a72a64d19b4f4121a55638bf5943d6fc",
       "max": 1.5,
       "min": -0.5,
       "step": 0.1,
       "style": "IPY_MODEL_2222b2c334ac49a4aef4b4c727fd9d4e",
       "value": 0.5
      }
     },
     "5840660eef0f47b08f05a6ecae262a6b": {
      "model_module": "@jupyter-widgets/controls",
      "model_module_version": "1.0.0",
      "model_name": "FloatSliderModel",
      "state": {
       "description": "rho2",
       "layout": "IPY_MODEL_cf9c20a6d6f147c2bcc9d1b47fcef314",
       "max": 3,
       "min": 1.5,
       "step": 0.1,
       "style": "IPY_MODEL_c7cfef4bb033452889fdaa56ad99dc24",
       "value": 1.88
      }
     },
     "584c977d0aea4709a41d697b64cffc14": {
      "model_module": "@jupyter-widgets/controls",
      "model_module_version": "1.0.0",
      "model_name": "FloatSliderModel",
      "state": {
       "description": "rho1",
       "layout": "IPY_MODEL_3d463f2ee0f94213835bac967c5c20ff",
       "max": 3,
       "min": 1.5,
       "step": 0.1,
       "style": "IPY_MODEL_c7bb48cf9c5644c5a54b6a22cb471095",
       "value": 2.4
      }
     },
     "5a3bae3efdc54342b407cea39be21e96": {
      "model_module": "@jupyter-widgets/controls",
      "model_module_version": "1.0.0",
      "model_name": "SliderStyleModel",
      "state": {
       "description_width": ""
      }
     },
     "5bc932f8e0e94e98a2c3a3dfd019f89b": {
      "model_module": "@jupyter-widgets/base",
      "model_module_version": "1.0.0",
      "model_name": "LayoutModel",
      "state": {}
     },
     "5c2f4b726eaa4d5398e66049ad47dd4b": {
      "model_module": "@jupyter-widgets/controls",
      "model_module_version": "1.0.0",
      "model_name": "DropdownModel",
      "state": {
       "_options_labels": [
        "normal",
        "reverse"
       ],
       "description": "polarity",
       "index": 0,
       "layout": "IPY_MODEL_8c8d131ca5584465bbc7b4510cde67d0",
       "style": "IPY_MODEL_fb4711ef240d4dc091aa16e905e41063"
      }
     },
     "5c61e20c47e8455fb2cc1d5270bec7d0": {
      "model_module": "@jupyter-widgets/controls",
      "model_module_version": "1.0.0",
      "model_name": "DropdownModel",
      "state": {
       "_options_labels": [
        "oil",
        "gas"
       ],
       "description": "fluid",
       "index": 1,
       "layout": "IPY_MODEL_9c050a9930384d5d8f1a14ae692cb040",
       "style": "IPY_MODEL_c70adc1875c24bcda94bc128c47fd6b6"
      }
     },
     "5c64dd9eae7845e08193697048c980f0": {
      "model_module": "@jupyter-widgets/controls",
      "model_module_version": "1.0.0",
      "model_name": "VBoxModel",
      "state": {
       "_dom_classes": [
        "widget-interact"
       ],
       "children": [
        "IPY_MODEL_a4645273dba6422a86cd8e994ec1290b",
        "IPY_MODEL_8938aecd5f344225b427a16dfe554ec0",
        "IPY_MODEL_d686c658c16d40ac9ede300def48be8c",
        "IPY_MODEL_ad804371dbb548e6ad91db34dda1ed50",
        "IPY_MODEL_b513d254313d43fc9ff8adb90877867e",
        "IPY_MODEL_85d77295a3ff4e1191e7ce009b059804",
        "IPY_MODEL_6bb0379f92244e439d8bcc494cf1f0d0",
        "IPY_MODEL_5c2f4b726eaa4d5398e66049ad47dd4b",
        "IPY_MODEL_e6d8941ce049485fb25989714c713a2c",
        "IPY_MODEL_49d43df80f324063908a4f3d8734dba3",
        "IPY_MODEL_36608beaa6494fa6b229a6378b41ee0f"
       ],
       "layout": "IPY_MODEL_7f77fb00d18b4979a5f0fff0eab3b609"
      }
     },
     "5c724a8df8534d72a3a0d7e0a4b56d13": {
      "model_module": "@jupyter-widgets/controls",
      "model_module_version": "1.0.0",
      "model_name": "DropdownModel",
      "state": {
       "_options_labels": [
        "normal",
        "reverse"
       ],
       "description": "polarity",
       "index": 0,
       "layout": "IPY_MODEL_331ae7030e1447bb9e3b94593a051645",
       "style": "IPY_MODEL_faab96db0d0240ceace951e63bc9d329"
      }
     },
     "5c8cfee590514f9daa2ae604f8dcb451": {
      "model_module": "@jupyter-widgets/base",
      "model_module_version": "1.0.0",
      "model_name": "LayoutModel",
      "state": {}
     },
     "5d166a3950bb432da23235901f420157": {
      "model_module": "@jupyter-widgets/controls",
      "model_module_version": "1.0.0",
      "model_name": "SliderStyleModel",
      "state": {
       "description_width": ""
      }
     },
     "5da9665156934f7798788f0f49666934": {
      "model_module": "@jupyter-widgets/controls",
      "model_module_version": "1.0.0",
      "model_name": "SliderStyleModel",
      "state": {
       "description_width": ""
      }
     },
     "5f4aa462e8ef43459664973ae4d12811": {
      "model_module": "@jupyter-widgets/base",
      "model_module_version": "1.0.0",
      "model_name": "LayoutModel",
      "state": {}
     },
     "5f580625f2d14abbb1a71c6e856c4f74": {
      "model_module": "@jupyter-widgets/base",
      "model_module_version": "1.0.0",
      "model_name": "LayoutModel",
      "state": {}
     },
     "5f8c6ab82680477a92011546f725b3db": {
      "model_module": "@jupyter-widgets/base",
      "model_module_version": "1.0.0",
      "model_name": "LayoutModel",
      "state": {}
     },
     "6038535946014ed7a9ab98b06a6a8ca5": {
      "model_module": "@jupyter-widgets/base",
      "model_module_version": "1.0.0",
      "model_name": "LayoutModel",
      "state": {}
     },
     "60618fe6004f4e7eb1ffb72b3437b971": {
      "model_module": "@jupyter-widgets/controls",
      "model_module_version": "1.0.0",
      "model_name": "IntSliderModel",
      "state": {
       "description": "vp1",
       "layout": "IPY_MODEL_c0530d562bc44715adf78725d6568e4c",
       "max": 6000,
       "min": 1500,
       "step": 100,
       "style": "IPY_MODEL_df865a2bf3e4444d9eeaea4e5ea654d8",
       "value": 2192
      }
     },
     "6149d916d8be489a808c73989522dc15": {
      "model_module": "@jupyter-widgets/controls",
      "model_module_version": "1.0.0",
      "model_name": "SliderStyleModel",
      "state": {
       "description_width": ""
      }
     },
     "6203ea2977b443b183969fe7616fa777": {
      "model_module": "@jupyter-widgets/controls",
      "model_module_version": "1.0.0",
      "model_name": "SliderStyleModel",
      "state": {
       "description_width": ""
      }
     },
     "63e81ff2268345bb88872103712e28f0": {
      "model_module": "@jupyter-widgets/controls",
      "model_module_version": "1.0.0",
      "model_name": "SliderStyleModel",
      "state": {
       "description_width": ""
      }
     },
     "64f3620c0b7f497b83985a110b54b0ff": {
      "model_module": "@jupyter-widgets/controls",
      "model_module_version": "1.0.0",
      "model_name": "FloatSliderModel",
      "state": {
       "description": "rho2",
       "layout": "IPY_MODEL_274696cbe3eb4a2d92f69636ee0f0ec9",
       "max": 3,
       "min": 1.5,
       "step": 0.1,
       "style": "IPY_MODEL_c45f0d87c0b04e758270e6de5332289d",
       "value": 1.88
      }
     },
     "6590c018d198496f8352b6784cc13554": {
      "model_module": "@jupyter-widgets/base",
      "model_module_version": "1.0.0",
      "model_name": "LayoutModel",
      "state": {}
     },
     "65bf0fabefe643b8b3e44b44ae9f4d94": {
      "model_module": "@jupyter-widgets/base",
      "model_module_version": "1.0.0",
      "model_name": "LayoutModel",
      "state": {}
     },
     "65ca5dc914a84117be0c9af7611fb9d8": {
      "model_module": "@jupyter-widgets/base",
      "model_module_version": "1.0.0",
      "model_name": "LayoutModel",
      "state": {}
     },
     "6637e10bc64048a992cc8f1b73f9ec0a": {
      "model_module": "@jupyter-widgets/controls",
      "model_module_version": "1.0.0",
      "model_name": "IntSliderModel",
      "state": {
       "description": "vp1",
       "layout": "IPY_MODEL_5750d4a807734a4fbd6735152dd06219",
       "max": 6000,
       "min": 1500,
       "step": 100,
       "style": "IPY_MODEL_07db7344624941ee95dfaa6186170458",
       "value": 3094
      }
     },
     "672a62c0ac044c3187bd38a58f39f955": {
      "model_module": "@jupyter-widgets/controls",
      "model_module_version": "1.0.0",
      "model_name": "DropdownModel",
      "state": {
       "_options_labels": [
        "oil",
        "gas"
       ],
       "description": "fluid",
       "index": 1,
       "layout": "IPY_MODEL_710311a57bd242bc8a0bec351d9052c3",
       "style": "IPY_MODEL_9c783a3aa153465091a979f56455fce5"
      }
     },
     "674ae89a8e7743e4bac9c4f6a78d6cd1": {
      "model_module": "@jupyter-widgets/base",
      "model_module_version": "1.0.0",
      "model_name": "LayoutModel",
      "state": {}
     },
     "6939407d56a04f5cbfa32cb91659a22a": {
      "model_module": "@jupyter-widgets/base",
      "model_module_version": "1.0.0",
      "model_name": "LayoutModel",
      "state": {}
     },
     "6bb0379f92244e439d8bcc494cf1f0d0": {
      "model_module": "@jupyter-widgets/controls",
      "model_module_version": "1.0.0",
      "model_name": "IntSliderModel",
      "state": {
       "description": "angmax",
       "layout": "IPY_MODEL_562377b4620f4dfcbc4a8c6d1910bb4a",
       "max": 60,
       "min": 30,
       "step": 10,
       "style": "IPY_MODEL_1fc42fe6ea9c4c679cd0f8f3728d9458",
       "value": 30
      }
     },
     "6ddde8debaee4a70b2e342b8ce31c3eb": {
      "model_module": "@jupyter-widgets/base",
      "model_module_version": "1.0.0",
      "model_name": "LayoutModel",
      "state": {}
     },
     "6e6ebebb6ca947c79b96d9c329a4c8af": {
      "model_module": "@jupyter-widgets/base",
      "model_module_version": "1.0.0",
      "model_name": "LayoutModel",
      "state": {}
     },
     "6e952a972cb34661b8713d3ac78890c9": {
      "model_module": "@jupyter-widgets/controls",
      "model_module_version": "1.0.0",
      "model_name": "SliderStyleModel",
      "state": {
       "description_width": ""
      }
     },
     "6ef371858c2245059c20884724fd8e9b": {
      "model_module": "@jupyter-widgets/base",
      "model_module_version": "1.0.0",
      "model_name": "LayoutModel",
      "state": {}
     },
     "6f9588a8d8804370849bfb651a012a42": {
      "model_module": "@jupyter-widgets/controls",
      "model_module_version": "1.0.0",
      "model_name": "FloatSliderModel",
      "state": {
       "description": "rho1",
       "layout": "IPY_MODEL_f4d1f0ac96484dcea49dca3d0493c9f8",
       "max": 3,
       "min": 1.5,
       "step": 0.1,
       "style": "IPY_MODEL_ff912ed480b943febdcefc6dbb7fa902",
       "value": 2.4
      }
     },
     "6fc01961940a4b51a0ce327d56c8215d": {
      "model_module": "@jupyter-widgets/controls",
      "model_module_version": "1.0.0",
      "model_name": "VBoxModel",
      "state": {
       "_dom_classes": [
        "widget-interact"
       ],
       "children": [
        "IPY_MODEL_9c2120e1be194f1391c19cbd2621bd34",
        "IPY_MODEL_841a9e98bcd941deb60fa6480f7f83a7",
        "IPY_MODEL_584c977d0aea4709a41d697b64cffc14",
        "IPY_MODEL_42c9b6baae864bcd95b25300052a61dd",
        "IPY_MODEL_bd18392d3fa14aacb4dd1f9d63273d47",
        "IPY_MODEL_44b94776b10444f7b366a888da929297",
        "IPY_MODEL_c6f0f9c24eb549349989a4d622901332",
        "IPY_MODEL_40bd81e3c8e64ccb9c18ccbb4a2b7fcd",
        "IPY_MODEL_1c474e23735944afad56583bc31e1602",
        "IPY_MODEL_a482f5d0ca034a89bbb15dd99913c89e",
        "IPY_MODEL_532eb043c3964248ab9edc4a498092e1"
       ],
       "layout": "IPY_MODEL_337cd1a8f13c4a5cb1d25ffe56d59e53"
      }
     },
     "70644588fdac45ec8a8fe1875a578e01": {
      "model_module": "@jupyter-widgets/controls",
      "model_module_version": "1.0.0",
      "model_name": "SliderStyleModel",
      "state": {
       "description_width": ""
      }
     },
     "710311a57bd242bc8a0bec351d9052c3": {
      "model_module": "@jupyter-widgets/base",
      "model_module_version": "1.0.0",
      "model_name": "LayoutModel",
      "state": {}
     },
     "71994fc4202e489c9ef6e8ca47cb1022": {
      "model_module": "@jupyter-widgets/controls",
      "model_module_version": "1.0.0",
      "model_name": "FloatSliderModel",
      "state": {
       "description": "phimod",
       "layout": "IPY_MODEL_95d4c0fe59d149eb9150390d28900830",
       "max": 0.1,
       "min": -0.1,
       "step": 0.02,
       "style": "IPY_MODEL_f855bff1fed842ca8fabe27f11190395"
      }
     },
     "71b0cf77b9754e0e92bf661413ccd063": {
      "model_module": "@jupyter-widgets/controls",
      "model_module_version": "1.0.0",
      "model_name": "SliderStyleModel",
      "state": {
       "description_width": ""
      }
     },
     "722ca010d71d4bcdb645d731e423a85a": {
      "model_module": "@jupyter-widgets/controls",
      "model_module_version": "1.0.0",
      "model_name": "FloatSliderModel",
      "state": {
       "description": "phimod",
       "layout": "IPY_MODEL_cb2f0dac32714dfc8fcef8aef84fee08",
       "max": 0.1,
       "min": -0.1,
       "step": 0.02,
       "style": "IPY_MODEL_bc6dff83e7c249498cd8326b8cab1da6"
      }
     },
     "738c63dc10664bedbb478f4c11e82510": {
      "model_module": "@jupyter-widgets/controls",
      "model_module_version": "1.0.0",
      "model_name": "VBoxModel",
      "state": {
       "_dom_classes": [
        "widget-interact"
       ],
       "layout": "IPY_MODEL_362739b3fddf445595200f4f1768a7f1"
      }
     },
     "73941b473daa4ada9578893a20b30c71": {
      "model_module": "@jupyter-widgets/base",
      "model_module_version": "1.0.0",
      "model_name": "LayoutModel",
      "state": {}
     },
     "742e144483fe41b19eba5ba8e0facce3": {
      "model_module": "@jupyter-widgets/controls",
      "model_module_version": "1.0.0",
      "model_name": "IntSliderModel",
      "state": {
       "description": "vp1",
       "layout": "IPY_MODEL_069b0dfaba2843a89a3b59bf76ead5f7",
       "max": 6000,
       "min": 1500,
       "step": 100,
       "style": "IPY_MODEL_c75c5e56337941bf92442ae8a1048e66",
       "value": 2192
      }
     },
     "74d239b263314135b1d2dac1b86bea86": {
      "model_module": "@jupyter-widgets/controls",
      "model_module_version": "1.0.0",
      "model_name": "DropdownModel",
      "state": {
       "_options_labels": [
        "normal",
        "reverse"
       ],
       "description": "polarity",
       "index": 0,
       "layout": "IPY_MODEL_9d3ebc7f74ed4000a298e1514f9756c4",
       "style": "IPY_MODEL_7d1faaa0f73242759af1a0cf8f0a2d1a"
      }
     },
     "759fa80c7317427898462e6686012312": {
      "model_module": "@jupyter-widgets/base",
      "model_module_version": "1.0.0",
      "model_name": "LayoutModel",
      "state": {}
     },
     "75be50378bc54f578dfd4592c9db80ee": {
      "model_module": "@jupyter-widgets/base",
      "model_module_version": "1.0.0",
      "model_name": "LayoutModel",
      "state": {}
     },
     "792b063ad7ee4497b41ce9b3ed8806e9": {
      "model_module": "@jupyter-widgets/base",
      "model_module_version": "1.0.0",
      "model_name": "LayoutModel",
      "state": {}
     },
     "795a8f3756ed499d8b9ffad15ea9fcbb": {
      "model_module": "@jupyter-widgets/base",
      "model_module_version": "1.0.0",
      "model_name": "LayoutModel",
      "state": {}
     },
     "7cf114b916584692ac64e8a3c5156aad": {
      "model_module": "@jupyter-widgets/base",
      "model_module_version": "1.0.0",
      "model_name": "LayoutModel",
      "state": {}
     },
     "7cf40a11fb9d4e10a27d38eb8adf8ace": {
      "model_module": "@jupyter-widgets/controls",
      "model_module_version": "1.0.0",
      "model_name": "FloatSliderModel",
      "state": {
       "description": "rho1",
       "layout": "IPY_MODEL_e32449dc0481428799994e09690d9933",
       "max": 3,
       "min": 1.5,
       "step": 0.1,
       "style": "IPY_MODEL_b6dee7afbec5436d858187117dee4cf2",
       "value": 2.16
      }
     },
     "7d1faaa0f73242759af1a0cf8f0a2d1a": {
      "model_module": "@jupyter-widgets/controls",
      "model_module_version": "1.0.0",
      "model_name": "DescriptionStyleModel",
      "state": {
       "description_width": ""
      }
     },
     "7d3815b2d75c44d9b5a8038371f9ad30": {
      "model_module": "@jupyter-widgets/controls",
      "model_module_version": "1.0.0",
      "model_name": "IntSliderModel",
      "state": {
       "description": "vp1",
       "layout": "IPY_MODEL_8e031ae2c1904c1fa97fcc7426dd6922",
       "max": 6000,
       "min": 1500,
       "step": 100,
       "style": "IPY_MODEL_c271cd2197234b179a73004f37b289bf",
       "value": 2192
      }
     },
     "7d4a8fa343c9429b9494c525960500cd": {
      "model_module": "@jupyter-widgets/base",
      "model_module_version": "1.0.0",
      "model_name": "LayoutModel",
      "state": {}
     },
     "7e62ee0767b94f7c97bcb02bfb241cf3": {
      "model_module": "@jupyter-widgets/base",
      "model_module_version": "1.0.0",
      "model_name": "LayoutModel",
      "state": {}
     },
     "7f02135dee184595bfae7ff52105f893": {
      "model_module": "@jupyter-widgets/controls",
      "model_module_version": "1.0.0",
      "model_name": "IntSliderModel",
      "state": {
       "description": "angmax",
       "layout": "IPY_MODEL_ffd98bfecc0147438e042e960090cf61",
       "max": 60,
       "min": 30,
       "step": 10,
       "style": "IPY_MODEL_cc32d14b00fb434bab18113ad5b114c5",
       "value": 30
      }
     },
     "7f77fb00d18b4979a5f0fff0eab3b609": {
      "model_module": "@jupyter-widgets/base",
      "model_module_version": "1.0.0",
      "model_name": "LayoutModel",
      "state": {}
     },
     "806cc7a3b66c49a09e98801405e26468": {
      "model_module": "@jupyter-widgets/controls",
      "model_module_version": "1.0.0",
      "model_name": "SliderStyleModel",
      "state": {
       "description_width": ""
      }
     },
     "8137afdc457a46f5a1985ab8d1e787ef": {
      "model_module": "@jupyter-widgets/controls",
      "model_module_version": "1.0.0",
      "model_name": "SliderStyleModel",
      "state": {
       "description_width": ""
      }
     },
     "8160dc2b45bf49e2ba1681a384f9c3da": {
      "model_module": "@jupyter-widgets/controls",
      "model_module_version": "1.0.0",
      "model_name": "SliderStyleModel",
      "state": {
       "description_width": ""
      }
     },
     "81d74e8f47b643a8836212074253d5ff": {
      "model_module": "@jupyter-widgets/controls",
      "model_module_version": "1.0.0",
      "model_name": "SliderStyleModel",
      "state": {
       "description_width": ""
      }
     },
     "82aedb43e02d42879570c17cfbf55c5b": {
      "model_module": "@jupyter-widgets/base",
      "model_module_version": "1.0.0",
      "model_name": "LayoutModel",
      "state": {}
     },
     "831658cd267442e88f4ff2c36aaa614e": {
      "model_module": "@jupyter-widgets/base",
      "model_module_version": "1.0.0",
      "model_name": "LayoutModel",
      "state": {}
     },
     "8404eab171cb4872a8dd2a43abdcf5af": {
      "model_module": "@jupyter-widgets/controls",
      "model_module_version": "1.0.0",
      "model_name": "IntSliderModel",
      "state": {
       "description": "angmax",
       "layout": "IPY_MODEL_21de7d39d01e43b7b29f4b438642e52d",
       "max": 60,
       "min": 30,
       "step": 10,
       "style": "IPY_MODEL_e5a52f00a2bd4972ab0cb9ec10c855d8",
       "value": 30
      }
     },
     "841a9e98bcd941deb60fa6480f7f83a7": {
      "model_module": "@jupyter-widgets/controls",
      "model_module_version": "1.0.0",
      "model_name": "IntSliderModel",
      "state": {
       "description": "vs1",
       "layout": "IPY_MODEL_759fa80c7317427898462e6686012312",
       "max": 3000,
       "min": 1000,
       "step": 100,
       "style": "IPY_MODEL_8e9d4459fc5a46779946c9afd47810ca",
       "value": 1515
      }
     },
     "85d77295a3ff4e1191e7ce009b059804": {
      "model_module": "@jupyter-widgets/controls",
      "model_module_version": "1.0.0",
      "model_name": "FloatSliderModel",
      "state": {
       "description": "rho2",
       "layout": "IPY_MODEL_0cbdf966e3a04917abce0a0eaad075b4",
       "max": 3,
       "min": 1.5,
       "step": 0.1,
       "style": "IPY_MODEL_63e81ff2268345bb88872103712e28f0",
       "value": 1.88
      }
     },
     "86052fa3b0f44833b61a4ade7c4431f2": {
      "model_module": "@jupyter-widgets/output",
      "model_module_version": "1.0.0",
      "model_name": "OutputModel",
      "state": {
       "layout": "IPY_MODEL_dd0075f2e22d4fa2bfb44a3321562ceb",
       "outputs": [
        {
         "data": {
          "image/png": "iVBORw0KGgoAAAANSUhEUgAAAsgAAAFgCAYAAACmDI9oAAAABHNCSVQICAgIfAhkiAAAAAlwSFlz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\n1GOBLEmSJPVYIEuSJEk9FsiSJElSz1872BAblLgfJQAAAABJRU5ErkJggg==\n",
          "text/plain": "<matplotlib.figure.Figure at 0xb8460f0>"
         },
         "metadata": {},
         "output_type": "display_data"
        },
        {
         "data": {
          "text/plain": "(array([ 0,  1,  2,  3,  4,  5,  6,  7,  8,  9, 10, 11, 12, 13, 14, 15, 16,\n        17, 18, 19, 20, 21, 22, 23, 24, 25, 26, 27, 28, 29, 30]),\n array([-0.24338299, -0.24341179, -0.24349814, -0.24364195, -0.24384303,\n        -0.24410115, -0.24441598, -0.24478715, -0.24521421, -0.24569662,\n        -0.24623381, -0.24682511, -0.24746982, -0.24816714, -0.24891623,\n        -0.24971616, -0.25056598, -0.25146463, -0.25241104, -0.25340403,\n        -0.25444241, -0.25552491, -0.25665021, -0.25781694, -0.25902367,\n        -0.26026894, -0.26155124, -0.26286899, -0.26422059, -0.2656044 ,\n        -0.26701872]),\n -0.24338298853988244,\n -0.094542937487458734)"
         },
         "metadata": {},
         "output_type": "display_data"
        }
       ]
      }
     },
     "86f66eea978a4e73afb621cc39ce2278": {
      "model_module": "@jupyter-widgets/controls",
      "model_module_version": "1.0.0",
      "model_name": "VBoxModel",
      "state": {
       "_dom_classes": [
        "widget-interact"
       ],
       "children": [
        "IPY_MODEL_3239c7497d804a8abee1ca1605b12f9b",
        "IPY_MODEL_efc3c30cc599458ba13de954bdd8de78",
        "IPY_MODEL_71994fc4202e489c9ef6e8ca47cb1022",
        "IPY_MODEL_d0918e2a8c5c474fadb7e27fe1e0adc8"
       ],
       "layout": "IPY_MODEL_905fd5f6bc8b467b94521395994a45a3"
      }
     },
     "880dd4578341482186ff1e5151bb8740": {
      "model_module": "@jupyter-widgets/base",
      "model_module_version": "1.0.0",
      "model_name": "LayoutModel",
      "state": {}
     },
     "88375452e60b4fc7929793ad21afb807": {
      "model_module": "@jupyter-widgets/base",
      "model_module_version": "1.0.0",
      "model_name": "LayoutModel",
      "state": {}
     },
     "887e1e59d59c4c5ca165f6dac8fb2c14": {
      "model_module": "@jupyter-widgets/controls",
      "model_module_version": "1.0.0",
      "model_name": "FloatSliderModel",
      "state": {
       "description": "phimod",
       "layout": "IPY_MODEL_792b063ad7ee4497b41ce9b3ed8806e9",
       "max": 0.1,
       "min": -0.1,
       "step": 0.02,
       "style": "IPY_MODEL_8160dc2b45bf49e2ba1681a384f9c3da"
      }
     },
     "8938aecd5f344225b427a16dfe554ec0": {
      "model_module": "@jupyter-widgets/controls",
      "model_module_version": "1.0.0",
      "model_name": "IntSliderModel",
      "state": {
       "description": "vs1",
       "layout": "IPY_MODEL_3bbe5063b6844739b6f03a06df66df60",
       "max": 3000,
       "min": 1000,
       "step": 100,
       "style": "IPY_MODEL_29c1edb475e144c689edc0945ef33baf",
       "value": 1000
      }
     },
     "89e42a5eb7b9455fbf481b665ae3af45": {
      "model_module": "@jupyter-widgets/base",
      "model_module_version": "1.0.0",
      "model_name": "LayoutModel",
      "state": {}
     },
     "89f33a50ac0045e58c18c71064707f71": {
      "model_module": "@jupyter-widgets/controls",
      "model_module_version": "1.0.0",
      "model_name": "SliderStyleModel",
      "state": {
       "description_width": ""
      }
     },
     "8a196dec28cc405cb5f7514f80b6889c": {
      "model_module": "@jupyter-widgets/controls",
      "model_module_version": "1.0.0",
      "model_name": "FloatSliderModel",
      "state": {
       "description": "mx",
       "layout": "IPY_MODEL_45843dcc46a5415692f601d89a68a26d",
       "max": 1,
       "min": 0.1,
       "step": 0.2,
       "style": "IPY_MODEL_e76bd6bf93544e19a84c1c25b6f08f30",
       "value": 0.5
      }
     },
     "8a98a751faf94759947c4a194581ae17": {
      "model_module": "@jupyter-widgets/base",
      "model_module_version": "1.0.0",
      "model_name": "LayoutModel",
      "state": {}
     },
     "8b6a07588a254b63a907cd938e4ed37c": {
      "model_module": "@jupyter-widgets/controls",
      "model_module_version": "1.0.0",
      "model_name": "SliderStyleModel",
      "state": {
       "description_width": ""
      }
     },
     "8bf1b201b2744207bbc190d4ff55943e": {
      "model_module": "@jupyter-widgets/controls",
      "model_module_version": "1.0.0",
      "model_name": "IntSliderModel",
      "state": {
       "description": "vp2",
       "layout": "IPY_MODEL_0cf37ece7f4344bdbb8e33e3cb7c344d",
       "max": 6000,
       "min": 1500,
       "step": 100,
       "style": "IPY_MODEL_6149d916d8be489a808c73989522dc15",
       "value": 1542
      }
     },
     "8c788add827744b99bab3275b79b4bed": {
      "model_module": "@jupyter-widgets/controls",
      "model_module_version": "1.0.0",
      "model_name": "DescriptionStyleModel",
      "state": {
       "description_width": ""
      }
     },
     "8c8d131ca5584465bbc7b4510cde67d0": {
      "model_module": "@jupyter-widgets/base",
      "model_module_version": "1.0.0",
      "model_name": "LayoutModel",
      "state": {}
     },
     "8d3320de56a74351b91859c0fa5a428f": {
      "model_module": "@jupyter-widgets/base",
      "model_module_version": "1.0.0",
      "model_name": "LayoutModel",
      "state": {}
     },
     "8d39c8ef0c854651b37e993326597b95": {
      "model_module": "@jupyter-widgets/controls",
      "model_module_version": "1.0.0",
      "model_name": "DropdownModel",
      "state": {
       "_options_labels": [
        "normal",
        "reverse"
       ],
       "description": "polarity",
       "index": 0,
       "layout": "IPY_MODEL_ff082975a563403c8883b1a61726d0b7",
       "style": "IPY_MODEL_0db660b9a0574782a3b630838f576400"
      }
     },
     "8e031ae2c1904c1fa97fcc7426dd6922": {
      "model_module": "@jupyter-widgets/base",
      "model_module_version": "1.0.0",
      "model_name": "LayoutModel",
      "state": {}
     },
     "8e9d4459fc5a46779946c9afd47810ca": {
      "model_module": "@jupyter-widgets/controls",
      "model_module_version": "1.0.0",
      "model_name": "SliderStyleModel",
      "state": {
       "description_width": ""
      }
     },
     "905fd5f6bc8b467b94521395994a45a3": {
      "model_module": "@jupyter-widgets/base",
      "model_module_version": "1.0.0",
      "model_name": "LayoutModel",
      "state": {}
     },
     "90e5d4eb36cc42b09af7c96a1d17c2ba": {
      "model_module": "@jupyter-widgets/base",
      "model_module_version": "1.0.0",
      "model_name": "LayoutModel",
      "state": {}
     },
     "90f146b9cf2243d68126d24a4499b195": {
      "model_module": "@jupyter-widgets/controls",
      "model_module_version": "1.0.0",
      "model_name": "DropdownModel",
      "state": {
       "_options_labels": [
        "oil",
        "gas"
       ],
       "description": "fluid",
       "index": 1,
       "layout": "IPY_MODEL_0b1ce970d5cb4909bca264b1617f1ef5",
       "style": "IPY_MODEL_bbb2f787eb97440d87606ed5907a457d"
      }
     },
     "92ae5cccbca34c0eb7d7305c0181c55a": {
      "model_module": "@jupyter-widgets/controls",
      "model_module_version": "1.0.0",
      "model_name": "SliderStyleModel",
      "state": {
       "description_width": ""
      }
     },
     "9461a34c5e6c4c37a103b7bc3729b4e0": {
      "model_module": "@jupyter-widgets/controls",
      "model_module_version": "1.0.0",
      "model_name": "SliderStyleModel",
      "state": {
       "description_width": ""
      }
     },
     "94c8b767f2fd44d8ab5f236daf648101": {
      "model_module": "@jupyter-widgets/base",
      "model_module_version": "1.0.0",
      "model_name": "LayoutModel",
      "state": {}
     },
     "9538dfba30244272af8bb838ae30c1e7": {
      "model_module": "@jupyter-widgets/controls",
      "model_module_version": "1.0.0",
      "model_name": "FloatSliderModel",
      "state": {
       "description": "mx",
       "layout": "IPY_MODEL_7d4a8fa343c9429b9494c525960500cd",
       "max": 1.5,
       "min": -0.5,
       "step": 0.1,
       "style": "IPY_MODEL_9e4cdb40b8ea492cbbab752788e04218",
       "value": 0.2
      }
     },
     "9568d3f807a649d2aa9efe5f591086e9": {
      "model_module": "@jupyter-widgets/base",
      "model_module_version": "1.0.0",
      "model_name": "LayoutModel",
      "state": {}
     },
     "95d4c0fe59d149eb9150390d28900830": {
      "model_module": "@jupyter-widgets/base",
      "model_module_version": "1.0.0",
      "model_name": "LayoutModel",
      "state": {}
     },
     "966c04ee07d4434bb141d0b13ee6a3ed": {
      "model_module": "@jupyter-widgets/base",
      "model_module_version": "1.0.0",
      "model_name": "LayoutModel",
      "state": {}
     },
     "96c3475b1b1f4a76b431549e2e4b6ec5": {
      "model_module": "@jupyter-widgets/controls",
      "model_module_version": "1.0.0",
      "model_name": "IntSliderModel",
      "state": {
       "description": "vs1",
       "layout": "IPY_MODEL_d2453acad75345b997c15b1683899e63",
       "max": 3000,
       "min": 1000,
       "step": 100,
       "style": "IPY_MODEL_3d32ee2711b6422a881e464a3f9e44ed",
       "value": 1515
      }
     },
     "96c8c312e11b4d2ea3d5f1d6677acd33": {
      "model_module": "@jupyter-widgets/controls",
      "model_module_version": "1.0.0",
      "model_name": "IntSliderModel",
      "state": {
       "description": "vp2",
       "layout": "IPY_MODEL_7cf114b916584692ac64e8a3c5156aad",
       "max": 6000,
       "min": 1500,
       "step": 100,
       "style": "IPY_MODEL_c92f88276b184ada9926c1d585b3ada2",
       "value": 4099
      }
     },
     "986a81abf6b04836a364199c446117b7": {
      "model_module": "@jupyter-widgets/base",
      "model_module_version": "1.0.0",
      "model_name": "LayoutModel",
      "state": {}
     },
     "98929dd889144399a211ce7f787b1d8e": {
      "model_module": "@jupyter-widgets/controls",
      "model_module_version": "1.0.0",
      "model_name": "IntSliderModel",
      "state": {
       "description": "vp2",
       "layout": "IPY_MODEL_bd60b16aa9c74dfab15c095612e6eeeb",
       "max": 6000,
       "min": 1500,
       "step": 100,
       "style": "IPY_MODEL_20b12a23864b4772926380345928ac44",
       "value": 1542
      }
     },
     "98b2186ba2124f9b9c1e977033e30c68": {
      "model_module": "@jupyter-widgets/controls",
      "model_module_version": "1.0.0",
      "model_name": "SliderStyleModel",
      "state": {
       "description_width": ""
      }
     },
     "9916e71d79004c03b6de048bc29c25b9": {
      "model_module": "@jupyter-widgets/controls",
      "model_module_version": "1.0.0",
      "model_name": "DescriptionStyleModel",
      "state": {
       "description_width": ""
      }
     },
     "99e2c9047da449159ac9a1408cd68196": {
      "model_module": "@jupyter-widgets/base",
      "model_module_version": "1.0.0",
      "model_name": "LayoutModel",
      "state": {}
     },
     "9a15d792d175458b829078c869225963": {
      "model_module": "@jupyter-widgets/output",
      "model_module_version": "1.0.0",
      "model_name": "OutputModel",
      "state": {
       "layout": "IPY_MODEL_4bb8dfbb33b14f8c89bd20e7dc2f007d",
       "outputs": [
        {
         "ename": "NameError",
         "evalue": "name 'b' is not defined",
         "output_type": "error",
         "traceback": [
          "\u001b[1;31m---------------------------------------------------------------------------\u001b[0m",
          "\u001b[1;31mNameError\u001b[0m                                 Traceback (most recent call last)",
          "\u001b[1;32m~\\AppData\\Local\\Continuum\\Miniconda3\\lib\\site-packages\\ipywidgets\\widgets\\interaction.py\u001b[0m in \u001b[0;36mupdate\u001b[1;34m(self, *args)\u001b[0m\n\u001b[0;32m    248\u001b[0m                     \u001b[0mvalue\u001b[0m \u001b[1;33m=\u001b[0m \u001b[0mwidget\u001b[0m\u001b[1;33m.\u001b[0m\u001b[0mget_interact_value\u001b[0m\u001b[1;33m(\u001b[0m\u001b[1;33m)\u001b[0m\u001b[1;33m\u001b[0m\u001b[0m\n\u001b[0;32m    249\u001b[0m                     \u001b[0mself\u001b[0m\u001b[1;33m.\u001b[0m\u001b[0mkwargs\u001b[0m\u001b[1;33m[\u001b[0m\u001b[0mwidget\u001b[0m\u001b[1;33m.\u001b[0m\u001b[0m_kwarg\u001b[0m\u001b[1;33m]\u001b[0m \u001b[1;33m=\u001b[0m \u001b[0mvalue\u001b[0m\u001b[1;33m\u001b[0m\u001b[0m\n\u001b[1;32m--> 250\u001b[1;33m                 \u001b[0mself\u001b[0m\u001b[1;33m.\u001b[0m\u001b[0mresult\u001b[0m \u001b[1;33m=\u001b[0m \u001b[0mself\u001b[0m\u001b[1;33m.\u001b[0m\u001b[0mf\u001b[0m\u001b[1;33m(\u001b[0m\u001b[1;33m**\u001b[0m\u001b[0mself\u001b[0m\u001b[1;33m.\u001b[0m\u001b[0mkwargs\u001b[0m\u001b[1;33m)\u001b[0m\u001b[1;33m\u001b[0m\u001b[0m\n\u001b[0m\u001b[0;32m    251\u001b[0m                 \u001b[0mshow_inline_matplotlib_plots\u001b[0m\u001b[1;33m(\u001b[0m\u001b[1;33m)\u001b[0m\u001b[1;33m\u001b[0m\u001b[0m\n\u001b[0;32m    252\u001b[0m                 \u001b[1;32mif\u001b[0m \u001b[0mself\u001b[0m\u001b[1;33m.\u001b[0m\u001b[0mauto_display\u001b[0m \u001b[1;32mand\u001b[0m \u001b[0mself\u001b[0m\u001b[1;33m.\u001b[0m\u001b[0mresult\u001b[0m \u001b[1;32mis\u001b[0m \u001b[1;32mnot\u001b[0m \u001b[1;32mNone\u001b[0m\u001b[1;33m:\u001b[0m\u001b[1;33m\u001b[0m\u001b[0m\n",
          "\u001b[1;32m~\\GoogleDrive\\PYTHON\\geophysical_notes\\avo_explorer_library.py\u001b[0m in \u001b[0;36mmake_avo_explorer\u001b[1;34m(avoclass, fluid, phimod)\u001b[0m\n\u001b[0;32m    344\u001b[0m         \u001b[1;32melse\u001b[0m\u001b[1;33m:\u001b[0m\u001b[1;33m\u001b[0m\u001b[0m\n\u001b[0;32m    345\u001b[0m                 \u001b[0mrhof_new\u001b[0m\u001b[1;33m,\u001b[0m \u001b[0mkf_new\u001b[0m \u001b[1;33m=\u001b[0m \u001b[1;36m0.80\u001b[0m\u001b[1;33m,\u001b[0m  \u001b[1;36m1.02\u001b[0m \u001b[1;31m# oil density & bulk modulus\u001b[0m\u001b[1;33m\u001b[0m\u001b[0m\n\u001b[1;32m--> 346\u001b[1;33m         \u001b[0mvp2B\u001b[0m\u001b[1;33m,\u001b[0m\u001b[0mvs2B\u001b[0m\u001b[1;33m,\u001b[0m\u001b[0mrho2B\u001b[0m\u001b[1;33m=\u001b[0m\u001b[0mb\u001b[0m\u001b[1;33m.\u001b[0m\u001b[0mrockphysics\u001b[0m\u001b[1;33m.\u001b[0m\u001b[0mavseth_fluidsub\u001b[0m\u001b[1;33m(\u001b[0m\u001b[0mvp2\u001b[0m\u001b[1;33m,\u001b[0m\u001b[0mvs2\u001b[0m\u001b[1;33m,\u001b[0m\u001b[0mrho2\u001b[0m\u001b[1;33m*\u001b[0m\u001b[1;36m1e3\u001b[0m\u001b[1;33m,\u001b[0m\u001b[0mphi2\u001b[0m\u001b[1;33m,\u001b[0m\u001b[0mrhob\u001b[0m\u001b[1;33m*\u001b[0m\u001b[1;36m1e3\u001b[0m\u001b[1;33m,\u001b[0m\u001b[0mrhof_new\u001b[0m\u001b[1;33m*\u001b[0m\u001b[1;36m1e3\u001b[0m\u001b[1;33m,\u001b[0m\u001b[0mk0\u001b[0m\u001b[1;33m*\u001b[0m\u001b[1;36m1e9\u001b[0m\u001b[1;33m,\u001b[0m\u001b[0mkb\u001b[0m\u001b[1;33m*\u001b[0m\u001b[1;36m1e9\u001b[0m\u001b[1;33m,\u001b[0m\u001b[0mkf_new\u001b[0m\u001b[1;33m*\u001b[0m\u001b[1;36m1e9\u001b[0m\u001b[1;33m)\u001b[0m\u001b[1;33m\u001b[0m\u001b[0m\n\u001b[0m\u001b[0;32m    347\u001b[0m         \u001b[0mrho2B\u001b[0m \u001b[1;33m/=\u001b[0m \u001b[1;36m1e3\u001b[0m\u001b[1;33m\u001b[0m\u001b[0m\n\u001b[0;32m    348\u001b[0m \u001b[1;33m\u001b[0m\u001b[0m\n",
          "\u001b[1;31mNameError\u001b[0m: name 'b' is not defined"
         ]
        }
       ]
      }
     },
     "9a3fa44da0394b749c0b606e6c59cf0b": {
      "model_module": "@jupyter-widgets/base",
      "model_module_version": "1.0.0",
      "model_name": "LayoutModel",
      "state": {}
     },
     "9af1d332c4d34ad0a440882288016515": {
      "model_module": "@jupyter-widgets/controls",
      "model_module_version": "1.0.0",
      "model_name": "SliderStyleModel",
      "state": {
       "description_width": ""
      }
     },
     "9b01193d0eae41a5b5dee07da8409519": {
      "model_module": "@jupyter-widgets/base",
      "model_module_version": "1.0.0",
      "model_name": "LayoutModel",
      "state": {}
     },
     "9b0c9c0f0849407fa4fcfcff47473913": {
      "model_module": "@jupyter-widgets/base",
      "model_module_version": "1.0.0",
      "model_name": "LayoutModel",
      "state": {}
     },
     "9c050a9930384d5d8f1a14ae692cb040": {
      "model_module": "@jupyter-widgets/base",
      "model_module_version": "1.0.0",
      "model_name": "LayoutModel",
      "state": {}
     },
     "9c2120e1be194f1391c19cbd2621bd34": {
      "model_module": "@jupyter-widgets/controls",
      "model_module_version": "1.0.0",
      "model_name": "IntSliderModel",
      "state": {
       "description": "vp1",
       "layout": "IPY_MODEL_44a3fed1d1434759a4691da74dbc63eb",
       "max": 6000,
       "min": 1500,
       "step": 100,
       "style": "IPY_MODEL_a06650da2cc34bdfb260a610b0aef70b",
       "value": 3094
      }
     },
     "9c783a3aa153465091a979f56455fce5": {
      "model_module": "@jupyter-widgets/controls",
      "model_module_version": "1.0.0",
      "model_name": "DescriptionStyleModel",
      "state": {
       "description_width": ""
      }
     },
     "9d3ebc7f74ed4000a298e1514f9756c4": {
      "model_module": "@jupyter-widgets/base",
      "model_module_version": "1.0.0",
      "model_name": "LayoutModel",
      "state": {}
     },
     "9db50532a47145978eb06d0d0f040eb4": {
      "model_module": "@jupyter-widgets/controls",
      "model_module_version": "1.0.0",
      "model_name": "FloatSliderModel",
      "state": {
       "description": "rho2",
       "layout": "IPY_MODEL_cd76e8fb976d4152995de072d1411549",
       "max": 3,
       "min": 1.5,
       "step": 0.1,
       "style": "IPY_MODEL_9461a34c5e6c4c37a103b7bc3729b4e0",
       "value": 1.88
      }
     },
     "9e2ff8146c454017a09adc83f55a6b0b": {
      "model_module": "@jupyter-widgets/output",
      "model_module_version": "1.0.0",
      "model_name": "OutputModel",
      "state": {
       "layout": "IPY_MODEL_1031bf44fe994155afe673fc0025d392",
       "outputs": [
        {
         "data": {
          "image/png": "iVBORw0KGgoAAAANSUhEUgAAAsgAAAFgCAYAAACmDI9oAAAABHNCSVQICAgIfAhkiAAAAAlwSFlz\nAAALEgAACxIB0t1+/AAAIABJREFUeJzs3XecVPX1//HX2cbSi6yiAiLVBqKsKAFbsCBRELH3EhFj\niZhflC8xMQkajYkpaiyLYkksRJBiEE0sSLWAYFekKF0WhaXuwu6e3x8ziyOyu3fZmbmzw/v5eMxj\nyj333s/MhTvv/czn3mvujoiIiIiIRGSE3QARERERkVSigCwiIiIiEkMBWUREREQkhgKyiIiIiEgM\nBWQRERERkRgKyCIiIiIiMRSQRUREJO2YWT8zG1LJtBZmdmES29LVzI5L1vqk9hSQRUREJO24+8vu\nXlDJ5G7AgCQ2ZzBwSBLXJ7VkulCIiIiIpBszuxzoBxwALAM6AO+4+7Vm9j/gcOA2YApQAOQCxcAQ\nIBN4EfgGeAl4E/g7YMAK4CKgI3Bf9LVvgCuBI4BfAeVAq+hyJwAzgW3Axe7+TmLfucRDVtgNEBER\nEUmgzsApwBZgsZm1Au4Ehrp7gZmNAe5z9ylm1he4m0jIbQX0cPdtZvY+cL67f2pmPwMOBh4ErnT3\nT8zsKuAW4H/A/kSCcgbwIfA88ASwWuG47qh1QDazY4D9gJXu/lbtmxQ/ZpZN5GeN/YCVwPPuXhZu\nq0RERCSJFrr7RgAzW0WkpzhWV2CEmd1KpDd4W/T1Je5e8Xgfd/8UwN0fjC7rYOBBMwPIBhZEa2e5\ne0m05iMiPddSx9RqDLKZPUDk54sWQD8z+2tcWhU/jxD5j/BB9H5UuM0RERGRJNvVWNJyvstAnwG3\nuvsJwDXA2JiaCivNrBOAmd1qZoOAz4FLo/PdAkyO1nY3s0wzawAcCnyx0/qkDqhtD3KJu/+24kkK\nBuQN7v5ExRMz6x5iW0RERCQ1LAK6mtlNwP8DHjKzXKA+8PNd1F8DjDazcmAV8DdgKfCUmWVGa64i\n8ot1NpFxzXsBd7j7WjObC/zJzD519zcS+cYkPmp1kJ6ZjSLyj2wZ0AZo5+5D49S2WjOzPwJNgOVA\na+Abd78t3FaJiIhIOjKzE4iMbT4/7LZI7dQ2IBtwArAPsNTdZ8WpXXFjZgcSad8yd18RdntEREQk\nPSkgp4/aBuRjgOFExvduBUa6+3txalutmdlA4Gd8N/7oPnd/KcQmiYiIiEiKq+0Y5GuJnPak2Mzq\nA48SOTdgqjjd3U+teGJmo4mcz1BEREREZJficUTl9pj70jgsL54amtk+ANH7eiG3J+nM7BIz62Rm\nE6K3o+O03I5m9oiZTTKzh82sTZyWe5qZ7R1d9mgz6xiP5YqIyK6ZWX0zG2dm083sJTPL20XNJDOb\naWZTzWxK9LWOZjYjOt9DZrbbmSJgG/5kZrPN7F0zuzr6WgszWxtt11Qz29UBdtWtOyP6PTY7uoyO\nO02/2szmmNlbZnZ69LWWZvbfaHvHRM9Ysbvvvbr1DzOzt6O326OvmZmtiHnfd+3u+gO24T4zmxuz\nvqbx/AxSkrvv9g3oS+S0JpOBccBxtVlevG9Ezm34ZLR9BcDBYbcphM/g8eitJZE/EB6P03L/CbQj\n8ivEgcBzcWxvAZFT4+wLPBH2Z6ibbrrpls434Gbgt9HH5wN/30XNJ0SHZca8Ngk4Ifr4YWBQotoA\nnAiMjz6uBywEmgMnAffX8v2fVfFdAxwDTIyZ1orIxT7qAU1jHt8HXB6tGQ4MS9D62wNziFzZL4PI\nFfm6EbmK34tx/DdQaRuir80AWu70Wtw+g1S81bYHeTFwBvAvIv9RUu0KMZ8BLwOvR28Lqi5PS62I\n9OyvJ3Ly83hdW3yru3/p7qXuvgTYGKflNiJy+sCP3X0VkSsfiYhI4vQh8l0JkdOTnRQ7MfoLbDPg\nxWiP8enRST2IXIJ5l/PFsw3AbCKXcobI91gmkV+uewBHmtmbZva8me1bm3V75IJn+THTegIz3b3E\n3YuIBPNuAdobr/UvA/q5e5m7lxM5hVwxkfe9v5m9Ee1x71KL9VfZhugvA52AguivCFfuPA+1/wxS\nTm3HIP8G+JrIuQC/JfLXxJDaNiqOHiHyn/d9Iqd5G8V3/8H2FM8CxwFHEfnHPC1Oy51mkWvZbyNy\nAvSn4rTcD4EfmdlxRP6KXR6n5YqI7PEscknkYTu9/DVQFH28kUhPaawc4F7g70QuDDbTzN4h0qPs\nVcwXtza4ezFQbJEr5D4JFLj7JjP7DJjr7q+a2UXA/cDZQdoRo0nMugHKzCzL3Ut3Ma2ibbGvB37v\nNV2/u28H1kbPGvYnYJ67L7DI5bLvcvfnzawPkY7KoxLRBqAhkc/1L0T+MHnDzOYQ388g5dT6UtNA\nE//usou12TiJsMHdn6x4YnvghULc/Sm+C6+zzSwe2xx3/xeR/5Bx5e6/j3karzAvIiKAuz8GPBb7\nmpm9ADSOPm1M5BfHWKuBh6NhaY2ZzQO68P0rze1qvni2ATNrTuQqd1PdvWLM7et890vjeOD3O88X\nwIaYdQNkRN/rrqZVtK3i9a2VtTdO68ciFzAZTSSE/iz68hyix325+wwz29/MYv9giWcbthAZ8rIl\n2p7XgcOJ72eQcmo7xGIv4DgzO8rMziPyl2UqKYkeOPArM3sM2BR2g1LAXxKxUDN7qC4tV0REdpgJ\n9I8+Pg2YvtP0k4B/A5hZI+Aw4FNgnkXO+1vZfHFrg0XOlPUaMNrdR8ZMehQYHH3cF5hbm3Vb5PS1\nH8ZMewc41sxyzawpcDDwUXXtjdf6oz3HE4H33f0ady+LTroduClacziRa1HUZghlVZ9BZ2CGRS6f\nnU3k1+j3iO9nkHJqex7kXxO5UMgTRHr77nD3S+LSsjgwsz8Q+ct3IGBEDiQrCLdV6SG67XsDT7v7\nP83sCXe/PFWXKyIiuxY9+8CTRA6M3gZc6O6rzeweYKy7v2NmfyMy7K0cuMfdJ5hZZyJDF3OIBOar\nYwJcXNtA5HvhdmB+zGxXRO9HE/mO3wz8NHr8Sk3WnQE8SGRssUWX2x9Y6O6TomfMGEKkU/EP7j4u\nOi77SSI9p2uj7d1c83de9fqJDGl4FngrZpb/I3KM1b+IHLdTClzn7p/tzvqra0P0M7gFOIfIuO+n\n3P3heH4GqajWl5p296vNbASRAfRXuPulcWtdLZnZ44C7+5XR5/e7+w0hNyupzOw9Ij3nm4j8o3d3\n71/1XIGWm5Btn+r/pkRERCT91XY8amMza+jufzCzR4ED4tGoOOoOrLbvzoG8d8jtCcO5wFXu/n9x\nXm6itn2q/5sSERGRNFfbMch/J3KGBIiMhVlYy+XF2wDgaSJHVvYC/hhuc5LP3RcCf0vAohO17VP9\n35SIiIikuVoNsRARERERSTfxuNS0iIiIiEjaiGtANrNUukjID6R6+xItUe8/kZ9rOm+zMN9bOn+u\nIhI/qbCvUBvUhjDEuwc51T+4VG9foiXq/Sfyc03nbRbme0uZz9XMMszsYTObbWZTzazjTtNPM7O3\norcHo+cFFZHkSIV9hdoQkXZtSOX9v4ZYiEjYzgRy3b0XMJzIJW0BMLPGRC6verq7HwN8CbQMo5Ei\nIhJ3Kbv/r9FBei1btvR27dpVOr2wsJC8vLw4NCsxgrZv7ty5a909dd8I1W+LXUnU9knkdi8sLGTp\n0qXaHnG2u+tOxP8NM/sL8I67Pxd9vsLd948+PhW4nMiFA9oDj8ZePj5mGUOI9mw0bNiwx0EHHRTP\nJopUS98biZMKbZg7dy49evQItQ2p8DnsThvmzp27Cfg85qWCiou2xWP/nyg1Og9yu3btmDNnTqLa\nkjLM7Kuw21CdPWVbgLZHKknQtmgCFMU8LzOzLHcvJdJbcCKRc5pvAqab2Wx3XxC7gOjOtgAgPz/f\n94RtIalF+6n0Zmb67HaTmX3u7vmVTK71/j9RNMRCRMK2gcilSitkRHeOAN8A77r7anffROSS9t2T\n3UAREUmIlN3/KyCLSNhmAv0BzOwY4MOYaXOBw8yspZllAccAnyS/iSIikgApu/+v7aWmRURqazxw\nspnNAgy4wsxuBha6+yQz+z/glWjtv939o7AaKiIicZWy+38FZBEJlbuXA0N3evmzmOnPAc8ltVEi\nIpJwqbz/1xALEREREZEYCsgiIiIiIjEUkEVEREREYiggi4iIiIjEUEAWEREREYmRdmexePzxxxk9\nevSO55dffjlXXXVViC3acxUXF3PyySfveF6vXj1effXVEFskIiIiUr2060FeunQpM2bM2HFbunRp\n2E3aY5WXl39vW8yaNSvsJqWMO++8kz59+vDSSy8Fqh8zZgx9+vThvvvuC1Q/d+5c+vTpw4033hio\nvqioiD59+tC/f/9A9SIiIums2h5kMxsCDAFo27ZtwhskldO2SC212R5ffPEFM2fOZM2aNYHqV65c\nycyZMznqqKMC1RcVFTFz5kxycnIC1ZeWljJz5kxatGgRqF5ERCSdVduD7O4F7p7v7vl5eXnJaJNU\nQtsitWh7iIiIpKe0G2IhUpe4e52uFxERSUcKyCIhMLM6XS8iIpLOFJBFRERERGIoIIuEKNWGTGiI\nhYiIiAKySChSbciEhliIiIh8RwFZRERERCSGArJIHaIhEyIiIomngCwSoqABNllDJhSoRUREFJBF\nQpFqY35TrT0iIiJhUkAWqUM0xEJERCTxFJBFQqQhFiIiIqlHAVkkBKk2pCHV2iMiIhImBWSRNKYe\nYRERkZpTQBYJUaLGFGuIhYiIyO5TQBYJQapd6U5DLERERL6jgCySxtQjLCIiUnMKyCJ1iIZYiIiI\nJJ4CskiIEh14g9IQCxERke8oIIuEIFmBVD3CIiIiNaeALFKHpEqPs4iISDpTQBYJUaoFXvU4i4iI\nKCCLhCLVAq96nEVERL6jgCxShyjwioiIJJ4CskiIUi3waoiFiIiIArJIKFIt8KrHWURE5DsKyCJ1\niAKviIhI4ikgi4Qo1QKvhliIiIgoIIuEItUCr3qcRUREvqOALJKGFHhFRER2nwKySB2iIRAiIiKJ\np4AsEqJED4GoaaAOI4CbWYaZPWxms81sqpl1rKRmipkNTXoDRUQkIVJ5/6+ALBKCRA+BqOnyQx6S\ncSaQ6+69gOHAvbuouQNokdRWiYhIoqXs/l8BWaQOSdMhFn2AlwHc/S0gP3aimZ0NlANTKluAmQ0x\nszlmNqewsDCRbRURkZppWbF/jt6GxEyr9f4/URSQRUKUameZCCmANwGKYp6XmVkWgJkdBlwI/Kaq\nBbh7gbvnu3t+Xl5e4loqIiI1tbZi/xy9FcRMq/X+P1GywlipyJ4u1QJvyEMsNgCNY55nuHtp9PGl\nwP7A60A7YJuZfenuLye3iSIikgApu/9XQBapQ+pI4K2pmcAZwL/N7Bjgw4oJ7n5LxWMz+y2wWuFY\nRCRtpOz+XwFZJESpFnhDGmIxHjjZzGYBBlxhZjcDC919UhgNEhGRpEjZ/b8CskgIUi3whtnj7O7l\nwM6n7/lsF3W/TUqDREQkKVJ5/6+D9ETqkLoQeEVEROo6BWSROiDVepxFRETSmQKySIgSHUjV4ywi\nIlJzCsgiIUj0paMVeEVERHafArJIHaDAKyIikjwKyCIhSpUhFrtbLyIiko4UkEVCkGpDLNRDLSIi\n8h0FZJE6QAFWREQkeRSQRUKkIRYiIiKpRwFZJASJ7hHWEAsREZHdp4AsUoeoh1dERCTxFJBF6oBE\nH9S3u/UiIiLpqNqAbGZDzGyOmc0pLCxMRpukEtoWqSUe2yNRgVRDLERERHZftQHZ3QvcPd/d8/Py\n8pLRJqmEtkVqqc32SFaPsIiIiNSchliI1AEK1CIiIsmjgCwSolQZYlFBgVpEREQBWSQUqRZgNQZZ\nRETkOwrIInVAqgVqERGRdKaALBKiVOsRVqAWERFRQBYJRaoFWA2xEBER+Y4CskgdkGqBWkREJJ0p\nIIuESD3CIiIiqUcBWaQOUaAWERFJPAVkkRAk61LQGmIhIiJScwrIImmoNj3CCtUiIrKnU0AWCZHC\nqIiISOpRQBYJQbKGTCiAi4iI1JwCskgdkKwxyyIiIqKALBKqVOzhTcU2iYiIJJMCskgIUnGIhXqd\nRUREIhSQReoADbEQERFJHgVkkRCl4nCGVGyTiIhIMikgi4RAQyxERERSlwKySB2gIRYiIiLJo4As\nIt+jIRYiIrKnU0AWCVGiL/yhIRYiIiI1p4AsEoJED5lQ2BUREdl9CsgiIiIiIjEUkEVClEpDLGoz\nj4iISDpRQBYJQSoOmQhrWIaZZZjZw2Y228ymmlnHnaYPM7O3o7fbQ2mkiIjEXSrv/xWQRdJQHRuD\nfCaQ6+69gOHAvRUTzKw9cBHwI6AXcIqZdQullSIiEm8pu/9XQBYJUTKGTNRUCEMs+gAvR9f9FpAf\nM20Z0M/dy9y9HMgGipPdQBERSYiU3f8rIIuEIFlDLOrIad6aAEUxz8vMLAvA3be7+1qL+DMwz90X\n7LwAMxtiZnPMbE5hYWGSmi0iIgG0rNg/R29DYqbVev+fKFnJWpGIJE8dG2KxAWgc8zzD3UsrnphZ\nLjAa2Aj8bFcLcPcCoAAgPz9fRxmKiKSOte6eX8m0Wu//E0U9yCICfBeqy8vLk73qmUD/aBuOAT6M\naZMBE4H33f0ady9LduNERCRhUnb/rx5kkRBkZ2cDUFJSkhL1AA0aNGDbtm1s3ryZ3NzcwPPFwXjg\nZDObBRhwhZndDCwEMoHjgXpmdlq0/v/cfXYyGygiIgmRsvt/BWSREDRuHPlFaePGjYHqmzRpktD6\nijatX7+ejRs3stdeewWer7aiB18M3enlz2IeJzWti4hIcqTy/l9DLERCUNMAu7uBesOGDYEP1GvU\nqGbrEBERSVcKyCIhqAi8GzZsCFQfG3iDyMnJITc3l9LSUoqLg50Vp6YhXEREJF0pIIuEoCLwFhUV\nVVO5e/UAjRtH5lm/fn2g+ubNmwPwzTffBF6HiIhIOlJAFgnBPvvsA8CqVasC1efl5WFmrFmzhtLS\n0upnAPbeuxUAK1euDFS///6tAVi2bFmgehERkXSlgCwSgrZt2wKwfPnyQPU5OTnk5bWivLw8cKhu\n3Tqyjq+++ipgfZsatUlERCRdKSCLhCAvL4/s7By++eYbNm/eHGie/faLBNjggTcSkL/88stA9Qcc\n0A6AhQsXBqoXERFJVwrIIiHIyMigXbvOAHzyySeB5unQoQsAH3/8caD6zp0PBuCjjz4KVN+1azcA\n5s+fH6heREQkXSkgi4Tk4IO7A8ED6aGHHgHAvHnzAtUffviRALz33nuB6g855BCysrL54osvdCYL\nERHZoykgi4TkoIMiATlogD300JrVH3bY4ZgZH3/8MVu3bq22Picnhw4dIr3Ib7/9dqB1iIiIpCMF\nZJGQdO9+DABvvPFGoPpu3fLJzMzivffeC3TqtoYNG9KxY3dKS0uZPn16oHUcccSPAfjvf/8bqF5E\nRCQdKSCLhKRr1540bNiEzz//PNCBd40aNebQQ3tRVlbG66+/HmgdPXv2A+Dll18OWH9qjepFRETS\nkQKySEiys7N39Ni+8sorgeapaYA9+uhIQJ40aVKgS0537dqHRo2a8uGHH/Lpp58GWoeIiEi6UUAW\nCVGvXj8BYNy4cQHrTwdg/PjxbN++vdr6ww7rTYsWrVi0aBHvvvtutfU5OfU4/vizAXj66acDtUlE\nRCTdKCCLhOjYYweRmZnFa6+9xpo1a6qt79ChGwcccDBr167l1VdfrbY+MzOTvn3PB4IH3pNOumhH\nfXl5eaB5RERE0okCskiImjbdi549T6WsrIznn3++2noz46STLgTgmWeeCbSOvn0j9c8991ygy1R3\n7348eXmt+fLLL5kxY0agdYiIiKQTBWSRkPXtewEAzz77bI3qx48fH+gqfAcdlE/r1p1Ys2ZNoDNm\nZGRkcOqplwLwxBNPBGqTiIhIOqk2IJvZEDObY2ZzCgsLk9EmqYS2RWqJ1/bo3XsgOTm5zJw5k1Wr\nVlVbv//+HTj44J5s3rw50MF9u9Pr3K/fZQD8+9//ZtOmTYHmERERSRfVBmR3L3D3fHfPz8vLS0ab\npBLaFqklXtujQYNGHHXUKQBMmDAh0DzHHTcYgBdeeCFQfUWv87hx4wJdNKRNm84cdtiP2Lx5c+B1\niIiIpAsNsRBJAcceOwgIHniPO+4sAF588UVKSkqqrW/btgtduvRg48aN/O9//wu0jn79LgeC9zqL\niIikCwVkkRRQcfq26dOnBzp9W+vWHTnggIPZsGFD4EtPH310fwCmTZsWqL537wEAzJgxI1CbRERE\n0oUCskgKaNasJfvv35GSkpLAF+g45JDIparnzp0bqL5r194AvPXWW4HqW7TYh9atO7F582Y++OCD\nQPOIiIikAwVkkRTRqlU7AFavXp2Q+v326wDAypUrA7epTZvOAKxYsSLwPCIiInWdArJIisjJqQcQ\n6CC6SH1uQut3dx4REZG6TgFZJEUUFi4HoFWrVoHq165dUaP6iuXvu+++gdu0Zs0yAPbbb7/A84iI\niNR1CsgiKeDbb79m0aIPyMnJ4ZBDDqm23t2ZNy9y0Y/DDz880Drmzo1cmrp79+6B6tetW8OCBXPJ\nysqia9eugeYRERFJBwrIIilg4sSHcHdOPvlkGjduXG39vHlvsHjxh+y1114cd9xx1dYXF29h0qSH\nATjnnHMCtem55/5MWVkZp512Gs2aNQs0j4iISDpQQBYJ2YoVixgz5s8ADB8+vNr6kpJi/vrX6wC4\n6aabyM3NrXaeUaNGUFi4gu7du3PqqadWW//RR7N4/vm/Ymbcdttt1daLiIikIjPL3+n58UHmy0pM\nc0QkiOLiLfzmN4PZunUz5557Ln369Kmy3t25556rWLr0M7p06cIvf/nLatfx8stPMnbs38nKyuLh\nhx8mI6Pqv4tXrFjEr351JmVlpQwbNoyePXvW6D2JiIiEzcyOBQ4BhpnZX6IvZwLXAYdVN78CskhI\ntm7dwogRA1i48H06depEQUFBlfXuzj/+8QteffUZGjVqxHPPPUe9evWqnOd//3uGe+65CoAHHniA\no48+usr6RYs+5Je/PJX16wvp168f99xzT83elIiISGpYB7QC6gEVR6eXA7cEmVkBWSQE33zzDUOG\nDGbu3Ddp1aoVL774Ik2bNq20fvv27fzyl0N5/vnRZGdnM2bMmCoPtnN3Hnro79x55824O7fddhvX\nXHNNlW2aMuUlbrzxIjZtWs8JJ5zAmDFjyMrSLkJEROoed/8I+MjMRrl78AsARGkMskiSffbZZxxz\nzDG8+24kHL/xxht06dKl0vo1a9ZwyimnMGbMaOrXr8+kSZPo379/pfVbtmzh0ksvZcSIYbg7f/jD\nHxg5cmSl9aWlpYwYMYKBA3/Cpk3rOeuss5gyZQpNmjSp1fsUERFJASeZ2admttjMlpjZ4iAzqXtI\nJImmTJnCBRdcQFFREd27dmXS5Mm0adOm0vo5c+Zw1llnsWzZMlrtvTcvTJhAr169Kq1ftGgR55xz\nDvPmzaNhgwY88eSTnH322ZXWL1++nIsuuohp06aRkZHBnXfeyS233FLtOGUREZE64lbgDGBZTWbS\nt6BIEpSXlzNy5Eh+8pOfUFRUxKAf/5gZVYRjd2fUqFH07t2bZcuWcUy3bsydMqXKcPzCCy9w5JFH\nMm/ePDq0acNbY8dWGY7Hjx9Pt27dmDZtGq1atuS1Rx9l+PDhCsciIpJOFrv7QncvqbgFmUk9yCIJ\nVlRUxGWXXcbEiRMxM0Zedx0jfvpTMho23GX9li1buO6663jiiScAuObss/n7rbdSr5Ir5m3bto1b\nb72Vv/3tbwCc1bcvo3/3O5pWcsW8LVu2cPPNN/PII48A0P/YY3n8d79j7733ruU7FRERSTlbzGwK\nMB9wAHcfUd1MCsgiCfTpp59y5plnsmDBApo1bszTd91F/2OPrbR+0aJFDB48mPfff5/6ubk8fNtt\nXHrGGZXWL126lHPPPZe3336brKws/nzzzdx44YWY2S7rP/jgAy644AI++eQTcrKzuWfYsCrrRURE\n6riXdmcm/ZYqkiAvvPACPXv2ZMGCBXTt1Il3n3mmynA8adIkevTowfvvv0/Htm1565//rDIcT548\nmSOOOIK3336bNq1aMf3xx/n5RRftMuy6O/fffz89e/bkk08+4aADD+Ttf/2r0noREZE08TSQDbQH\nvgImB5lJAVkkAUaOHMngwYPZtGkT5/frx+ynnqJj27aV1j/yyCMMHDiQoqIizjzxROY88wzdOnfe\nZa278/vf/57TTz+db7/9lv7HHsu8MWM4plu3XdZv2bKFQYMGceONN1JSUsLVgwcz55ln6H7QQXF5\nryIiIinsYaAtcArQGHgqyEwaYiESZ3/84x/5zW9+Q0ZGBn8aNoxhl1xSZS/tgw8+yHXXRS4dfcf1\n1zPipz+tsv72229n5MiRkbNOXH89t1xxRaUH1m3cuJHTTz+dadOm0axxY0bdfjtnn3xy7d6giIhI\n3dHB3X9qZse6+4tmNjzITArIInE0fvx4hg8fjpnxzzvv5MIqzlcM8Nprr3HDDTcAcP/w4Vx/wQVV\n1o8aNYqRI0eSmZnJs3ffzTmnnFJpbXl5Oeeeey7Tpk1jv7w8Xhs1ioMOPLDmb0pERKTuyjKzloCb\nWWMiV9OrfqbEtinyJb1kyRJKSkrYvn07paWlge5rUht7P2fOnES/pTpt7dq1rF27drc/35psm+Li\n4rDfblJt2rRpx9Xq/jRsWLXhuLi4mKuvvpry8nJuu/rqasPxilWr+PnPfw7Ao7ffXmU4BnjwX//i\n5ZdfZq9mzXhz9Ogqh3iEycwygAeBw4ES4KfuvjBm+tXANUApcIe7/yeUhoqISFwlaf9/GzCTyOWm\n3wJuCjJTQgPyp59+ysknn8yKFSsSuRoJwN0ZOnQoBQUFYTclbf3rX/+isLCQo7t2Zdgll1RbP3HK\nFJYsWcIh7dtz+9Ch1dbf//jjbN26lbP69uXygQOrrC0vL+cPDz0EQMGvf52y4TjqTCDX3XuZ2THA\nvcBAADPx/1nGAAAgAElEQVRrBdwI5AO5wAwz+1/Q81iKiEhKS/j+393fBLqYWR6w1t09yHwJPUjv\nL3/5S+jhWJfLjfjiiy9CD8fpvi3efPNNAK4aNCjQxTbemDEDgCvOPJOsrOr/Vn1j1iwAhp5zTrW1\nnyxaxKo1a2jTqhWD+vattj5kfYCXAdz9LSI7wwo9gZnRk7sXAQuBXR+NKCIidU3C9v9m9kD0fraZ\nzQImAjOjj6uV0B7k1atXJ3Lx1crLy2Pw4MGhtiFVhL0tAK699tqwm5BQmzZtAqBls2aB6jds3AhA\nXvPmwZa/eTMAe7doUX3t1q07auvAadyaAEUxz8vMLMvdS3cxbSPQdOcFmNkQYEjM8wQ1VaTumjt3\nrv5v1II+u93W0sxix78WuHtFj12t9/9VGBm9P7+mDYYkH6R3wAEHsNdee5GVlUV2dnbc72MfN2zY\nkOOOO4699tormW+xzmjQoAGdO3dO2LbY+b5Lly4ceeSRYb/thOrSpQv/+c9/eHPu3EC9tl06dgTg\nzTlzuGzAgGrrD+rYkU8WLOD1d97h8C5dqqzt1LYtGRkZvL9gAavXrqVVy5bB3kQ4NhA59U6FjOjO\ncVfTGgPrd15AdGdbAJCfn+86FkGSrS6Epx49eug4nd1kZgT8ZV52YmZr3T2/ksm13v9X4Zoq/l/+\nvrqZkxqQ77//fs6o4sIHkjw9evRg2rRpYTcjrZx//vnce++9FIwbxw0XXECHNm2qrL9w8GB+d889\n/HPyZG66+OJKz3tc4eKzzuKFl17irsce44LTTqsy9O7VrBkD+vZlwv/+x41//CNj7rknlb/AZwJn\nAP+OjkH7MGbaO8CdZpYL1AMOBj5KfhNFRCQBErn//zp6fyawJLquo4icE7laulCISJzk5+dz/vnn\ns7W4mMG/+AXrNmyosr5Thw4MHTqU0tJSBg0bxppvvqmy/sx+/TjhhBMoXLeOQcOGsSE6pKMyfxo+\nnEaNGvH8f//L8L/9LZV7P8YDxdFxYX8FhpnZzWY2wN1XA/cB04HXgV+5+551ehQRkfSVsP2/uz/i\n7o8Q6ZX+mbs/7e438f1e6UopIIvE0UMPPUSnTp14//PPOWXo0GpD8p/+9Cd69OjB4uXLOe7KK1lW\nxVhxM+PZZ5+lTZs2vPXBB5x8zTV8s77yX5s6tmvH008/TWZmJvc88QTXjBzJ9u3bd/u9JYq7l7v7\nUHf/kbv3cvfP3P0v7j4pOn2Uux/l7j3cfVzY7RURkfhI0v5/LzPrAGBmXYiMba6WArJIHDVr1ozX\nX3+d9u3bM+fjjzn6oov4/MsvK61v2LAhkydPplu3bnz+5Zf86NJLmfPxx5XWt2rVijfffJN27drx\nzkcfcdSFFzL/s88qrR8wYAATJkwgNzeXUePGccJPf1plCBcREUkzNwHPmtkK4Gng8iAzKSCLxFnr\n1q2ZOnUqhx9+OF8sXcrRF1/MyzNnVlq/zz77MHXqVHr37s3yr7+mz+WXM3r8+ErrDzzwQKZPn05+\nfj5LVqyg16WX8tSLL1Zaf/rpp/Paa6+x//77M2v+fI447zxemj69Vu9RRESkLnD3Ge7e0933jx4s\nuLDamVBAFkmINm3aMGPGDAYNGkTRxo30v+467hw1ivLyXV/hsnnz5rz22mtcc801lGzbxlW//S3X\n/P73FJfs+nzorVu3Zvr06Vx55ZUUl5Rw2W23MeT3v2drJVcv/NGPfsS8efPo168f36xfz0+uv56b\n7rmn0uWLiIikAzO7xsw+N7PFZrYE+CTIfArIIgnSqFEjxo4dy29/+1sAbnvgAc66+WaKouc/3lm9\nevV4+OGHeeyxx6hXrx4F48bR5/LLWbJ8+S7rc3NzefTRRykoKKBevXqMGjeOYy65pNIhHXl5eUye\nPJm7776brKws/v700xx98cV8vDDQH9MiIiJ10dXACcAU4Aqg8nGMMRSQRRIoIyOD22+/nf/85z80\na9aMiW+8Qc+LLqoylF555ZXMmjWLAw88kLmffEKPCy5gciWn5DMzrr76at5++206derEBwsWkH/B\nBTw7ZUql7bn11luZNWsWHTt2jNRfeCEPjhmTyme5EBER2V1r3X0V0NjdpwLVX20LBWSRpOjfvz9z\n5syhW7duLPjqK46++GL+PWFCpfVHHnkkc+fO5YwzzmDdhg2cfsMN/OruuykrK9tl/eGHH86cOXM4\n77zz2LRlCxcOH87Q226juJIhF0cddRTz5s3jiiuuoLikhOv+8AcG3nADhYWFcXm/IiIiKaLIzM4E\n3MyuAfKCzKSALJIkHTp0YPbs2Vx88cVs3rqV8666ihEjRlTac9u8eXMmTJjAXXfdRUZGBn+4/37O\nOeecSkNvkyZNePbZZ3nooYeoV68ejzz7LL169WJ5JUM0GjVqxOjRoxkzZgxNmzblxalT6datG7Nm\nBbpMvYiISF1wNfAVMBzoDFwbZCYFZJEkatCgAU899RT3338/WVlZ3HXXXdx4442VHryXkZHB8OHD\nefXVV2natBnjx4+nX79+bN68eZf1ZsbQoUOZPXs27dt3ZP78+fTp04cvvvii0jade+65fPDBB/Tp\ncyyrV6+mb9++jK/iLBoiIiJ1yFh3n+fuq9z9F9FhFtVSQBZJMjPj+uuv5/77x5OdncMDDzzAb37z\nmyrnOfHEExk7djotW+7Hm2++yXnnnUdpaWml9UcccQSvvvo2hxxyNF999RUnnngiK1asqLS+bdu2\n/Pe/r3PGGUMoLi7m7LPPZkIVQ0BERETqiPVmNtDMDjKzzmbWOchMCsgiITnxxNO5447xZGRkcOed\ndzJ27Ngq6w866DD++tfXadp0LyZPnsyIESOqrG/evAX33vsqXbv2ZsWKFQwYMKDS4RkAWVlZ/OIX\nD3PJJb+ivLycCy64gLfeemu33puIiEiKyAN+DjwIPBy9VUsBWSRExxzTn2uv/TMA1113HRuquTR1\n27ZduPPOiWRkZPDnP/+52gDboEEj7rhjAvvv34H33nuPu+++u8p6M+Oqq0bu6Em+7LLLqgzVIiIi\nKa4zcBxwMHAscJSZfWFmJ1c1kwKySMjOOecmDjvsR6xZs4Z777232vquXXtz3nn/D3ffcY7lqjRr\n1pJbbx0NwN13383KlSurrDczbrzxPg444GAWLFjAX//610DvQ0Qk3pYuXcoDDzzAHXfcwQMPPMCy\nZcvCbpLUPdOAQ919X+Ag4AXgNGBkVTMpIIuErKLXFuCf//xnoPMRX3jhrdSrV59XXnmFxYsXV1t/\n+OHH0afPmZSUlPDkk09WW5+TU48bbvgbAA8++KDOkSwiSbV69WrOPvtsDjzwQG644QZ+/etfc8MN\nN9CuXTvOPvtsVq9eHXYTpe5o7e6fA7j7IuAAd18IVH4gDwrIIinh8MOPp3nzvVmyZAmLFi2qtr5J\nkxb07NkPgBkzZgRaR9++5wMwffr0QPX5+SfTsuV+LF++nI8/DnThIRGRWlu9ejW9e/dm3LhxZGZm\nMnjwYEaMGMHgwYPJyMhg3Lhx9O7dm6+//jrspkrdsMrM7jazAWZ2N7A6OrxiW1UzKSCLpIDMzEza\ntTsUIFBABujY8XAAPvvss0D1nTodAcAnnwS6DD1mRvv23QD46quvAs0jIlJb119/PYsXL+bII49k\n8eLFjB07dseBzEuWLNnx+nXXXRd2U6VuuBRYSWRYxTLgcmATcEFVM2UlvFkiEkhubgMAtm/fHqg+\nJ6d+jerr1avZ8gHq128EUO3BgyIi8bB06VLGjx9PdnY2EydOpHXr1t+b3rp1ayZMmED79u0ZP348\ny5Yto02bNiG1VuoCdy8G7tvp5dnVzaceZJEUUVT0DRC5Il4Q69evAaBZs2Y1qm/evHngNq1bF/kJ\nc5999gk8j4jI7po0aRLl5eUMGDDgB+G4Qps2bRg4cCDl5eVMmjQpyS2UPYUCskgKKCsrY8mSjwA4\n+OCDA81TUd+5c6BznrNw4fsAdOnSJVB9aWkpCxfOr9E8IiK1sX79eqD6fU7Ffm/dunUJb5PsmRSQ\nRVLA55/PYevWTbRr1468vLxq67dtK+H996cBcOyxxwZax7vv/heA448/PlD9p5++zZYtG2nfvj37\n779/oHlERGqj4hexzz//vMq6BQsWADX7RUykJhSQRVLA7NmTAfjJT34SqH7+/KmUlGyla9eutGrV\nqtr6bdtKePfdVwA49dRTA63jtdeeBeCss84KVC8iUlsDBgwgIyODSZMmsXz58l3WLFu2jIkTIxdM\nGjBgQJJbKHsKBWSRFDB9+ngATj/99ED1r776DACDBw8OVP/WWy+xceM6unXrFmi4RGlpKW+88W8A\nLrzwwkDrEBGprbZt2zJo0CC2b9/OwIEDf3BhkGXLlnHmmWdSWlrKoEGDdICeJEy1Z7EwsyHAEIj8\nw5XwaFuklnhtj6+++owlSz6iWbNm/PjHP662vqRkK9OmvQAED6+vvPIUAJdeemmg+nfffYX16ws5\n6KCD6N69e6B5RETi4YEHHmDevHm89957tG/fnoEDB9K5c2cWLFjAxIkTKS0tpX379vzjH/8Iu6mS\nxqrtQXb3AnfPd/f8IGMjJXG0LVJLvLbHtGnjABg4cCA5OTnV1s+c+SJbt27iqKOOolOnTtXWFxV9\nw1tvTSYjIyNwoH755cjV9i699FLMLNA8IiLx0KpVK2bOnMngwYMpLy9n3Lhx3HXXXYwbN47y8nIG\nDx7MrFmzdHYdSSidB1kkZFOnjgXg7LPPDlRfMTb4oosuCrj85ykt3c6pp57KvvvuW239xo3rmDVr\nEmbGxRdfHGgdIiLx1KpVK8aOHcuyZcuYNGkS69ato3nz5gwYMEDDKiQpFJBFQrR8+UIWLpxPkyZN\nOPnkk6ut37JlE++88zIQPFDXdCzxG2/8m23bSujbt6++iEQkVG3atNEV8yQUOkhPJERvvhnpPR4w\nYAD16tWrtv7tt6ewbVsxvXr1CnTqtW+//Zr333+TnJycwEd7VwyvuOyyywLVi4iIpBsFZJEQVQTk\noL3BM2ZMAIKfvWLGjImUl5dzyimnBLri3qpVS/j449k0bNiQQYMGBVqHiIhIulFAFgnJypVL+fzz\nuTRq1IhTTjml2np3Z/78qQD069cv0Drmzn0VCH76uHfeeWXH8hs1ahRoHhERkXSjgCwSkvnzZwOR\nK+HVr1+/2vqvvlrM2rUr2WuvvTjkkEOqrS8vL2fevDcAAp0+DmDOnP8BBBoPLSIikq4UkEVC8uGH\n7wJw9NFHB6p/990ZQCRQBzn12uLFCykqWsu+++5Lx44dq613dz74YDoAffv2DdQmERGRdKSALBKS\nioB81FFHBar/7LMPAejRo0eg+k8+idR37949UKBeuXIl69cX0qxZMzp06BBoHSIiIulIAVkkJF99\ntQCAww47LFD94sWfA3DwwQcHqq8IyF27dg1U//7784HggVpERCRdKSCLhGDLli0UFq4mOzs70Ona\nABYu/AyAgw46KFD9ggWR+kMPPTRQ/eLFi2q0fBERkXSlgCwSgi+//BKAAw44gMzMzGrr3Z1Vq5YD\n0LZt20DrWL16JQCtW7cOVL9s2dIdbRIREdmTKSCLhGDNmjUAgS79DLBp0yZKSoqpX79+4NOvff31\nqhqtY+lSBWQRERFQQBYJxbp16wBo3rx5oPrCwkIA9t5778Djg2sakAsLI6F9n332CVQvIiKSrhSQ\nRUKwfv16IHhAXrt2LQB5eXmB6rdv387mzZvJyMigadOmgebZsGEDQOB6ERGRdKWALBKCih7kIJd/\nhshBfQANGzascX3QHucNG4oAaNKkSaB6ERGRdKWALBKCzZs3AwQeT7x161YAcnNzA9VXBOQGDRoE\nblNRUSQgqwdZRET2dArIIiHYvn07ANnZ2YHqi4uLAQJdkhp2LyBXhPCazFNbZlbfzMaZ2XQze8nM\nfjCGxMz+ZGazzexdM7s6aY0TEZGkS5XvBQVkkRBs27YNgJycnED1yehBLi0tBYKH9ji5FvjQ3Y8F\nngJui51oZicCHd29F9AHuNXMgg3cFhGRuiglvhcUkEVCsLs9yEEDcllZGQBZWVmB21QRkGsyTxz0\nAV6OPp4CnLTT9NnAldHHDmQC25PTNBERCUFKfC8k9ZtQRCJqGpArAm+Qi4oAlJeXA5CREexv4PLy\n8hrPU1NmdhUwbKeXvwaKoo83At8bAO3uxUCxmWUDTwIF7r5pF8seAgyB4BdSERGRpGhpZnNinhe4\newEk9nuhthSQRUJQ04Ds7gCBz0hR07Ab2+McdB015e6PAY/FvmZmLwCNo08bA+t3ni/609lYYKq7\n31XJsguAAoD8/HyPY7NFRKR21rp7/q4mJPJ7obY0xEIkBDUdzpDogBzS8AqAmUD/6OPTgOmxE82s\nPvAaMNrdRya5bSIiknwp8b2gHmSRECW6R7imATnoEI44egh40sxmANuACwHM7B4ivQO9gfbA1TFH\nKl/h7kuS3VAREUmKlPheUEAWqQMS3YNcUZ/sgOzuW4BzdvH6LdGH7wB/TWqjREQkNKnyvaAhFiIh\nqAi8Na2vaUAOoUdYRESkzlNAFglR0MCb6B5kERER+Y6GWIjUARUBuaZDJhJ1Roq6ZtWqVZSUlOx4\nHvu5mNkPbhkZGWRkZHzvcUZGBpmZmd+7T+RZP0REJDwKyCIhqOkQi90NvApvEeeffz7Tpk1LyLLN\njKysLDIzM8nKyqr0lp2dveM+OzubnJyc7z3e1a1evXrUq1fve4/r1atHbm4uubm533ucm5tL/fr1\nv/c49rn+LYiIBKeALBKiRA2xkORxd7Zv377j3NapqiIw169fnwYNGlR5a9iw4Q9ujRo1+sF9xa1B\ngwb6tykiaUUBWaQOSHRArmmPttQ9W7duZevWrQlZtpnRsGFDGjduTKNGjWjcuPEPHjdu3JgmTZrQ\npEmT7z3e+da4cWMdXCoioVNAFgnB7gbSRPfSpWsvYKtWrTjggAOAH3725eXluPsPbhWX3469lZWV\n7biveCyRz3TTpk1s2hSfq702bNiQpk2bVnlr1qzZjvudb40aNUrbf8sikhwKyCIh0pd4cowZMyYh\ny60I0mVlZZSWllJaWrrjcVlZGdu3b6e0tPR797G3bdu2/eC+pKTkB/cVj4uLi3c8Lykp2fG8uLiY\nrVu3/uC+4nHsAYp1webNm9m8eTMrV67crfkzMzN3hOfmzZv/4H5XtxYtWtC8eXOaNm2qHmwRUUAW\nEdldZkZmZiaZmZnk5OSE3ZxKlZeXU1xczJYtW9i6dStbtmz5wePNmzfvuK/sVtFLvPPjRA3d2F1l\nZWV8++23fPvttzWe18xo2rTpjtC8861t27YMGTIkAa0WkVSigCwSAo35lWTKyMjYcQBeIpSWlu4I\nzRs3btxxX3HbsGHDDx5v2LBhx+OioqLvPQ+Tu7N+/XrWr1/PkiU/vHLtoYceqoAssgdQQBYJkYZY\nSDrIysraMTa4tsrKyti0aRNFRUU7gnPF4/Xr1+94XPE89lbx2pYtW+LwrnatRYsWCVu2iKQOBWQR\nUY+2pIyK8cO1Cdvbtm1j/fr1rFu3jqKiItatW7fj+a5u33777Y7HGzZsqHLZzZs33+12iUjdoYAs\nIjuoR1vSQU5ODnvvvTd77713jectLS3dEaYrxjHH3jp16pSAFotIqlFAFgmBemxFUlNWVhYtW7ak\nZcuWYTdFREKUEXYDRPZk6rEVERFJPQrIIiIiIiIxFJBFRERERGIoIIuIiIiIxFBAFhEdNCgiIhJD\nAVlEdtBBgyIiIgrIIiIiIiLfo4AsIiIiIhJDAVlEREREJIYCsoiIiIhIDAVkEREREZEY1QZkMxti\nZnPMbE5hYWEy2iSV0LZILdoeIiIi6anagOzuBe6e7+75eXl5yWiTVELbIrVoe4iIiKQnDbEQERER\nEYmhgCwiIiIiEkMBWUREREQkhgKyiIiIiEgMBWQRERERkRgKyCIiIiIiMRSQRURERERiKCCLiIiI\niMRQQBYRERERiaGALCIiIiISQwFZRERERCSGArKIiIiISAwFZJE05O5hNyEQM6tvZuPMbLqZvWRm\neZXUNTCz+WbWL9ltFBGR5EmV7wUFZJE0ZmZhN6E61wIfuvuxwFPAbZXU/QOoG6lfRERqIyW+FxSQ\nRSRMfYCXo4+nACftXGBm/w+YBbyfxHaJiEg4UuJ7QQFZRJLCzK4ys49ib0BToChasjH6PHaevkAn\ndx9VzbKHmNkcM5tTWFiYkPaLiMhuaVmxf47ehlRMSOT3Qm1lJXLhIiIV3P0x4LHY18zsBaBx9Glj\nYP1Os10FHGBmU4GDgCPNbLW7z99p2QVAAUB+fr6GYoiIpI617p6/qwmJ/F6oLQVkEQnTTKA/8A5w\nGjA9dqK7X1jx2MyeAJ6L905QRERSSkp8L2iIhYiE6SHgUDObAQwBfgdgZveYWc9QWyYiImFIie8F\n9SCLSGjcfQtwzi5ev2UXr12ejDaJiEh4UuV7QT3IIiIiIiIxFJBFRERERGIoIIuIiIiIxFBAFhER\nERGJoYAsIiIiIhJDAVlEREREJIYCsoiIiIhIDAVkEREREZEYCsgiIiIiIjEUkEVEREREYiggi4iI\niIjEUEAWEREREYmhgCwiIiIiEkMBWUREREQkhgKyiIiIiEgMBWQRERERkRgKyCIiIiIiMRSQRURE\nRERiKCCLiIiIiMRQQBYRERERiaGALCIiIiISQwFZRERERCSGArKIiIiISAwFZBERERGRGArIIiIi\nIiIxFJBFRERERGIoIIuIiIiIxFBAFhERERGJoYAsIiIiIhKj2oBsZkPMbI6ZzSksLExGm6QS2hap\npTbbIzs7m9zcXDIzMwPVZ2ZmkpubS3Z2dqD6jIwMcnNzycnJCdym3NxccnNzA9eLiIikq6zqCty9\nACgAyM/P95osPCcn53tfuBkZ6rCujdpsi4rAVKEmwUl2rTbbY9SoUYwaNSpw/Y033siNN94YuP6E\nE05g69atgetbtGhRo3oREZF0Vm1Aro1x48YlcvFSA3369FEAEhEREQlAXboiIiIiIjEUkEVERERE\nYiggi4iIiIjEUEAWEREREYmhgCwiIiIiEkMBWUREREQkhgKyiIiIiEgMBWQRCY2Z1TezcWY23cxe\nMrO8XdRcbmZvR69a+Osw2ikiIsmRKt8LCsgiEqZrgQ/d/VjgKeC22Ilm1iFacwLQE8gxs2DX2xYR\nkbooJb4XFJBFJEx9gJejj6cAJ+00/SRgDvAk8CYw0923J695IiKSZCnxvVCjS03PnTt3rZl9Fe9G\npKADwm5AdfagbQHaHqlkt7eFmV0FDNvp5a+BoujjjUDTnaa3BI4DfgTUB2aa2VHuvn6nZQ8BhkSf\nbjKzzytpRktg7e69g5Sg9oerqvZrP5XmzCzsJtRVXcxsTszzAncvgMR+L9RWjQKyu/9gHIiEQ9si\ntWh7VM/dHwMei33NzF4AGkefNgZ23sF9A0x1943ARjP7BOgMvLPTsguAguraYGZz3D1/995B+NT+\ncNX19ms/Jakmkd8LtaUhFiISpplA/+jj04Dpu5h+gpnlmllD4BBgYRLbJyIiyZUS3ws16kEWEYmz\nh4AnzWwGsA24EMDM7gHGuvs7ZvYYkR2iASPd/dvQWisiIomWEt8L5u7xXqaISEoysyEVY9/qIrU/\nXHW9/SISXK2GWJjZrWa2ysxyo89/a2ZDd6q53MyWmtnNAZeZaWbjK5nWxsx+ZmYnm9ne1SznPjM7\nMOA6rzezL3duezozs2lm9uOdXvu7mf20kvpMMxtvZoujp1iJnTbRzHY+ylQk5dT1cKP2h6uut19E\ngqvtGOSLgOeA86upe8bd/xJwmX2AWZVMO5jIkeojgLbVLOdAd18SZIXu/gDwRMD2pYsC4NKKJ2aW\nA5wBPFtJfcV2GQ1cEjPfPkAX4LWEtVREREQkiXY7IJvZCcAi4GHguoDzPGFmo8zsv2b2ppldG71K\nykcxvZKnA/8xs95m9lb0SiqTzKwx8B7wDPAu8IGZtYxZVoGZLYyu51Dgk+jj26JXWplvZtdU9toe\naCxwopk1iD4fCPwXmGxmD5vZ1Ojn2io6/XTgP8DjwAUxy7kUeMLd3czuNLPZ0avb3JSsNyIiIiIS\nT7XpQf4p8Ki7fw6UmNnRAef70t1PAT4l0svbHxhHpPcS4GB3/xQ4E3gBOJ5Ir2Vzd1/r7ve4+y3u\nvg34FTDB3Y8Hnue7gw4rQvYRRI6APJrI+fIOqeS1Pe7khu5eDEwEBkVfuoLvTpM1y91PAMYQ6a2H\n6HZx9xXA52bWO/r6RURCM0TC8oVEzk+4NbHvQCQ4M8uI/uE3O/rHX8ew2xSUmR1tZlOjjzua2Yxo\nx8FDZpayZyIys2wz+2e0re+Y2YA61v5MMxttZjOjQ9I61KX2i0jt7NZ/bjNrTuQUHD83s5eJnMT5\n+oCzvxe9X0+0lxdYB+SaWXu+O1XHH4C9ifx0fzawq6ukHMx3wzFiTwPSK/p6F+Addy9z9y3u/vNd\nveZ77pGKo4BLzGw/In+AVGyb16P3s4ic4Dt2u1TMd6mZHQN84e5fR18/H7gLeAVolvDWiwR3JpDr\n7r2A4cC9IbcnEDO7BXgUyI2+9BfgtuglWI3ILz+p6mLgm2hbTwMeoG61/wwAd+8N/IZI2+tS+0Wk\nFnb3r9+Lgcfc/RR370ekN/YUIMhJyKsKo2f8//buNcauqgzj+P8BCxi0AUSDESwaNKBRg00JBmNp\ntQhCxDQ2XuplTCRAY1IgXvCCIobIJ6LFVCWmCsYEiwaNUkNp0ta20naIkNRCY9QSLgmhxRsGbWj7\n+GGt6SyOI54zMz1zTn1+yWTOXnvvtd/Zk8ys85611wvcXV8vpXx0vwDYyXiVrNbvKINhgHMBJJ0E\n/M32AWAX8NaaPZol6V5gd2ebpGO7iPuIY3sHZRHu5ZQs/Zi59ft5lHvf/l4A1lDu+8epWed6D5dQ\npqzH95wAAAU3SURBVF8sBEYkDXxlqfi/cah0qe2twLAUe/gjsLjZnksprQoTl2AdJHcC1zXb+xmi\n+G3/jPH/O3Mo1b2GJv6ImJrJDpA/CfxwbMP2s5RpEpdNMZ53MP7HZ5SyDt5GyoDr9gmOvwl4r6T1\n9drPARcy/o/wwfp6C7AZ+JHtbRO07Zti3MNsFeXetQ/njdT7fjFwI8//vVDffPwcWACsq237gD8D\nD1Iy0GuBR/sQf0Q3ZjNeuhTggKSBXwfe9k95/qdnaj7xmqgE68Cw/Q/bz9TnR34CfIkhih/A9n5J\ntwG3UH6GoYo/IibvsK+DLGkEONP2tYeh7/cAe2yP1mXGvmB74f8677/0dT3wpO3vTGeMw6bOdbzC\n9q6ZjiViuki6Gdhqe3Xdftz2qTMcVlcknQ7cYfvcNm5JlwKLbHc7va3vJJ0G3AWstL1q2OIfUx9W\n3gbMtn1ibRua+COid/16wODD6nId5B7tBlZI2gTcAHx2Mp1I+hQwMo1xRcRgOVS6tM6d3zGz4Uza\nA3UFIZi4BOvAqEtArgU+Z3tsCtcwxf9RSZ+vm88CB4H7hyX+iJiaVNKLiCNeXW1gJfBmysNVnxiW\nT0k6MsivpzwkewxlJaDL6pSngSPpm8AHKM+CjFkOrGA44j+eskLPKcAsypS+hxmS+x8RU5MBckRE\nREREI2s4RkREREQ0MkCOiIiIiGhkgBwRERER0cgAOSIiIiKikQFyREREREQjA+SIiCEi6XpJV0zh\n/KMl3SNps6QTm/ZvSHp1j33dIemYjrYLJf1gsvFFRAyCgS+1GhER0+qVwMm257aNtq/qtSPbH5y2\nqCIiBkgyyBERfSJptqTVktZK+q2kK2v7hprBXSdpu6Q5tf26etw9kjY1VdzG+vu6pC2S7pO0ZILr\nLZU0WrPF35c0C7gVeJ2k73Ycu0HSmTVDfZukX0l6SNK76/5Lal+jkm6VdJSkRyQdJ+msGsM64Mqm\nzyW1fbOkm2pbL/3Pr+dulLSqxh8RcdhlgBwR0T9nUKriXQBcAlzT7Ntu+13AvcCHJL2FUs54HvA+\nSub3EEkXAa+xfR6wAPiipBOa/S8DvgostP124K/A5cAy4CHbl79AnPtsX0SpfHe1pBcB3wIutj0P\neBw4tTn+a8CXa/y/qdc/qV7/nfX6r5K0qIf+T6NUrVtsez7wBDDyAjFHREybTLGIiOifJ4GrJC0G\n/k4pYTzmgfr9MUp547Mog+YDwD8l3d/R15uAuZI21O1ZwBzKQBjgtcBO28/U7V8DFwC/7CLONpbj\ngJOBv9h+CsD2DQCSxo5/I7C9vt5SYz8DeDmwph730hpTV/1LegXlTcHqev6LgbVdxB4RMWXJIEdE\n9M+ngftsfwS4E1Czzx3H7gTm1akGxwJnd+zfBay3fT6wEFgN/KnZvxt4g6Tj6/Z84PddxtkZy1PA\nCTUrjKQVks7piOVt9fW85vqPAYtqjLcA27rtHzidkkm+tJ5/I7C+y/gjIqYkGeSIiP75BfBtSUuB\np4H9dfD7H2zvkLQG2ArsBZ6rX21f50vaBLwEuKvJFmN7r6SvAOslHQT+AFxLyU73xPZBScuAuyUd\noGSAR5tDlgE/lvQZYA/wL9t7JN0MbJR0NPAIZRDfS//La9tRlIz7x3qNPSJiMmR3vpGPiIiZVqcY\nvN/2yjqI3kmZT/zoDIcWEXHESwY5ImIw7aVMsRilTEn4XgbHERH9kQxyREREREQjD+lFRERERDQy\nQI6IiIiIaGSAHBERERHRyAA5IiIiIqKRAXJEREREROPfWIwT1jvf/uwAAAAASUVORK5CYII=\n",
          "text/plain": "<matplotlib.figure.Figure at 0x9f10a58>"
         },
         "metadata": {},
         "output_type": "display_data"
        },
        {
         "data": {
          "text/plain": "(array([ 0,  1,  2,  3,  4,  5,  6,  7,  8,  9, 10, 11, 12, 13, 14, 15, 16,\n        17, 18, 19, 20, 21, 22, 23, 24, 25, 26, 27, 28, 29, 30]),\n array([-0.24338299, -0.24341179, -0.24349814, -0.24364195, -0.24384303,\n        -0.24410115, -0.24441598, -0.24478715, -0.24521421, -0.24569662,\n        -0.24623381, -0.24682511, -0.24746982, -0.24816714, -0.24891623,\n        -0.24971616, -0.25056598, -0.25146463, -0.25241104, -0.25340403,\n        -0.25444241, -0.25552491, -0.25665021, -0.25781694, -0.25902367,\n        -0.26026894, -0.26155124, -0.26286899, -0.26422059, -0.2656044 ,\n        -0.26701872]),\n -0.24338298853988244,\n -0.094542937487458734)"
         },
         "metadata": {},
         "output_type": "display_data"
        }
       ]
      }
     },
     "9e4cdb40b8ea492cbbab752788e04218": {
      "model_module": "@jupyter-widgets/controls",
      "model_module_version": "1.0.0",
      "model_name": "SliderStyleModel",
      "state": {
       "description_width": ""
      }
     },
     "9fb9568c71684af884690ecaf99bcb58": {
      "model_module": "@jupyter-widgets/controls",
      "model_module_version": "1.0.0",
      "model_name": "IntSliderModel",
      "state": {
       "description": "angmax",
       "layout": "IPY_MODEL_7e62ee0767b94f7c97bcb02bfb241cf3",
       "max": 60,
       "min": 30,
       "step": 10,
       "style": "IPY_MODEL_8b6a07588a254b63a907cd938e4ed37c",
       "value": 30
      }
     },
     "a06650da2cc34bdfb260a610b0aef70b": {
      "model_module": "@jupyter-widgets/controls",
      "model_module_version": "1.0.0",
      "model_name": "SliderStyleModel",
      "state": {
       "description_width": ""
      }
     },
     "a06b3ac1d0404fcca5a483a868879f79": {
      "model_module": "@jupyter-widgets/controls",
      "model_module_version": "1.0.0",
      "model_name": "SliderStyleModel",
      "state": {
       "description_width": ""
      }
     },
     "a0dc5b610ecd423581f7ef7d80c69e20": {
      "model_module": "@jupyter-widgets/base",
      "model_module_version": "1.0.0",
      "model_name": "LayoutModel",
      "state": {}
     },
     "a2bd4be1537843fbb6c6d1798e05153e": {
      "model_module": "@jupyter-widgets/controls",
      "model_module_version": "1.0.0",
      "model_name": "SliderStyleModel",
      "state": {
       "description_width": ""
      }
     },
     "a4645273dba6422a86cd8e994ec1290b": {
      "model_module": "@jupyter-widgets/controls",
      "model_module_version": "1.0.0",
      "model_name": "IntSliderModel",
      "state": {
       "description": "vp1",
       "layout": "IPY_MODEL_f5bb26252c16414f8cc55e824afeb294",
       "max": 6000,
       "min": 1500,
       "step": 100,
       "style": "IPY_MODEL_6203ea2977b443b183969fe7616fa777",
       "value": 2192
      }
     },
     "a482f5d0ca034a89bbb15dd99913c89e": {
      "model_module": "@jupyter-widgets/controls",
      "model_module_version": "1.0.0",
      "model_name": "FloatSliderModel",
      "state": {
       "description": "mx",
       "layout": "IPY_MODEL_39752e63321f4355946d6b950609c436",
       "max": 1,
       "min": 0.1,
       "step": 0.2,
       "style": "IPY_MODEL_6e952a972cb34661b8713d3ac78890c9",
       "value": 0.5
      }
     },
     "a5c9e212f11847e695c06c8f0f1d9646": {
      "model_module": "@jupyter-widgets/base",
      "model_module_version": "1.0.0",
      "model_name": "LayoutModel",
      "state": {}
     },
     "a72a64d19b4f4121a55638bf5943d6fc": {
      "model_module": "@jupyter-widgets/base",
      "model_module_version": "1.0.0",
      "model_name": "LayoutModel",
      "state": {}
     },
     "a817e7cad385405c865b3c7bb09b6afd": {
      "model_module": "@jupyter-widgets/controls",
      "model_module_version": "1.0.0",
      "model_name": "SliderStyleModel",
      "state": {
       "description_width": ""
      }
     },
     "a86712049b3c4a7d831d4956cf6e3a63": {
      "model_module": "@jupyter-widgets/controls",
      "model_module_version": "1.0.0",
      "model_name": "IntSliderModel",
      "state": {
       "description": "vs1",
       "layout": "IPY_MODEL_880dd4578341482186ff1e5151bb8740",
       "max": 3000,
       "min": 1000,
       "step": 100,
       "style": "IPY_MODEL_fbddb8f05bcc408a95be77ccb6f5880a",
       "value": 1000
      }
     },
     "a8edc79d77514d7aa05584c9b0b85222": {
      "model_module": "@jupyter-widgets/controls",
      "model_module_version": "1.0.0",
      "model_name": "DropdownModel",
      "state": {
       "_options_labels": [
        "Class 1",
        "Class 2",
        "Class 3",
        "Class 4"
       ],
       "description": "avoclass",
       "index": 2,
       "layout": "IPY_MODEL_a5c9e212f11847e695c06c8f0f1d9646",
       "style": "IPY_MODEL_b018bea20dbe4ff3bb44637292e4d79e"
      }
     },
     "a9876f872a9741cf8a955981cf88b461": {
      "model_module": "@jupyter-widgets/base",
      "model_module_version": "1.0.0",
      "model_name": "LayoutModel",
      "state": {}
     },
     "aa8d0455847e4241bcc2b26a61dc82ba": {
      "model_module": "@jupyter-widgets/controls",
      "model_module_version": "1.0.0",
      "model_name": "IntSliderModel",
      "state": {
       "description": "vs2",
       "layout": "IPY_MODEL_795a8f3756ed499d8b9ffad15ea9fcbb",
       "max": 3000,
       "min": 1000,
       "step": 100,
       "style": "IPY_MODEL_b2bf1004ed79460e8d6d49d258fe8e39",
       "value": 1000
      }
     },
     "ab905f1941704a9381528ed225eb466c": {
      "model_module": "@jupyter-widgets/base",
      "model_module_version": "1.0.0",
      "model_name": "LayoutModel",
      "state": {}
     },
     "abd38032788046c6b1325eb9a6fa86a3": {
      "model_module": "@jupyter-widgets/base",
      "model_module_version": "1.0.0",
      "model_name": "LayoutModel",
      "state": {}
     },
     "abe6161f6d1844379248cce796e7adf9": {
      "model_module": "@jupyter-widgets/base",
      "model_module_version": "1.0.0",
      "model_name": "LayoutModel",
      "state": {}
     },
     "ad804371dbb548e6ad91db34dda1ed50": {
      "model_module": "@jupyter-widgets/controls",
      "model_module_version": "1.0.0",
      "model_name": "IntSliderModel",
      "state": {
       "description": "vp2",
       "layout": "IPY_MODEL_244e805a80c144319817e78550f08417",
       "max": 6000,
       "min": 1500,
       "step": 100,
       "style": "IPY_MODEL_37d028ba6e464ef7ad8ef002732e6daf",
       "value": 1542
      }
     },
     "adaade5525824aba97e6db9e65378dba": {
      "model_module": "@jupyter-widgets/controls",
      "model_module_version": "1.0.0",
      "model_name": "IntSliderModel",
      "state": {
       "description": "angmax",
       "layout": "IPY_MODEL_3fe25999cc7f48feaabd1b4a28a8c842",
       "max": 60,
       "min": 30,
       "step": 10,
       "style": "IPY_MODEL_56b56a663c384772b1e415882acc2425",
       "value": 30
      }
     },
     "ade00f0b058a449e9dbc1bece7871fb2": {
      "model_module": "@jupyter-widgets/output",
      "model_module_version": "1.0.0",
      "model_name": "OutputModel",
      "state": {
       "layout": "IPY_MODEL_225cce39f24f48529280d52f49ab176b",
       "outputs": [
        {
         "name": "stdout",
         "output_type": "stream",
         "text": "Shale:  Vp=2192, Vs=818, rho=2.16\nSand (brine): Vp=2134, Vs=860, rho=2.11, porosity=0.33\nSand (gas): Vp=1521, Vs=911, rho=1.88\n"
        },
        {
         "data": {
          "image/png": "iVBORw0KGgoAAAANSUhEUgAABY8AAALFCAYAAACLaBzyAAAABHNCSVQICAgIfAhkiAAAAAlwSFlz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\nSRpj8FiSJEmSJEmSNOb/AwtDoznx2EuIAAAAAElFTkSuQmCC\n",
          "text/plain": "<matplotlib.figure.Figure at 0x112e09550>"
         },
         "metadata": {
          "image/png": {
           "height": 354,
           "width": 711
          }
         },
         "output_type": "display_data"
        }
       ]
      }
     },
     "af75130110464dab9ff2b6438176eefd": {
      "model_module": "@jupyter-widgets/controls",
      "model_module_version": "1.0.0",
      "model_name": "DescriptionStyleModel",
      "state": {
       "description_width": ""
      }
     },
     "afb5173f46074d159db67aab7385a891": {
      "model_module": "@jupyter-widgets/controls",
      "model_module_version": "1.0.0",
      "model_name": "SliderStyleModel",
      "state": {
       "description_width": ""
      }
     },
     "b018aa4c5f2b48d0b61ad6f4157e44f4": {
      "model_module": "@jupyter-widgets/controls",
      "model_module_version": "1.0.0",
      "model_name": "DescriptionStyleModel",
      "state": {
       "description_width": ""
      }
     },
     "b018bea20dbe4ff3bb44637292e4d79e": {
      "model_module": "@jupyter-widgets/controls",
      "model_module_version": "1.0.0",
      "model_name": "DescriptionStyleModel",
      "state": {
       "description_width": ""
      }
     },
     "b04a55aa48e3412f836f9ee4939f1570": {
      "model_module": "@jupyter-widgets/controls",
      "model_module_version": "1.0.0",
      "model_name": "DescriptionStyleModel",
      "state": {
       "description_width": ""
      }
     },
     "b20e0109f9f54fcbb5302addd85e0971": {
      "model_module": "@jupyter-widgets/controls",
      "model_module_version": "1.0.0",
      "model_name": "VBoxModel",
      "state": {
       "_dom_classes": [
        "widget-interact"
       ],
       "children": [
        "IPY_MODEL_bb0e4329e55e48d28c886745fa06c6d3",
        "IPY_MODEL_d5b97768b3e04114b5cd6c283ae98c41",
        "IPY_MODEL_452173adcd5844d6baae1c16400c1f31",
        "IPY_MODEL_bc4483836c5c4704899b8e54b7c7d63c",
        "IPY_MODEL_e3644abc38b74bf092a9254ddc6931ba",
        "IPY_MODEL_64f3620c0b7f497b83985a110b54b0ff",
        "IPY_MODEL_8404eab171cb4872a8dd2a43abdcf5af",
        "IPY_MODEL_74d239b263314135b1d2dac1b86bea86",
        "IPY_MODEL_f0d49c87eb134479af1b263b2a7b3b38",
        "IPY_MODEL_577ffeabf4af41aeabacc6e407c81cc4",
        "IPY_MODEL_f14cccc5011148cb859c714279e2658f"
       ],
       "layout": "IPY_MODEL_674ae89a8e7743e4bac9c4f6a78d6cd1"
      }
     },
     "b28d6a98a93644cead505951f5d31761": {
      "model_module": "@jupyter-widgets/controls",
      "model_module_version": "1.0.0",
      "model_name": "DropdownModel",
      "state": {
       "_options_labels": [
        "normal",
        "reverse"
       ],
       "description": "polarity",
       "index": 0,
       "layout": "IPY_MODEL_01e0321898e34bc4a6b575f4c53a8f60",
       "style": "IPY_MODEL_082c8120f0c34d8789495f8be7d8a22e"
      }
     },
     "b2bf1004ed79460e8d6d49d258fe8e39": {
      "model_module": "@jupyter-widgets/controls",
      "model_module_version": "1.0.0",
      "model_name": "SliderStyleModel",
      "state": {
       "description_width": ""
      }
     },
     "b30fcc5f57784ba7b3bf7b7ce823bf23": {
      "model_module": "@jupyter-widgets/controls",
      "model_module_version": "1.0.0",
      "model_name": "SliderStyleModel",
      "state": {
       "description_width": ""
      }
     },
     "b363df554e9c4d6dbca2f3375e7184cb": {
      "model_module": "@jupyter-widgets/controls",
      "model_module_version": "1.0.0",
      "model_name": "DropdownModel",
      "state": {
       "_options_labels": [
        "oil",
        "gas"
       ],
       "description": "fluid",
       "index": 1,
       "layout": "IPY_MODEL_e1682398abdc4054ab0516641f81ef16",
       "style": "IPY_MODEL_ca1ccb36109f4bcfac3231206b6146e9"
      }
     },
     "b4522e38be0a4d2d9b85889692f35eac": {
      "model_module": "@jupyter-widgets/controls",
      "model_module_version": "1.0.0",
      "model_name": "DropdownModel",
      "state": {
       "_options_labels": [
        "normal",
        "reverse"
       ],
       "description": "polarity",
       "index": 0,
       "layout": "IPY_MODEL_89e42a5eb7b9455fbf481b665ae3af45",
       "style": "IPY_MODEL_1c667fad288e43b5b5def82d1fc07d91"
      }
     },
     "b46116ea2cd8455cb3fea332818938b7": {
      "model_module": "@jupyter-widgets/controls",
      "model_module_version": "1.0.0",
      "model_name": "SliderStyleModel",
      "state": {
       "description_width": ""
      }
     },
     "b513d254313d43fc9ff8adb90877867e": {
      "model_module": "@jupyter-widgets/controls",
      "model_module_version": "1.0.0",
      "model_name": "IntSliderModel",
      "state": {
       "description": "vs2",
       "layout": "IPY_MODEL_d7320993a31243b9b689d4cf4ef9ddf2",
       "max": 3000,
       "min": 1000,
       "step": 100,
       "style": "IPY_MODEL_f8b34d9aea474bdcb88acc732e635f95",
       "value": 1000
      }
     },
     "b6677f0e1ffe43618b28e316dea298a1": {
      "model_module": "@jupyter-widgets/controls",
      "model_module_version": "1.0.0",
      "model_name": "FloatSliderModel",
      "state": {
       "description": "rho1",
       "layout": "IPY_MODEL_e06927c5d0ec4bb6a50884c881ec76ac",
       "max": 3,
       "min": 1.5,
       "step": 0.1,
       "style": "IPY_MODEL_3e0aeb027d6548b093cb40aac35fdd4b",
       "value": 2.16
      }
     },
     "b6dee7afbec5436d858187117dee4cf2": {
      "model_module": "@jupyter-widgets/controls",
      "model_module_version": "1.0.0",
      "model_name": "SliderStyleModel",
      "state": {
       "description_width": ""
      }
     },
     "b7344350271e43ea882b35c24e53d62b": {
      "model_module": "@jupyter-widgets/controls",
      "model_module_version": "1.0.0",
      "model_name": "FloatSliderModel",
      "state": {
       "description": "rho2",
       "layout": "IPY_MODEL_6590c018d198496f8352b6784cc13554",
       "max": 3,
       "min": 1.5,
       "step": 0.1,
       "style": "IPY_MODEL_3b89b83949e541e999a27c477c0ecf18",
       "value": 2
      }
     },
     "b961ee17ff5c422dbafe1a985e35a5db": {
      "model_module": "@jupyter-widgets/base",
      "model_module_version": "1.0.0",
      "model_name": "LayoutModel",
      "state": {}
     },
     "bab79fe0a168437cad622dd976acb1dd": {
      "model_module": "@jupyter-widgets/controls",
      "model_module_version": "1.0.0",
      "model_name": "SliderStyleModel",
      "state": {
       "description_width": ""
      }
     },
     "bb0e4329e55e48d28c886745fa06c6d3": {
      "model_module": "@jupyter-widgets/controls",
      "model_module_version": "1.0.0",
      "model_name": "IntSliderModel",
      "state": {
       "description": "vp1",
       "layout": "IPY_MODEL_0cf6bc1daae548e0abf480c03fd9a392",
       "max": 6000,
       "min": 1500,
       "step": 100,
       "style": "IPY_MODEL_bab79fe0a168437cad622dd976acb1dd",
       "value": 2192
      }
     },
     "bbb2f787eb97440d87606ed5907a457d": {
      "model_module": "@jupyter-widgets/controls",
      "model_module_version": "1.0.0",
      "model_name": "DescriptionStyleModel",
      "state": {
       "description_width": ""
      }
     },
     "bc33e17a27b040ad86c43df9f246d98a": {
      "model_module": "@jupyter-widgets/controls",
      "model_module_version": "1.0.0",
      "model_name": "SliderStyleModel",
      "state": {
       "description_width": ""
      }
     },
     "bc4483836c5c4704899b8e54b7c7d63c": {
      "model_module": "@jupyter-widgets/controls",
      "model_module_version": "1.0.0",
      "model_name": "IntSliderModel",
      "state": {
       "description": "vp2",
       "layout": "IPY_MODEL_e84458c27aa944a4afa0624f5d676ca5",
       "max": 6000,
       "min": 1500,
       "step": 100,
       "style": "IPY_MODEL_afb5173f46074d159db67aab7385a891",
       "value": 1542
      }
     },
     "bc6dff83e7c249498cd8326b8cab1da6": {
      "model_module": "@jupyter-widgets/controls",
      "model_module_version": "1.0.0",
      "model_name": "SliderStyleModel",
      "state": {
       "description_width": ""
      }
     },
     "bceaa108b081448ca0e004579afdc579": {
      "model_module": "@jupyter-widgets/controls",
      "model_module_version": "1.0.0",
      "model_name": "CheckboxModel",
      "state": {
       "description": "black",
       "disabled": false,
       "layout": "IPY_MODEL_30b06650cf3341da8a84b0069076ba0f",
       "style": "IPY_MODEL_0b0f32c8433c4073bbc7a0813e80dd23",
       "value": false
      }
     },
     "bd03e03e4ec3460fad43b940cda6a10c": {
      "model_module": "@jupyter-widgets/controls",
      "model_module_version": "1.0.0",
      "model_name": "DescriptionStyleModel",
      "state": {
       "description_width": ""
      }
     },
     "bd18392d3fa14aacb4dd1f9d63273d47": {
      "model_module": "@jupyter-widgets/controls",
      "model_module_version": "1.0.0",
      "model_name": "IntSliderModel",
      "state": {
       "description": "vs2",
       "layout": "IPY_MODEL_2c6ab33fb4ec45858d2f018df17d9e2c",
       "max": 3000,
       "min": 1000,
       "step": 100,
       "style": "IPY_MODEL_e6c9e10a78fd4675ac359d22c82d26f9",
       "value": 2529
      }
     },
     "bd60b16aa9c74dfab15c095612e6eeeb": {
      "model_module": "@jupyter-widgets/base",
      "model_module_version": "1.0.0",
      "model_name": "LayoutModel",
      "state": {}
     },
     "bddf0afd64ab4560b23a19b2b1ab5ba3": {
      "model_module": "@jupyter-widgets/controls",
      "model_module_version": "1.0.0",
      "model_name": "IntSliderModel",
      "state": {
       "description": "vp1",
       "layout": "IPY_MODEL_d33c95a9a20a4364a0a7285e58ccaf33",
       "max": 6000,
       "min": 1500,
       "step": 100,
       "style": "IPY_MODEL_806cc7a3b66c49a09e98801405e26468",
       "value": 2192
      }
     },
     "bddf589f92714f88bb2b008fc57e3591": {
      "model_module": "@jupyter-widgets/controls",
      "model_module_version": "1.0.0",
      "model_name": "DescriptionStyleModel",
      "state": {
       "description_width": ""
      }
     },
     "be027e3f09854c568535959ec580eb41": {
      "model_module": "@jupyter-widgets/controls",
      "model_module_version": "1.0.0",
      "model_name": "IntSliderModel",
      "state": {
       "description": "angmax",
       "layout": "IPY_MODEL_d541495cdeee458c9801ba397ee8d532",
       "max": 60,
       "min": 30,
       "step": 10,
       "style": "IPY_MODEL_71b0cf77b9754e0e92bf661413ccd063",
       "value": 30
      }
     },
     "bebd82704b034613a1268823242d18ad": {
      "model_module": "@jupyter-widgets/controls",
      "model_module_version": "1.0.0",
      "model_name": "DescriptionStyleModel",
      "state": {
       "description_width": ""
      }
     },
     "bfedcbc9c97c4af48620767944bcf0b2": {
      "model_module": "@jupyter-widgets/controls",
      "model_module_version": "1.0.0",
      "model_name": "CheckboxModel",
      "state": {
       "description": "black",
       "disabled": false,
       "layout": "IPY_MODEL_a9876f872a9741cf8a955981cf88b461",
       "style": "IPY_MODEL_b018aa4c5f2b48d0b61ad6f4157e44f4",
       "value": false
      }
     },
     "c0530d562bc44715adf78725d6568e4c": {
      "model_module": "@jupyter-widgets/base",
      "model_module_version": "1.0.0",
      "model_name": "LayoutModel",
      "state": {}
     },
     "c271cd2197234b179a73004f37b289bf": {
      "model_module": "@jupyter-widgets/controls",
      "model_module_version": "1.0.0",
      "model_name": "SliderStyleModel",
      "state": {
       "description_width": ""
      }
     },
     "c2fde726c8164bf08d17b79072398df6": {
      "model_module": "@jupyter-widgets/controls",
      "model_module_version": "1.0.0",
      "model_name": "SliderStyleModel",
      "state": {
       "description_width": ""
      }
     },
     "c45f0d87c0b04e758270e6de5332289d": {
      "model_module": "@jupyter-widgets/controls",
      "model_module_version": "1.0.0",
      "model_name": "SliderStyleModel",
      "state": {
       "description_width": ""
      }
     },
     "c62b37bda31f43dc890b217ea75f35b6": {
      "model_module": "@jupyter-widgets/controls",
      "model_module_version": "1.0.0",
      "model_name": "IntSliderModel",
      "state": {
       "description": "angmax",
       "layout": "IPY_MODEL_966c04ee07d4434bb141d0b13ee6a3ed",
       "max": 60,
       "min": 30,
       "step": 10,
       "style": "IPY_MODEL_0d8ac9dc675c487c92389f6654a4e854",
       "value": 30
      }
     },
     "c6f0f9c24eb549349989a4d622901332": {
      "model_module": "@jupyter-widgets/controls",
      "model_module_version": "1.0.0",
      "model_name": "IntSliderModel",
      "state": {
       "description": "angmax",
       "layout": "IPY_MODEL_3a562b37f33a4fa1a6414625c489f9d0",
       "max": 60,
       "min": 30,
       "step": 10,
       "style": "IPY_MODEL_98b2186ba2124f9b9c1e977033e30c68",
       "value": 30
      }
     },
     "c70adc1875c24bcda94bc128c47fd6b6": {
      "model_module": "@jupyter-widgets/controls",
      "model_module_version": "1.0.0",
      "model_name": "DescriptionStyleModel",
      "state": {
       "description_width": ""
      }
     },
     "c72b3dc08735429fa0982e5478ea152e": {
      "model_module": "@jupyter-widgets/controls",
      "model_module_version": "1.0.0",
      "model_name": "SliderStyleModel",
      "state": {
       "description_width": ""
      }
     },
     "c75c5e56337941bf92442ae8a1048e66": {
      "model_module": "@jupyter-widgets/controls",
      "model_module_version": "1.0.0",
      "model_name": "SliderStyleModel",
      "state": {
       "description_width": ""
      }
     },
     "c7bb48cf9c5644c5a54b6a22cb471095": {
      "model_module": "@jupyter-widgets/controls",
      "model_module_version": "1.0.0",
      "model_name": "SliderStyleModel",
      "state": {
       "description_width": ""
      }
     },
     "c7cfef4bb033452889fdaa56ad99dc24": {
      "model_module": "@jupyter-widgets/controls",
      "model_module_version": "1.0.0",
      "model_name": "SliderStyleModel",
      "state": {
       "description_width": ""
      }
     },
     "c843f9aac8dd41478b79ce5e64f2d9f9": {
      "model_module": "@jupyter-widgets/controls",
      "model_module_version": "1.0.0",
      "model_name": "SliderStyleModel",
      "state": {
       "description_width": ""
      }
     },
     "c8dae81936b24d449b31121e7b615199": {
      "model_module": "@jupyter-widgets/controls",
      "model_module_version": "1.0.0",
      "model_name": "SliderStyleModel",
      "state": {
       "description_width": ""
      }
     },
     "c92f88276b184ada9926c1d585b3ada2": {
      "model_module": "@jupyter-widgets/controls",
      "model_module_version": "1.0.0",
      "model_name": "SliderStyleModel",
      "state": {
       "description_width": ""
      }
     },
     "c9452dd31ae54e54a53d3556bef1b50a": {
      "model_module": "@jupyter-widgets/controls",
      "model_module_version": "1.0.0",
      "model_name": "DropdownModel",
      "state": {
       "_options_labels": [
        "Class 1",
        "Class 3",
        "Class 2",
        "Class 4"
       ],
       "description": "avoclass",
       "index": 1,
       "layout": "IPY_MODEL_65ca5dc914a84117be0c9af7611fb9d8",
       "style": "IPY_MODEL_8c788add827744b99bab3275b79b4bed"
      }
     },
     "ca1ccb36109f4bcfac3231206b6146e9": {
      "model_module": "@jupyter-widgets/controls",
      "model_module_version": "1.0.0",
      "model_name": "DescriptionStyleModel",
      "state": {
       "description_width": ""
      }
     },
     "cb00794eacf94afeab0a14fde4fa912a": {
      "model_module": "@jupyter-widgets/controls",
      "model_module_version": "1.0.0",
      "model_name": "SliderStyleModel",
      "state": {
       "description_width": ""
      }
     },
     "cb2f0dac32714dfc8fcef8aef84fee08": {
      "model_module": "@jupyter-widgets/base",
      "model_module_version": "1.0.0",
      "model_name": "LayoutModel",
      "state": {}
     },
     "cc0177849d464b8096ebb01001a59edc": {
      "model_module": "@jupyter-widgets/output",
      "model_module_version": "1.0.0",
      "model_name": "OutputModel",
      "state": {
       "layout": "IPY_MODEL_534a37b4c9074780859d5917d4ec8875",
       "outputs": [
        {
         "data": {
          "image/png": "iVBORw0KGgoAAAANSUhEUgAABY4AAALCCAYAAAB5r0d0AAAABHNCSVQICAgIfAhkiAAAAAlwSFlz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\nAAAADAiOAQAAAAAY+P8B1pZQSLdt8XwAAAAASUVORK5CYII=\n",
          "text/plain": "<matplotlib.figure.Figure at 0x11499cdd8>"
         },
         "metadata": {
          "image/png": {
           "height": 353,
           "width": 711
          }
         },
         "output_type": "display_data"
        }
       ]
      }
     },
     "cc32d14b00fb434bab18113ad5b114c5": {
      "model_module": "@jupyter-widgets/controls",
      "model_module_version": "1.0.0",
      "model_name": "SliderStyleModel",
      "state": {
       "description_width": ""
      }
     },
     "cc4f037eadb54667999a566a6ce82773": {
      "model_module": "@jupyter-widgets/controls",
      "model_module_version": "1.0.0",
      "model_name": "FloatSliderModel",
      "state": {
       "description": "phimod",
       "layout": "IPY_MODEL_f3a8285a57d547caa3b6cc8f10fc4ac5",
       "max": 0.1,
       "min": -0.1,
       "step": 0.02,
       "style": "IPY_MODEL_21a589ce2ac6468d9c45b41b2cbbe9c0"
      }
     },
     "ccc37221c89845fe8f29a5036ea14dde": {
      "model_module": "@jupyter-widgets/controls",
      "model_module_version": "1.0.0",
      "model_name": "SliderStyleModel",
      "state": {
       "description_width": ""
      }
     },
     "ccf1a0229adc4874a37818d3bc56c69e": {
      "model_module": "@jupyter-widgets/base",
      "model_module_version": "1.0.0",
      "model_name": "LayoutModel",
      "state": {}
     },
     "cd62ef9c7717433da5fbfd445c49eeac": {
      "model_module": "@jupyter-widgets/controls",
      "model_module_version": "1.0.0",
      "model_name": "FloatSliderModel",
      "state": {
       "description": "rho1",
       "layout": "IPY_MODEL_179a17eb700c48b6b6f579f4f23e4380",
       "max": 3,
       "min": 1.5,
       "step": 0.1,
       "style": "IPY_MODEL_b46116ea2cd8455cb3fea332818938b7",
       "value": 2.16
      }
     },
     "cd76e8fb976d4152995de072d1411549": {
      "model_module": "@jupyter-widgets/base",
      "model_module_version": "1.0.0",
      "model_name": "LayoutModel",
      "state": {}
     },
     "ce77c793a35249d7a8c93a12bcd4b3bb": {
      "model_module": "@jupyter-widgets/base",
      "model_module_version": "1.0.0",
      "model_name": "LayoutModel",
      "state": {}
     },
     "cf1e7df697224301bf1961640efb9528": {
      "model_module": "@jupyter-widgets/base",
      "model_module_version": "1.0.0",
      "model_name": "LayoutModel",
      "state": {}
     },
     "cf9c20a6d6f147c2bcc9d1b47fcef314": {
      "model_module": "@jupyter-widgets/base",
      "model_module_version": "1.0.0",
      "model_name": "LayoutModel",
      "state": {}
     },
     "cfa64ef888774c73869c097447aa3643": {
      "model_module": "@jupyter-widgets/controls",
      "model_module_version": "1.0.0",
      "model_name": "FloatSliderModel",
      "state": {
       "description": "rho2",
       "layout": "IPY_MODEL_453ba06373764fc781571da1700fcb5f",
       "max": 3,
       "min": 1.5,
       "step": 0.1,
       "style": "IPY_MODEL_5d166a3950bb432da23235901f420157",
       "value": 1.88
      }
     },
     "cfb34f9574e04fcf8c04e0b4b7f0ae1d": {
      "model_module": "@jupyter-widgets/controls",
      "model_module_version": "1.0.0",
      "model_name": "FloatSliderModel",
      "state": {
       "description": "mx",
       "layout": "IPY_MODEL_e6498f1d42114494a8e261f6f450a9c1",
       "max": 1,
       "min": 0.1,
       "step": 0.1,
       "style": "IPY_MODEL_21bd599117d0432786c2d97add571fd6",
       "value": 0.6
      }
     },
     "cfda92c8459b4480a0428c5f9c4fdb17": {
      "model_module": "@jupyter-widgets/base",
      "model_module_version": "1.0.0",
      "model_name": "LayoutModel",
      "state": {}
     },
     "cff21e54eba74186a28413c7f87caae6": {
      "model_module": "@jupyter-widgets/base",
      "model_module_version": "1.0.0",
      "model_name": "LayoutModel",
      "state": {}
     },
     "d0918e2a8c5c474fadb7e27fe1e0adc8": {
      "model_module": "@jupyter-widgets/output",
      "model_module_version": "1.0.0",
      "model_name": "OutputModel",
      "state": {
       "layout": "IPY_MODEL_02479e00172749b9a3dfb015f4d23832",
       "outputs": [
        {
         "name": "stdout",
         "output_type": "stream",
         "text": "Shale:  Vp=2192, Vs=818, rho=2.16\nSand (brine): Vp=2134, Vs=860, rho=2.11, porosity=0.33\nSand (gas): Vp=1521, Vs=911, rho=1.88\n"
        },
        {
         "ename": "TypeError",
         "evalue": "avomod2() got an unexpected keyword argument 'method'",
         "output_type": "error",
         "traceback": [
          "\u001b[1;31m---------------------------------------------------------------------------\u001b[0m",
          "\u001b[1;31mTypeError\u001b[0m                                 Traceback (most recent call last)",
          "\u001b[1;32m~\\AppData\\Local\\Continuum\\Miniconda3\\lib\\site-packages\\ipywidgets\\widgets\\interaction.py\u001b[0m in \u001b[0;36mupdate\u001b[1;34m(self, *args)\u001b[0m\n\u001b[0;32m    248\u001b[0m                     \u001b[0mvalue\u001b[0m \u001b[1;33m=\u001b[0m \u001b[0mwidget\u001b[0m\u001b[1;33m.\u001b[0m\u001b[0mget_interact_value\u001b[0m\u001b[1;33m(\u001b[0m\u001b[1;33m)\u001b[0m\u001b[1;33m\u001b[0m\u001b[0m\n\u001b[0;32m    249\u001b[0m                     \u001b[0mself\u001b[0m\u001b[1;33m.\u001b[0m\u001b[0mkwargs\u001b[0m\u001b[1;33m[\u001b[0m\u001b[0mwidget\u001b[0m\u001b[1;33m.\u001b[0m\u001b[0m_kwarg\u001b[0m\u001b[1;33m]\u001b[0m \u001b[1;33m=\u001b[0m \u001b[0mvalue\u001b[0m\u001b[1;33m\u001b[0m\u001b[0m\n\u001b[1;32m--> 250\u001b[1;33m                 \u001b[0mself\u001b[0m\u001b[1;33m.\u001b[0m\u001b[0mresult\u001b[0m \u001b[1;33m=\u001b[0m \u001b[0mself\u001b[0m\u001b[1;33m.\u001b[0m\u001b[0mf\u001b[0m\u001b[1;33m(\u001b[0m\u001b[1;33m**\u001b[0m\u001b[0mself\u001b[0m\u001b[1;33m.\u001b[0m\u001b[0mkwargs\u001b[0m\u001b[1;33m)\u001b[0m\u001b[1;33m\u001b[0m\u001b[0m\n\u001b[0m\u001b[0;32m    251\u001b[0m                 \u001b[0mshow_inline_matplotlib_plots\u001b[0m\u001b[1;33m(\u001b[0m\u001b[1;33m)\u001b[0m\u001b[1;33m\u001b[0m\u001b[0m\n\u001b[0;32m    252\u001b[0m                 \u001b[1;32mif\u001b[0m \u001b[0mself\u001b[0m\u001b[1;33m.\u001b[0m\u001b[0mauto_display\u001b[0m \u001b[1;32mand\u001b[0m \u001b[0mself\u001b[0m\u001b[1;33m.\u001b[0m\u001b[0mresult\u001b[0m \u001b[1;32mis\u001b[0m \u001b[1;32mnot\u001b[0m \u001b[1;32mNone\u001b[0m\u001b[1;33m:\u001b[0m\u001b[1;33m\u001b[0m\u001b[0m\n",
          "\u001b[1;32m~\\GoogleDrive\\PYTHON\\geophysical_notes\\avo_explorer_library.py\u001b[0m in \u001b[0;36mmake_avo_explorer\u001b[1;34m(avoclass, fluid, phimod)\u001b[0m\n\u001b[0;32m    356\u001b[0m         \u001b[0mprint\u001b[0m\u001b[1;33m(\u001b[0m\u001b[1;34m'Sand ({:s}): Vp={:.0f}, Vs={:.0f}, rho={:.2f}'\u001b[0m\u001b[1;33m.\u001b[0m\u001b[0mformat\u001b[0m\u001b[1;33m(\u001b[0m\u001b[0mfluid\u001b[0m\u001b[1;33m,\u001b[0m\u001b[0mvp2B\u001b[0m\u001b[1;33m,\u001b[0m\u001b[0mvs2B\u001b[0m\u001b[1;33m,\u001b[0m\u001b[0mrho2B\u001b[0m\u001b[1;33m)\u001b[0m\u001b[1;33m)\u001b[0m\u001b[1;33m\u001b[0m\u001b[0m\n\u001b[0;32m    357\u001b[0m \u001b[1;33m\u001b[0m\u001b[0m\n\u001b[1;32m--> 358\u001b[1;33m         \u001b[0mavomod2\u001b[0m\u001b[1;33m(\u001b[0m\u001b[0mvp1\u001b[0m\u001b[1;33m,\u001b[0m\u001b[0mvs1\u001b[0m\u001b[1;33m,\u001b[0m\u001b[0mrho1\u001b[0m\u001b[1;33m,\u001b[0m\u001b[0mvp2\u001b[0m\u001b[1;33m,\u001b[0m\u001b[0mvs2\u001b[0m\u001b[1;33m,\u001b[0m\u001b[0mrho2\u001b[0m\u001b[1;33m,\u001b[0m\u001b[0mvp2B\u001b[0m\u001b[1;33m,\u001b[0m\u001b[0mvs2B\u001b[0m\u001b[1;33m,\u001b[0m\u001b[0mrho2B\u001b[0m\u001b[1;33m,\u001b[0m\u001b[0mangmin\u001b[0m\u001b[1;33m=\u001b[0m\u001b[1;36m0\u001b[0m\u001b[1;33m,\u001b[0m\u001b[0mangmax\u001b[0m\u001b[1;33m=\u001b[0m\u001b[1;36m30\u001b[0m\u001b[1;33m,\u001b[0m\u001b[0mmethod\u001b[0m\u001b[1;33m=\u001b[0m\u001b[1;34m'shuey'\u001b[0m\u001b[1;33m)\u001b[0m\u001b[1;33m\u001b[0m\u001b[0m\n\u001b[0m",
          "\u001b[1;31mTypeError\u001b[0m: avomod2() got an unexpected keyword argument 'method'"
         ]
        }
       ]
      }
     },
     "d0be9d91b8f242fc92da5b844f56210c": {
      "model_module": "@jupyter-widgets/controls",
      "model_module_version": "1.0.0",
      "model_name": "FloatSliderModel",
      "state": {
       "description": "rho2",
       "layout": "IPY_MODEL_28bc35051e044f808699dfd9e4373d4c",
       "max": 3,
       "min": 1.5,
       "step": 0.1,
       "style": "IPY_MODEL_5da9665156934f7798788f0f49666934",
       "value": 1.88
      }
     },
     "d111ab33f4894f45bff1e586ecabcb94": {
      "model_module": "@jupyter-widgets/controls",
      "model_module_version": "1.0.0",
      "model_name": "SliderStyleModel",
      "state": {
       "description_width": ""
      }
     },
     "d2453acad75345b997c15b1683899e63": {
      "model_module": "@jupyter-widgets/base",
      "model_module_version": "1.0.0",
      "model_name": "LayoutModel",
      "state": {}
     },
     "d2750edcac7e4191a9405c7064efe318": {
      "model_module": "@jupyter-widgets/controls",
      "model_module_version": "1.0.0",
      "model_name": "IntSliderModel",
      "state": {
       "description": "vp2",
       "layout": "IPY_MODEL_e6bd32b9124a428ba5b0b1a1d892c45b",
       "max": 6000,
       "min": 1500,
       "step": 100,
       "style": "IPY_MODEL_2b9d2e16badc4666b19bde86a6ed2866",
       "value": 4099
      }
     },
     "d33c95a9a20a4364a0a7285e58ccaf33": {
      "model_module": "@jupyter-widgets/base",
      "model_module_version": "1.0.0",
      "model_name": "LayoutModel",
      "state": {}
     },
     "d541495cdeee458c9801ba397ee8d532": {
      "model_module": "@jupyter-widgets/base",
      "model_module_version": "1.0.0",
      "model_name": "LayoutModel",
      "state": {}
     },
     "d5b97768b3e04114b5cd6c283ae98c41": {
      "model_module": "@jupyter-widgets/controls",
      "model_module_version": "1.0.0",
      "model_name": "IntSliderModel",
      "state": {
       "description": "vs1",
       "layout": "IPY_MODEL_831658cd267442e88f4ff2c36aaa614e",
       "max": 3000,
       "min": 1000,
       "step": 100,
       "style": "IPY_MODEL_bc33e17a27b040ad86c43df9f246d98a",
       "value": 1000
      }
     },
     "d686c658c16d40ac9ede300def48be8c": {
      "model_module": "@jupyter-widgets/controls",
      "model_module_version": "1.0.0",
      "model_name": "FloatSliderModel",
      "state": {
       "description": "rho1",
       "layout": "IPY_MODEL_986a81abf6b04836a364199c446117b7",
       "max": 3,
       "min": 1.5,
       "step": 0.1,
       "style": "IPY_MODEL_81d74e8f47b643a8836212074253d5ff",
       "value": 2.16
      }
     },
     "d7320993a31243b9b689d4cf4ef9ddf2": {
      "model_module": "@jupyter-widgets/base",
      "model_module_version": "1.0.0",
      "model_name": "LayoutModel",
      "state": {}
     },
     "d8b3a7494dfa420f966f0354cfb6e579": {
      "model_module": "@jupyter-widgets/controls",
      "model_module_version": "1.0.0",
      "model_name": "IntSliderModel",
      "state": {
       "description": "vs2",
       "layout": "IPY_MODEL_fb6c240a954c4fc4b90d54def614a803",
       "max": 3000,
       "min": 1000,
       "step": 100,
       "style": "IPY_MODEL_ccc37221c89845fe8f29a5036ea14dde",
       "value": 1000
      }
     },
     "da8e183584fc42bd9859ffd9bb302398": {
      "model_module": "@jupyter-widgets/controls",
      "model_module_version": "1.0.0",
      "model_name": "CheckboxModel",
      "state": {
       "description": "black",
       "disabled": false,
       "layout": "IPY_MODEL_cfda92c8459b4480a0428c5f9c4fdb17",
       "style": "IPY_MODEL_e641abfcb39b456dacd855e6d84f70fe",
       "value": false
      }
     },
     "dadb0646b8004c41863a1a9130eb6f2f": {
      "model_module": "@jupyter-widgets/base",
      "model_module_version": "1.0.0",
      "model_name": "LayoutModel",
      "state": {}
     },
     "dd0075f2e22d4fa2bfb44a3321562ceb": {
      "model_module": "@jupyter-widgets/base",
      "model_module_version": "1.0.0",
      "model_name": "LayoutModel",
      "state": {}
     },
     "ddc5614a0440472696b4044a3be3d169": {
      "model_module": "@jupyter-widgets/controls",
      "model_module_version": "1.0.0",
      "model_name": "IntSliderModel",
      "state": {
       "description": "vs2",
       "layout": "IPY_MODEL_5bc932f8e0e94e98a2c3a3dfd019f89b",
       "max": 3000,
       "min": 1000,
       "step": 100,
       "style": "IPY_MODEL_c72b3dc08735429fa0982e5478ea152e",
       "value": 2529
      }
     },
     "df43b58e16a841cf9833a54866723e0c": {
      "model_module": "@jupyter-widgets/controls",
      "model_module_version": "1.0.0",
      "model_name": "SliderStyleModel",
      "state": {
       "description_width": ""
      }
     },
     "df865a2bf3e4444d9eeaea4e5ea654d8": {
      "model_module": "@jupyter-widgets/controls",
      "model_module_version": "1.0.0",
      "model_name": "SliderStyleModel",
      "state": {
       "description_width": ""
      }
     },
     "dfa461bc8afe46718c5bb7c9678504a3": {
      "model_module": "@jupyter-widgets/base",
      "model_module_version": "1.0.0",
      "model_name": "LayoutModel",
      "state": {}
     },
     "e06927c5d0ec4bb6a50884c881ec76ac": {
      "model_module": "@jupyter-widgets/base",
      "model_module_version": "1.0.0",
      "model_name": "LayoutModel",
      "state": {}
     },
     "e1682398abdc4054ab0516641f81ef16": {
      "model_module": "@jupyter-widgets/base",
      "model_module_version": "1.0.0",
      "model_name": "LayoutModel",
      "state": {}
     },
     "e32449dc0481428799994e09690d9933": {
      "model_module": "@jupyter-widgets/base",
      "model_module_version": "1.0.0",
      "model_name": "LayoutModel",
      "state": {}
     },
     "e3644abc38b74bf092a9254ddc6931ba": {
      "model_module": "@jupyter-widgets/controls",
      "model_module_version": "1.0.0",
      "model_name": "IntSliderModel",
      "state": {
       "description": "vs2",
       "layout": "IPY_MODEL_8d3320de56a74351b91859c0fa5a428f",
       "max": 3000,
       "min": 1000,
       "step": 100,
       "style": "IPY_MODEL_ea00f811ab1748ce949474deb7dde0b6",
       "value": 1000
      }
     },
     "e3f39bdec10f44068a60a2e7fc0deecf": {
      "model_module": "@jupyter-widgets/output",
      "model_module_version": "1.0.0",
      "model_name": "OutputModel",
      "state": {
       "layout": "IPY_MODEL_9b0c9c0f0849407fa4fcfcff47473913",
       "outputs": [
        {
         "name": "stdout",
         "output_type": "stream",
         "text": "Shale:  Vp=3094, Vs=1515, rho=2.40\nSand (brine): Vp=4115, Vs=2453, rho=2.32, porosity=0.20\nSand (gas): Vp=4099, Vs=2529, rho=2.18\n"
        },
        {
         "data": {
          "image/png": "iVBORw0KGgoAAAANSUhEUgAAAsgAAAFgCAYAAACmDI9oAAAABHNCSVQICAgIfAhkiAAAAAlwSFlz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\nJKnnfwEAPBd0NA3T8AAAAABJRU5ErkJggg==\n",
          "text/plain": "<matplotlib.figure.Figure at 0xa1f7e10>"
         },
         "metadata": {},
         "output_type": "display_data"
        }
       ]
      }
     },
     "e55e846fbf0241428ebd78f2bd06fcc1": {
      "model_module": "@jupyter-widgets/controls",
      "model_module_version": "1.0.0",
      "model_name": "FloatSliderModel",
      "state": {
       "description": "rho1",
       "layout": "IPY_MODEL_94c8b767f2fd44d8ab5f236daf648101",
       "max": 3,
       "min": 1.5,
       "step": 0.1,
       "style": "IPY_MODEL_c843f9aac8dd41478b79ce5e64f2d9f9",
       "value": 2.16
      }
     },
     "e5761ed97ed04db19a0ab9db8d85c201": {
      "model_module": "@jupyter-widgets/output",
      "model_module_version": "1.0.0",
      "model_name": "OutputModel",
      "state": {
       "layout": "IPY_MODEL_27b832e8781c45b7b24535443d54ed0a",
       "outputs": [
        {
         "data": {
          "image/png": "iVBORw0KGgoAAAANSUhEUgAABY4AAALFCAYAAABkqnfMAAAABHNCSVQICAgIfAhkiAAAAAlwSFlz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\nAIABwTEAAAAAAAP/P3dT1jW7+2S8AAAAAElFTkSuQmCC\n",
          "text/plain": "<matplotlib.figure.Figure at 0x113fe9f60>"
         },
         "metadata": {
          "image/png": {
           "height": 354,
           "width": 711
          }
         },
         "output_type": "display_data"
        }
       ]
      }
     },
     "e5a52f00a2bd4972ab0cb9ec10c855d8": {
      "model_module": "@jupyter-widgets/controls",
      "model_module_version": "1.0.0",
      "model_name": "SliderStyleModel",
      "state": {
       "description_width": ""
      }
     },
     "e641abfcb39b456dacd855e6d84f70fe": {
      "model_module": "@jupyter-widgets/controls",
      "model_module_version": "1.0.0",
      "model_name": "DescriptionStyleModel",
      "state": {
       "description_width": ""
      }
     },
     "e6498f1d42114494a8e261f6f450a9c1": {
      "model_module": "@jupyter-widgets/base",
      "model_module_version": "1.0.0",
      "model_name": "LayoutModel",
      "state": {}
     },
     "e6bd32b9124a428ba5b0b1a1d892c45b": {
      "model_module": "@jupyter-widgets/base",
      "model_module_version": "1.0.0",
      "model_name": "LayoutModel",
      "state": {}
     },
     "e6c9e10a78fd4675ac359d22c82d26f9": {
      "model_module": "@jupyter-widgets/controls",
      "model_module_version": "1.0.0",
      "model_name": "SliderStyleModel",
      "state": {
       "description_width": ""
      }
     },
     "e6d8941ce049485fb25989714c713a2c": {
      "model_module": "@jupyter-widgets/controls",
      "model_module_version": "1.0.0",
      "model_name": "CheckboxModel",
      "state": {
       "description": "black",
       "disabled": false,
       "layout": "IPY_MODEL_cff21e54eba74186a28413c7f87caae6",
       "style": "IPY_MODEL_43ff54e40abb49878f402ab85d129457",
       "value": false
      }
     },
     "e76bd6bf93544e19a84c1c25b6f08f30": {
      "model_module": "@jupyter-widgets/controls",
      "model_module_version": "1.0.0",
      "model_name": "SliderStyleModel",
      "state": {
       "description_width": ""
      }
     },
     "e834d9163a54434eb63ef537b848837c": {
      "model_module": "@jupyter-widgets/controls",
      "model_module_version": "1.0.0",
      "model_name": "IntSliderModel",
      "state": {
       "description": "vp1",
       "layout": "IPY_MODEL_6939407d56a04f5cbfa32cb91659a22a",
       "max": 6000,
       "min": 1500,
       "step": 100,
       "style": "IPY_MODEL_10122eb8631b421d932e048636e015c8",
       "value": 3094
      }
     },
     "e84458c27aa944a4afa0624f5d676ca5": {
      "model_module": "@jupyter-widgets/base",
      "model_module_version": "1.0.0",
      "model_name": "LayoutModel",
      "state": {}
     },
     "e8bca2ad52434c9d8fcfa3f7a6f1e218": {
      "model_module": "@jupyter-widgets/base",
      "model_module_version": "1.0.0",
      "model_name": "LayoutModel",
      "state": {}
     },
     "e94f0fb31b8f40bbb0aea0ca7c57435a": {
      "model_module": "@jupyter-widgets/controls",
      "model_module_version": "1.0.0",
      "model_name": "IntSliderModel",
      "state": {
       "description": "vs1",
       "layout": "IPY_MODEL_9b01193d0eae41a5b5dee07da8409519",
       "max": 3000,
       "min": 1000,
       "step": 100,
       "style": "IPY_MODEL_8137afdc457a46f5a1985ab8d1e787ef",
       "value": 1000
      }
     },
     "ea00f811ab1748ce949474deb7dde0b6": {
      "model_module": "@jupyter-widgets/controls",
      "model_module_version": "1.0.0",
      "model_name": "SliderStyleModel",
      "state": {
       "description_width": ""
      }
     },
     "ea1162bffabc48d98b75bc8963f7ab0d": {
      "model_module": "@jupyter-widgets/base",
      "model_module_version": "1.0.0",
      "model_name": "LayoutModel",
      "state": {}
     },
     "ea7d447f51694359ba1958bf38959d3d": {
      "model_module": "@jupyter-widgets/controls",
      "model_module_version": "1.0.0",
      "model_name": "VBoxModel",
      "state": {
       "_dom_classes": [
        "widget-interact"
       ],
       "children": [
        "IPY_MODEL_e834d9163a54434eb63ef537b848837c",
        "IPY_MODEL_2189795b9aff4596b521f55af3907bc1",
        "IPY_MODEL_6f9588a8d8804370849bfb651a012a42",
        "IPY_MODEL_d2750edcac7e4191a9405c7064efe318",
        "IPY_MODEL_ddc5614a0440472696b4044a3be3d169",
        "IPY_MODEL_b7344350271e43ea882b35c24e53d62b",
        "IPY_MODEL_53d450e84d034f67b1aa3d5f6535ac87",
        "IPY_MODEL_0ac2502c4e13479bb2abbbdbb98db1ca",
        "IPY_MODEL_bceaa108b081448ca0e004579afdc579",
        "IPY_MODEL_031add3a59f94e72b7edd2765f1a31ab",
        "IPY_MODEL_cc0177849d464b8096ebb01001a59edc"
       ],
       "layout": "IPY_MODEL_6e6ebebb6ca947c79b96d9c329a4c8af"
      }
     },
     "eb1b2914a4434b1dac900946076b2d47": {
      "model_module": "@jupyter-widgets/controls",
      "model_module_version": "1.0.0",
      "model_name": "VBoxModel",
      "state": {
       "_dom_classes": [
        "widget-interact"
       ],
       "children": [
        "IPY_MODEL_a8edc79d77514d7aa05584c9b0b85222",
        "IPY_MODEL_672a62c0ac044c3187bd38a58f39f955",
        "IPY_MODEL_14262d271a7843f2bd3e087ff939510b",
        "IPY_MODEL_ade00f0b058a449e9dbc1bece7871fb2"
       ],
       "layout": "IPY_MODEL_310d925960754f48a0e88523e8702c6c"
      }
     },
     "eecb27f095c848d4b6ff5d486a9eec19": {
      "model_module": "@jupyter-widgets/controls",
      "model_module_version": "1.0.0",
      "model_name": "IntSliderModel",
      "state": {
       "description": "angmax",
       "layout": "IPY_MODEL_1e1c5d4e98d44c83aab73f4aed8d81eb",
       "max": 60,
       "min": 30,
       "step": 10,
       "style": "IPY_MODEL_1b11333831a747dc8e110953de5a8ce4",
       "value": 30
      }
     },
     "efc3c30cc599458ba13de954bdd8de78": {
      "model_module": "@jupyter-widgets/controls",
      "model_module_version": "1.0.0",
      "model_name": "DropdownModel",
      "state": {
       "_options_labels": [
        "oil",
        "gas"
       ],
       "description": "fluid",
       "index": 1,
       "layout": "IPY_MODEL_ccf1a0229adc4874a37818d3bc56c69e",
       "style": "IPY_MODEL_f7cb3a118ca44926b68bbdd1c486468b"
      }
     },
     "f0c295ebabe540838051be3b5898cd96": {
      "model_module": "@jupyter-widgets/controls",
      "model_module_version": "1.0.0",
      "model_name": "IntSliderModel",
      "state": {
       "description": "vs1",
       "layout": "IPY_MODEL_6038535946014ed7a9ab98b06a6a8ca5",
       "max": 3000,
       "min": 1000,
       "step": 100,
       "style": "IPY_MODEL_d111ab33f4894f45bff1e586ecabcb94",
       "value": 1000
      }
     },
     "f0d49c87eb134479af1b263b2a7b3b38": {
      "model_module": "@jupyter-widgets/controls",
      "model_module_version": "1.0.0",
      "model_name": "CheckboxModel",
      "state": {
       "description": "black",
       "disabled": false,
       "layout": "IPY_MODEL_cf1e7df697224301bf1961640efb9528",
       "style": "IPY_MODEL_bddf589f92714f88bb2b008fc57e3591",
       "value": false
      }
     },
     "f0ecf998d69a42cfb54356502389debe": {
      "model_module": "@jupyter-widgets/controls",
      "model_module_version": "1.0.0",
      "model_name": "CheckboxModel",
      "state": {
       "description": "black",
       "disabled": false,
       "layout": "IPY_MODEL_05f5a57e9a274efe9b7b83015579139a",
       "style": "IPY_MODEL_4d06fcae9cb54077abdf3f965d373347",
       "value": false
      }
     },
     "f14cccc5011148cb859c714279e2658f": {
      "model_module": "@jupyter-widgets/output",
      "model_module_version": "1.0.0",
      "model_name": "OutputModel",
      "state": {
       "layout": "IPY_MODEL_82aedb43e02d42879570c17cfbf55c5b",
       "outputs": [
        {
         "data": {
          "image/png": "iVBORw0KGgoAAAANSUhEUgAAAsgAAAFgCAYAAACmDI9oAAAABHNCSVQICAgIfAhkiAAAAAlwSFlz\nAAALEgAACxIB0t1+/AAAIABJREFUeJzs3XeYVOXZx/HvvewuS2eBRaKASBEbiLK2gJWgSBRErKjY\nEaPBkjfKa3zVSIzGxBQ1FohETSxEkWIQ7NJFQbChIkVpEhaEpe7Csvf7x8zCSLacLbNnZvh9rutc\n0+5zzjNz2DM/nnnOOebuiIiIiIhIRFrYDRARERERSSQKyCIiIiIiMRSQRURERERiKCCLiIiIiMRQ\nQBYRERERiaGALCIiIiISQwFZREREUo6Z9TGzIWW81szMBtViW7qY2Um1tT6pPgVkERERSTnuPsXd\nR5bxclegXy02ZyBwWC2uT6rJdKEQERERSTVmdgXQBzgQWAF0AD5w9+vN7E3gSOBOYDIwEsgCCoAh\nQB3gVWA98BowFfgLYMAq4BKgI/Bw9Ln1wFXAUcCvgGKgVXS544GZwA7gUnf/IL7vXGpCetgNEBER\nEYmjg4HTgW3AUjNrBdwHDHX3kWY2BnjY3SebWS/gASIhtxXQ3d13mNnHwEXu/oWZ/Qw4FHgMuMrd\nF5rZ1cBtwJvAAUSCchrwKfAS8DSwRuE4eVQ7IJvZ8cD+wGp3f7/6Tao5ZpZB5GeN/YHVwEvuvivc\nVomIiEgtWuzumwHM7DsiPcWxugB3mNntRHqDd0SfX+buJff3c/cvANz9seiyDgUeMzOADGBRtHaW\nuxdGaz4j0nMtSaZaY5DN7FEiP180A/qY2Z9qpFU150kifwifRG9HhdscERERqWWljSUtZk8G+hK4\n3d1PAa4DXo6pKbHazDoBmNntZjYA+AoYHJ3vNmBStLabmdUxs/rA4cDXe61PkkB1e5AL3f2ekgcJ\nGJA3ufvTJQ/MrFuIbREREZHEsAToYmY3A/8DPG5mWUA94KZS6q8DRptZMfAd8GdgOfCsmdWJ1lxN\n5BfrDCLjmpsDv3H3dWY2D/i9mX3h7u/G841JzajWQXpmNorIP7IVQBugnbsPraG2VZuZ/Q5oDKwE\nWgPr3f3OcFslIiIiqcjMTiEytvmisNsi1VPdgGzAKcB+wHJ3n1VD7aoxZnYQkfatcPdVYbdHRERE\nUpMCcuqobkA+HhhOZHzvdmCEu39UQ22rNjPrD/yMPeOPHnb310JskoiIiIgkuOqOQb6eyGlPCsys\nHvA3IucGTBRnufsZJQ/MbDSR8xmKiIiIiJSqJo6o3BlzW1QDy6tJDcxsP4Dobd2Q21PrzOwyM+tk\nZuOj03E1tNyOZvakmU00syfMrE0NLfdMM2sZXfZoM+tYE8sVEZHgzKyemY01s+lm9pqZ5ZRRV9/M\nFphZn9pev5n93sxmm9mHZnZtDawzLfp9NtvM3tv7+8fMrjWzuWb2vpmdVd31VWH9t5jZnOh0d22v\nP6ZmspklzPFm8VLdHuRngYnRcwAWELnKTCK5H3jQzFoQufLNb0JuTxhOi07XAJuBJ4A5NbDcu4H/\nI3IAZBvg90BNjLm6ABhA5N/S90S24RU1sFwREQnueuBTd7/HzC4icsW50s7u8FdKP41aXNdvZqcC\nHd39BDOrC3xuZi+7+4ZqrPMcICu6zOOBh4D+0fW1AoYBuUSGlc4wszdLzndcQ8pbf3siv9AfR+Tz\nnm5m49z9k9pYf4zfEDm1b8qrbg/yUuBs4J/ARCDRrhDzJTAFeCc6LSq/PCW1ItKzv5HIyc9rake2\n3d2/cfcid19GJHzXhIZETh/4ubt/R+TKRyIiUrt6Evn+hMgpy36yd4GZ/Q8wC/g4hPXPJnJpZ4h8\nr9Vhzy/a1V5n9MJnuTGvHQvMdPdCd88HFgNdq7m+yqx/BdDH3Xe5ezGRU8kV1OL6MbPziJzPeXIN\nrzchVTcg3wX8FsgGColckzyRPAlkEvnj3VcvFPICkSsDHUPkXI/Tami508zsTTObZGavAm/U0HI/\nBTqZ2UlmdhuRHmoREYkTM7vazD6LnYAmQH60ZHP0cew8vYBO7l7t79WqrN/dC9x9Q/SKuc8AI919\nSzWb0jhmnQC7zCy9jNf+q001oMz1u/vO6PmUzcz+AMx395ru9Ctz/WZ2BDCISO7bJ1T7UtNA45jL\nLh5TA8urSZvc/ZmSB/vihULc/VkiQ2EAZsf8sVd3uf8k8stBjXL3e2Me1lSYFxGRMrj7U8BTsc+Z\n2StAo+jDRkR+hYx1NXCgmb0HHAIcbWZr3H1BLa0fM8smctW799z9/squtxSbYtYJkObuRWW8Vmqb\n4rh+ohcyGU0knP+shtdd0foHAwcQ+TW+HbDDzL5x9ymkqOr2IDcHTjKzY8zsQhJvXEqhmT1uZr8y\ns6eA6v7vMhX8MR4LNbPHk2m5IiJSrplA3+j9M4HpsS+6+yB37xG9zPIU4LaqhOOqrj965qy3gdHu\nPqKm1xkdg/tpzGsfACeaWZaZNQEOBT6rofVWuH6LHOw1AfjY3a9z9101vO5y1+/ut7n7cdHt/TTw\nx1QOx1D9HuQPgQZE/vc4DajxozqraRfwBZFB5kbNHJyW1Nx9WE0sx8z+D+gBPOfu/yByec6EXa6I\niFTK48AzZjaDyPErgwDM7EHgZXeP9zFH5a6fyPdEe+DamDNYXBk9JqaqxgG9zWwWkcxwpZndCix2\n94lm9jCRoJ4G/Mrda3oMcJnrJzLG+mSgrpmdGa3/X3efXRvrd/eJNbiepFDtS027+7VmdgeRAfNX\nuvvgGmtdNZnZ3wF396uijx9x95+H3KxaZWYfEek530LkH7y7e9/y5wq03Lhs+0T/NyUiIiKpr7o9\nyI3MrIG7/9bM/gYcWBONqkHdgDW25xzILUNuTxguAK529/+t4eXGa9sn+r8pERERSXHVHYP8F+Ck\n6P2bifwMkEj6Ac8ROdL0BOB34Tan9rn7YuDPcVh0vLZ9ov+bEhERkRRXrSEWIiIiIiKppiYuNS0i\nIiIikjJqNCCb2ZCaXF5NS/T2xVu83n88P9dU3mZhvrdU/lxFJD725X2W3vu+p6Z7kBP9Q0z09sVb\nvN5/PD/XVN5mYb63VP5cRSQ+9uV9lt77PkZDLEREREREYlTqIL0WLVp4u3btynw9Ly+PnJycGmhW\nfARt37x589a5e+K+ESreFqWJ1/aJ53bPy8tj+fLl2h41rKrrTtW/DZHq2hf+NpJxn1VT5s2bR/fu\n3UNZd9jvvbrrT4a/jdJU6jzI7dq1Y+7cufFqS8Iws2/DbkNF9pVtAdoeiUTbQqR0+ttIbWamz66K\nkuFvozQaYiEiIiIiEkMBWUREREQkhgKyiIiIiEgMBWQRERERkRgKyCIiIiIiMRSQRURERERiKCCL\niIiIiMRQQBYRERERiaGALCIiIiISo1JX0ksGf//73xk9evTux1dccQVXX311iC3adxUUFNC7d+/d\nj+vWrctbb70VYotEREREKpZyPcjLly9nxowZu6fly5eH3aR9VnFx8Q+2xaxZs8JuUsK477776Nmz\nJ6+99lqg+jFjxtCzZ08efvjhQPXz5s2jZ8+eDBs2LFB9fn4+PXv2pG/fvoHqRUREUlmFPchmNgQY\nAtC2bdu4N0jKpm2RWKqzPb7++mtmzpzJ2rVrA9WvXr2amTNncswxxwSqz8/PZ+bMmWRmZgaqLyoq\nYubMmTRr1ixQvYiISCqrsAfZ3Ue6e6675+bk5NRGm6QM2haJRdtDREQkNaXcEAuRZOLuSV0vIiKS\nihSQRUJgZkldLyIiksoUkEVEREREYiggi4Qo0YZMaIiFiIiIArJIKBJtyISGWIiIiOyhgCwiIiIi\nEkMBWSSJaMiEiIhI/Ckgi4QoaICtrSETCtQiIiIKyCKhSLQxv4nWHhERkTApIIskEQ2xEBERiT8F\nZJEQaYiFiIhI4lFAFglBog1pCLM9ZpZmZk+Y2Wwze8/MOpZRM9nMhobRRhERqXmJvP9XQBZJYUnS\nI3wOkOXuJwDDgYdKqfkN0KxWWyUiIvGWsPt/BWSREMVrTHGSDbHoCUyJrv99IDf2RTM7DygGJtd+\n00REJI4Sdv+vgCwSgkS70l3IQz4aA/kxj3eZWTqAmR0BDALuKm8BZjbEzOaa2dy8vLz4tVRERCqr\nRcn+OToNiXmt2vv/eEkPY6UiUjuSZIjFJqBRzOM0dy+K3h8MHAC8A7QDdpjZN+4+JXYB7j4SGAmQ\nm5ubFG9aRGQfsc7dc8t4rdr7/3hRQBZJIik6xGImcDbwLzM7Hvg0pj23ldw3s3uANbW1cxQRkbhL\n2P2/ArJIiOIdeIMKeYjFOKC3mc0CDLjSzG4FFrv7xDAbJiIicZWw+38FZJEQ1FYgTYYhFu5eDOx9\n+p4vS6m7p1YaJCIitSKR9/86SE8kiSRKj7OIiEgqU0AWCVGiBd5k6HEWERGJNwVkkRAkWuBVj7OI\niMgeCsgiSUSBV0REJP4UkEVClGiBV0MsREREFJBFQpFogVc9ziIiInsoIIskEQVeERGR+FNAFglR\nogVeDbEQERFRQBYJRaIFXvU4i4iI7KGALJKCFHhFRESqTgFZJIloCISIiEj8KSCLhCjeQyAqG6gV\nwEVERBSQRUIR7yEQlV2+hmSIiIjsoYAskkTUwysiIhJ/CsgiIUq0s0wogIuIiCggi4Qi0QKvhliI\niIjsoYAskkQUeEVEROJPAVkkRIkWeDXEQkRERAFZJBSJFnjV4ywiIrKHArJIElHgFRERiT8FZJEk\nkGg9ziIiIqlMAVkkRPEOpOpxFhERqTwFZJEQxPvS0Qq8IiIiVaeALJIEFHhFRERqjwKySIgSZYhF\nVetFRERSkQKySAgSbYiFeqhFRET2UEAWSQIKsCIiIrVHAVkkRBpiISIikngUkEVCEO8eYQ2xEBER\nqToFZJEkoh5eERGR+FNAFkkC8T6or6r1IiIiqajCgGxmQ8xsrpnNzcvLq402SRm0LRJLTWyPeAVS\nDbEQERGpugoDsruPdPdcd8/NycmpjTZJGbQtEkt1tkdt9QiLiIhI5WmIhUgSUKAWERGpPQrIIiFK\nlCEWJRSoRUREFJBFQpFoAVZjkEVERPZQQBZJAokWqEVERFKZArJIiBKtR1iBWkRERAFZJBSJFmA1\nxEJERGQPBWSRJJBogVpERCSVKSCLhEg9wiIiIolHAVkkiShQi4iIxJ8CskgIautS0BpiISIiUnkK\nyCIpqDo9wgrVIiKyr1NAFgmRwqiIiEjiUUAWCUFtDZlQABcREak8BWSRJFBbY5ZFREREAVkkVInY\nw5uIbRIREalNCsgiIUjEIRZh9TqbWZqZPWFms83sPTPruNfrt5jZnOh0dyiNFBGRGpfI+38FZJEk\nkOJDLM4Bstz9BGA48FDJC2bWHrgE+DFwAnC6mXUNpZUiIlLTEnb/r4AsEqJEHM4QQpt6AlOi634f\nyI15bQXQx913uXsxkAEU1HYDRUQkLhJ2/6+ALBICDbH4gcZAfszjXWaWDuDuO919nUX8AZjv7ov2\nXoCZDTGzuWY2Ny8vr5aaLSIiAbQo2T9HpyExr1V7/x8v6bW1IhGpuhQfYrEJaBTzOM3di0oemFkW\nMBrYDPystAW4+0hgJEBubm7idcuLiOy71rl7bhmvVXv/Hy/qQRaRHwhhiMVMoC+AmR0PfFrygkWS\n/gTgY3e/zt131XbjREQkbhJ2/68eZJEQxfvCH0kyxGIc0NvMZgEGXGlmtwKLgTrAyUBdMzszWv+/\n7j47nKaKiEgNStj9vwKySAjiPWQimYZYRA++GLrX01/G3M+qxeaIiEgtSeT9v4ZYiIiIiIjEUEAW\nCVEiDbGozjwiIiKpRAFZJASJOGQimYZliIiIxJMCskgKUtgVERGpOgVkkRDVxpCJytIQCxER2dcp\nIIuEoLaGWCTJad5EREQSigKySApS2BUREak6BWQRAfaE6uLi4pBbIiIiEi4FZJEQZGRkAFBYWJgQ\n9QD169cHYOvWrYHnERERSUUKyCIhaNSoEQCbN28OVN+4ceO41lelTSIiIqlKAVkkBJUNsFUN1Js2\nbQp8oF7DhgrIIiIioIAsEoqSwLtp06ZA9bGBN4jMzEyysrIoKiqioKCgUm1SQBYRkX2dArJICEoC\nb35+flzqARo1isyzcePGQPXZ2dkArF+/PvA6REREUpECskgI9ttvPwC+++67QPU5OTmYGWvXrqWo\nqCjQPC1btgJg9erVgeoPOKA1ACtWrAhULyIikqoUkEVC0LZtWwBWrlwZqD4zM5OcnFYUFxcHDtWt\nW0fW8e233wasb1OpNomIiKQqBWSREOTk5JCRkcn69esDn1Zt//0jATZ44I0E5G+++SZQ/YEHtgNg\n8eLFgepFRERSlQKySAjS0tJo1+5gABYuXBhong4dOgPw+eefB6o/+OBDAfjss88C1Xfp0hWABQsW\nBKoXERFJVQrIIiE59NBuQPBAevjhRwEwf/78QPVHHnk0AB999FGg+sMOO4z09Ay+/vprnclCRET2\naQrIIiE55JBIQA4aYA8/vHL1RxxxJGbG559/zvbt2yusz8zMpEOHSC/ynDlzAq1DREQkFSkgi4Sk\nW7fjAXj33XcD1XftmkudOul89NFHgU7d1qBBAzp27EZRURHTp08PtI6jjjoNgDfeeCNQvYiISCpS\nQBYJSZcux9KgQWO++uqrQAfeNWzYiMMPP4Fdu3bxzjvvBFrHscf2AWDKlCkB68+oVL2IiEgqUkAW\nCUlGRsbuHtvXX3890DyVDbDHHRcJyBMnTgx0yekuXXrSsGETPv30U7744otA6xAREUk1CsgiITrh\nhJ8CMHbs2ID1ZwEwbtw4du7cWWH9EUf0oFmzVixZsoQPP/ywwvrMzLqcfPJ5ADz33HOB2iQiIpJq\nFJBFQnTiiQOoUyedt99+m7Vr11ZY36FDVw488FDWrVvHW2+9VWF9nTp16NXrIiB44P3JTy7ZXV9c\nXBxoHhERkVSigCwSoiZNmnPssWewa9cuXnrppQrrzYyf/GQQAM8//3ygdfTqFal/8cUXA12mulu3\nk8nJac0333zDjBkzAq1DREQklSggi4SsV6+LAXjhhRcqVT9u3LhAV+E75JBcWrfuxNq1awOdMSMt\nLY0zzhgMwNNPPx2oTSIiIqmkwoBsZkPMbK6Zzc3Ly6uNNkkZtC0SS01tjx49+pOZmcXMmTP57rvv\nKqw/4IAOHHrosWzdujXQwX1V6XXu0+dyAP71r3+xZcuWQPOIiIikigoDsruPdPdcd8/NycmpjTZJ\nGbQtEktNbY/69RtyzDGnAzB+/PhA85x00kAAXnnllUD1Jb3OY8eODXTRkDZtDuaII37M1q1bA69D\nREQkVWiIhUgCOPHEAUDwwHvSSecC8Oqrr1JYWFhhfdu2nencuTubN2/mzTffDLSOPn2uAIL3OouI\niKQKBWSRBFBy+rbp06cHOn1b69YdOfDAQ9m0aVPgS08fd1xfAKZNmxaovkePfgDMmDEjUJtERERS\nhQKySAJo2rQFBxzQkcLCwsAX6DjssMilqufNmxeovkuXHgC8//77geqbNduP1q07sXXrVj755JNA\n84iIiKQCBWSRBNGqVTsA1qxZE5f6/ffvAMDq1asDt6lNm4MBWLVqVeB5REREkp0CskiCyMysCxDo\nILpIfVZc66s6j4iISLJTQBZJEHl5KwFo1apVoPp161ZVqr5k+T/60Y8Ct2nt2hUA7L///oHnERER\nSXYKyCIJ4Pvv/8OSJZ+QmZnJYYcdVmG9uzN/fuSiH0ceeWSgdcybF7k0dbdu3QLVb9iwlkWL5pGe\nnk6XLl0CzSMiIpIKFJBFEsCECY/j7vTu3ZtGjRpVWD9//rssXfopzZs356STTqqwvqBgGxMnPgHA\n+eefH6hNL774B3bt2sWZZ55J06ZNA80jIiKSChSQRUK2atUSxoz5AwDDhw+vsL6wsIA//ekGAG6+\n+WaysrIqnGfUqDvIy1tFt27dOOOMMyqs/+yzWbz00p8wM+68884K60VERBKRmeXu9fjkIPOlx6c5\nIhJEQcE27rprINu3b+WCCy6gZ8+e5da7Ow8+eDXLl39J586d+eUvf1nhOqZMeYaXX/4L6enpPPHE\nE6Sllf//4lWrlvCrX53Drl1F3HLLLRx77LGVek8iIiJhM7MTgcOAW8zsj9Gn6wA3AEdUNL8CskhI\ntm/fxh139GPx4o/p1KkTI0eOLLfe3fnrX3/BW289T8OGDXnxxRepW7duufO8+ebzPPjg1QA8+uij\nHHfcceXWL1nyKb/85Rls3JhHnz59ePDBByv3pkRERBLDBqAVUBcoOTq9GLgtyMwKyCIhWL9+PUOG\nDGTevKm0atWKV199lSZNmpRZv3PnTn75y6G89NJoMjIyGDNmTLkH27k7jz/+F+6771bcnTvvvJPr\nrruu3DZNnvwaw4ZdwpYtGznllFMYM2YM6enaRYiISPJx98+Az8xslLsHvwBAlMYgi9SyL7/8kuOP\nP54PP4yE43fffZfOnTuXWb927VpOP/10xowZTb169Zg4cSJ9+/Yts37btm0MHjyYO+64BXfnt7/9\nLSNGjCizvqioiDvuuIP+/X/Kli0bOffcc5k8eTKNGzeu1vsUERFJAD8xsy/MbKmZLTOzpUFmUveQ\nSC2aPHkyF198Mfn5+XTr0oWJkybRpk2bMuvnzp3Lueeey4oVK2jVsiWvjB/PCSecUGb9kiVLOP/8\n85k/fz4N6tfn6Wee4bzzziuzfuXKlVxyySVMmzaNtLQ07rvvPm677bYKxymLiIgkiduBs4EVlZlJ\n34IitaC4uJgRI0bw05/+lPz8fAacdhozygnH7s6oUaPo0aMHK1as4PiuXZk3eXK54fiVV17h6KOP\nZv78+XRo04b3X3653HA8btw4unbtyrRp02jVogVv/+1vDB8+XOFYRERSyVJ3X+zuhSVTkJnUgywS\nZ/n5+Vx++eVMmDABM2PEDTdwxzXXkNagQan127Zt44YbbuDpp58G4LrzzuMvt99O3TKumLdjxw5u\nv/12/vznPwNwbq9ejP71r2lSxhXztm3bxq233sqTTz4JQN8TT+Tvv/41LVu2rOY7FRERSTjbzGwy\nsABwAHe/o6KZFJBF4uiLL77gnHPOYdGiRTRt1Ijn7r+fvieeWGb9kiVLGDhwIB9//DH1srJ44s47\nGXz22WXWL1++nAsuuIA5c+aQnp7OH269lWGDBmFmpdZ/8sknXHzxxSxcuJDMjAwevOWWcutFRESS\n3GtVmUm/pYrEySuvvMKxxx7LokWL6NKpEx8+/3y54XjixIl0796djz/+mI5t2/L+P/5RbjieNGkS\nRx11FHPmzKFNq1ZM//vfuemSS0oNu+7OI488wrHHHsvChQs55KCDmPPPf5ZZLyIikiKeAzKA9sC3\nwKQgMykgi8TBiBEjGDhwIFu2bOGiPn2Y/eyzdGzbtsz6J598kv79+5Ofn885p57K3Oefp+vBB5da\n6+7ce++9nHXWWXz//ff0PfFE5o8Zw/Fdu5Zav23bNgYMGMCwYcMoLCzk2oEDmfv883Q75JAaea8i\nIiIJ7AmgLXA60Ah4NshMGmIhUsN+97vfcdddd5GWlsbvb7mFWy67rNxe2scee4wbbohcOvo3N97I\nHddcU2793XffzYgRIyJnnbjxRm678soyD6zbvHkzZ511FtOmTaNpo0aMuvtuzuvdu3pvUEREJHl0\ncPdrzOxEd3/VzIYHmUkBWaQGjRs3juHDh2Nm/OO++xhUzvmKAd5++21+/vOfA/DI8OHcePHF5daP\nGjWKESNGUKdOHV544AHOP/30MmuLi4u54IILmDZtGvvn5PD2qFEcctBBlX9TIiIiySvdzFoAbmaN\niFxNr+KZ4tumyJf0smXLKCwsZOfOnRQVFQW6rUxt7O3cuXPj/ZaS2rp161i3bl2VP9/KbJuCgoKw\n326t2rJly+6r1f3+llsqDMcFBQVce+21FBcXc+e111YYjld99x033XQTAH+7++5ywzHAY//8J1Om\nTKF506ZMHT263CEeYTKzNOAx4EigELjG3RfHvH4tcB1QBPzG3f8dSkNFRKRG1dL+/05gJpHLTb8P\n3BxkprgG5C+++ILevXuzatWqeK5GAnB3hg4dysiRI8NuSsr65z//SV5eHsd16cItl11WYf2EyZNZ\ntmwZh7Vvz91Dh1ZY/8jf/8727ds5t1cvrujfv9za4uJifvv44wCM/L//S9hwHHUOkOXuJ5jZ8cBD\nQH8AM2sFDANygSxghpm9GfQ8liIiktDivv9396lAZzPLAda5uweZL64H6f3xj38MPRzrcrkRX3/9\ndejhONW3xdSpUwG4esCAQBfbeHfGDACuPOcc0tMr/r/qu7NmATD0/PMrrF24ZAnfrV1Lm1atGNCr\nV4X1IesJTAFw9/eJ7AxLHAvMjJ7cPR9YDJR+NKKIiCSbuO3/zezR6O1sM5sFTABmRu9XKK49yGvW\nrInn4iuUk5PDwIEDQ21Dogh7WwBcf/31YTchrrZs2QJAi6ZNA9Vv2rwZgJzs7GDL37oVgJbNmlVc\nu3377tokOI1bYyA/5vEuM0t396JSXtsMNNl7AWY2BBgS8zhOTRVJXvPmzdPfRjXos6uyFmYWO/51\npLuX9NhVe/9fjhHR24sq22Co5YP0DjzwQJo3b056ejoZGRk1fht7v0GDBpx00kk0b968Nt9i0qhf\nvz4HH3xw3LbF3redO3fm6KOPDvttx1Xnzp3597//zdR58wL12nbu2BGAqXPncnm/fhXWH9KxIwsX\nLeKdDz7gyM6dy63t1LYtaWlpfLxoEWvWraNVixbB3kQ4NhE59U6JtOjOsbTXGgEb915AdGc7EiA3\nN9d1LILUtmQIT927d9dxOlVkZgT8ZV72Ymbr3D23jJervf8vx3Xl/F3eW9HMtRqQH3nkEc4u58IH\nUnu6d+/OtGnTwm5GSrnooot46KGHGDl2LD+/+GI6tGlTbv2ggQP59YMP8o9Jk7j50kvLPO9xiUvP\nPZdXXnuN+596iovPPLPc0Nu8aVP69erF+DffZNjvfseYBx9M5C/wmcDZwL+iY9A+jXntA+A+M8sC\n6gKHAp8HuA/xAAAgAElEQVTVfhNFRCQO4rn//0/09hxgWXRdxxA5J3KFdKEQkRqSm5vLRRddxPaC\nAgb+4hds2LSp3PpOHTowdOhQioqKGHDLLaxdv77c+nP69OGUU04hb8MGBtxyC5uiQzrK8vvhw2nY\nsCEvvfEGw//850Tu/RgHFETHhf0JuMXMbjWzfu6+BngYmA68A/zK3fet06OIiKSuuO3/3f1Jd3+S\nSK/0z9z9OXe/mR/2SpdJAVmkBj3++ON06tSJj7/6itOHDq0wJP/+97+ne/fuLF25kpOuuooV5YwV\nNzNeeOEF2rRpw/uffELv665j/cayf23q2K4dzz33HHXq1OHBp5/muhEj2LlzZ5XfW7y4e7G7D3X3\nH7v7Ce7+pbv/0d0nRl8f5e7HuHt3dx8bdntFRKRm1NL+v7mZdQAws85ExjZXSAFZpAY1bdqUd955\nh/bt2zP388857pJL+Oqbb8qsb9CgAZMmTaJr16589c03/HjwYOZ+/nmZ9a1atWLq1Km0a9eODz77\njGMGDWLBl1+WWd+vXz/Gjx9PVlYWo8aO5ZRrrik3hIuIiKSYm4EXzGwV8BxwRZCZFJBFaljr1q15\n7733OPLII/l6+XKOu/RSpsycWWb9fvvtx3vvvUePHj1Y+Z//0POKKxg9blyZ9QcddBDTp08nNzeX\nZatWccLgwTz76qtl1p911lm8/fbbHHDAAcxasICjLryQ16ZPr9Z7FBERSQbuPsPdj3X3A6IHCy6u\ncCYUkEXiok2bNsyYMYMBAwaQv3kzfW+4gftGjaK4uPQrXGZnZ/P2229z3XXXUbhjB1ffcw/X3Xsv\nBYWlnw+9devWTJ8+nauuuoqCwkIuv/NOhtx7L9vLuHrhj3/8Y+bPn0+fPn1Yv3EjP73xRm5+8MEy\nly8iIpIKzOw6M/vKzJaa2TJgYZD5FJBF4qRhw4a8/PLL3HPPPQDc+eijnHvrreRHz3+8t7p16/LE\nE0/w1FNPUbduXUaOHUvPK65g2cqVpdZnZWXxt7/9jZEjR1K3bl1GjR3L8ZddVuaQjpycHCZNmsQD\nDzxAeno6f3nuOY679FI+XxzoP9MiIiLJ6FrgFGAycCVQ9jjGGArIInGUlpbG3Xffzb///W+aNm3K\nhHff5dhLLik3lF511VXMmjWLgw46iHkLF9L94ouZVMYp+cyMa6+9ljlz5tCpUyc+WbSI3Isv5oXJ\nk8tsz+23386sWbPo2LFjpH7QIB4bMyaRz3IhIiJSVevc/Tugkbu/B1R8tS0UkEVqRd++fZk7dy5d\nu3Zl0bffctyll/Kv8ePLrD/66KOZN28eZ599Nhs2beKsn/+cXz3wALt27Sq1/sgjj2Tu3LlceOGF\nbNm2jUHDhzP0zjspKGPIxTHHHMP8+fO58sorKSgs5Ibf/pb+P/85eXl5NfJ+RUREEkS+mZ0DuJld\nB+QEmUkBWaSWdOjQgdmzZ3PppZeydft2Lrz6au64444ye26zs7MZP348999/P2lpafz2kUc4//zz\nywy9jRs35oUXXuDxxx+nbt26PPnCC5xwwgmsLGOIRsOGDRk9ejRjxoyhSZMmvPree3Tt2pVZswJd\npl5ERCQZXAt8CwwHDgauDzKTArJILapfvz7PPvssjzzyCOnp6dx///0MGzaszIP30tLSGD58OG+9\n9RZNmjRl3Lhx9OnTh61bt5Zab2YMHTqU2bNn0759RxYsWEDPnj35+uuvy2zTBRdcwCeffELPniey\nZs0aevXqxbhyzqIhIiKSRF529/nu/p27/yI6zKJCCsgitczMuPHGG3nkkXFkZGTy6KOPctddd5U7\nz6mnnsrLL0+nRYv9mTp1KhdeeCFFRUVl1h911FG89dYcDjvsOL799ltOPfVUVq1aVWZ927ZteeON\ndzj77CEUFBRw3nnnMb6cISAiIiJJYqOZ9TezQ8zsYDM7OMhMCsgiITn11LP4zW/GkZaWxn333cfL\nL79cbv0hhxzBn/70Dk2aNGfSpEnccccd5dZnZzfjoYfeokuXHqxatYp+/fqVOTwDID09nV/84gku\nu+xXFBcXc/HFF/P+++9X6b2JiIgkiBzgJuAx4InoVCEFZJEQHX98X66//g8A3HDDDWyq4NLUbdt2\n5r77JpCWlsYf/vCHCgNs/foN+c1vxnPAAR346KOPeOCBB8qtNzOuvnrE7p7kyy+/vNxQLSIikuAO\nBk4CDgVOBI4xs6/NrHd5Mykgi4Ts/PNv5ogjfszatWt56KGHKqzv0qUHF174P7j77nMsl6dp0xbc\nfvtoAB544AFWr15dbr2ZMWzYwxx44KEsWrSIP/3pT4Heh4iISAKaBhzu7j8CDgFeAc4ERpQ3kwKy\nSMhKem0B/vGPfwQ6H/GgQbdTt249Xn/9dZYuXVph/ZFHnkTPnudQWFjIM888U2F9ZmZdfv7zPwPw\n2GOP6RzJIiKSrFq7+1cA7r4EONDdFwNlH8iDArJIQjjyyJPJzm7JsmXLWLJkSYX1jRs349hj+wAw\nY8aMQOvo1esiAKZPnx6oPje3Ny1a7M/KlSv5/PNAFx4SERFJNN+Z2QNm1s/MHgDWRIdX7ChvJgVk\nkQRQp04d2rU7HCBQQAbo2PFIAL788stA9Z06HQXAwoWBLkOPmdG+fVcAvv3220DziIiIJJjBwGoi\nwypWAFcAW4CLy5spPe7NEpFAsrLqA7Bz585A9ZmZ9SpVX7du5ZYPUK9eQ4AKDx4UEamq5cuXM3Hi\nRDZu3EjTpk3p378/bdq0CbtZkiLcvQB4eK+nZ1c0nwKySILIz18PRK6IF8TGjWsBaNq0aaXqs7Oz\nA7dpw4b/ALDffvsFnkdEJIg1a9Zw4403Mm7cuB9cLOmmm25iwIABPProo7Rq1SrEFsq+TAFZJAHs\n2rWLZcs+A+DQQw8NNE9J/cEHBzrnOYsXfwxA586dA9UXFRWxePGCSs0jIhLEmjVr6NGjB0uXLiUj\nI4MBAwbQuXNnvvrqKyZMmMDYsWOZP38+s2bN0n/QJRQKyCIJ4Kuv5rJ9+xbatWtHTk5OhfU7dhTy\n8cfTADjxxBMDrePDD98A4OSTTw5U/8UXc9i2bTPt27fngAMOCDSPiEgQN954I0uXLuXoo49mwoQJ\ntG7devdrK1eupH///nz00UfccMMNFV5ESSQedJCeSAKYPXsSAD/96U8D1S9Y8B6Fhdvp0qVLoJ8g\nd+wo5MMPXwfgjDPOCLSOt99+AYBzzz03UL2ISBDLly9n3LhxZGRk/Fc4BmjdujXjx48nPT2dcePG\nsWLFipBaKvsyBWSRBDB9+jgAzjrrrED1b731PAADBw4MVP/++6+xefMGunbtGmi4RFFREe+++y8A\nBg0aFGgdIiJBTJw4keLiYvr16/df4bhEmzZt6N+/P8XFxUycOLGWWygSICCb2RAzm2tmc/Py8mqj\nTVIGbYvEUlPb49tvv2TZss9o2rQpp512WoX1hYXbmTbtFSB4eH399WcBGDx4cKD6Dz98nY0b8zjk\nkEPo1q1boHlERILYuHEjUPGxDSXHV2zYsCHubRLZW4UB2d1Hunuuu+cGGRsp8aNtkVhqantMmzYW\ngP79+5OZmVlh/cyZr7J9+xaOOeYYOnXqVGF9fv563n9/EmlpaYED9ZQpkavtDR48GDMLNI+ISBAl\nZ9756quvyq1btGgRULkz74jUFA2xEAnZe+9FDkA577zzAtWXjA2+5JJLAi7/JYqKdtK7d29+9KMf\nVVi/efMGZs2aiJlx6aWXBlqHiEhQ/fr1Iy0tjYkTJ7Jy5cpSa1asWMGECRNIS0ujX79+tdxCEQVk\nkVCtXLmYxYsX0LhxY3r37l1h/bZtW/jggylA8EBd2bHE7777L3bsKOS0007TyfpFpMa1bduWAQMG\nsHPnTvr37/9fB+GtWLGCc845h6KiIgYMGKD9kIRCp3kTCdHUqZHe4379+lG3bt0K6+fMmcyOHQWc\ncMIJgU699v33/+Hjj6eSmZkZuBemZHjF5ZdfHqheRKSyHn30UebPn89HH31E+/bt6d+/PwcffDCL\nFi1iwoQJFBUV0b59e/7617+G3VTZRykgi4SoJCAH7Q2eMWM8EPzsFTNmTKC4uJjTTz890BX3vvtu\nGZ9/PpsGDRowYMCAQOsQEamsVq1aMXPmzN1X0hs7duzu19LS0hg4cCB//etfdZEQCY0CskhIVq9e\nzldfzaNhw4acfvrpFda7OwsWvAdAnz59Aq1j3ry3gOCnj/vgg9d3L79hw4aB5hERqYpWrVrx8ssv\ns2LFCiZOnMiGDRvIzs6mX79+GlYhoVNAFgnJggWzgciV8OrVq1dh/bffLmXdutU0b96cww47rML6\n4uJi5s9/FyDQ6eMA5s59EyDQeGgRkZrQpk0bbrjhhrCbIfIDOkhPJCSffvohAMcdd1yg+g8/nAFE\nAnWQU68tXbqY/Px1/OhHP6Jjx44V1rs7n3wyHYBevXoFapOIiEgqUkAWCUlJQD7mmGMC1X/55acA\ndO/ePVD9woWR+m7dugUK1KtXr2bjxjyaNm1Khw4dAq1DREQkFSkgi4Tk228jJ8E/4ogjAtUvXRo5\nqf6hhx4aqL4kIHfp0iVQ/ccfLwCCB2oREZFUpYAsEoJt27aRl7eGjIyMQKdrA1i8+EsADjnkkED1\nixZF6g8//PBA9UuXLqnU8kVERFKVArJICL755hsADjzwQOrUqVNhvbvz3XeRK061bds20DrWrFkN\nQOvWrQPVr1ixfHebRERE9mUKyCIhWLt2LUCgSz8DbNmyhcLCAurVqxf49Gv/+c93lVrH8uUKyCIi\nIqCALBKKDRs2AJCdnR2oPi8vD4CWLVsGHh9c2YCclxcJ7Toxv4iI7OsUkEVCsHHjRiB4QF63bh0A\nOTk5gep37tzJ1q1bSUtLo0mTJoHm2bRpE0DgehERkVSlgCwSgpIe5CCXf4bIQX0ADRo0qHR90B7n\nTZvyAWjcuHGgehERkVSlgCwSgq1btwIEHk+8fft2ALKysgLVlwTk+vXrB25Tfn4kIKsHWURE9nUK\nyCIh2LlzJwAZGRmB6gsKCgACXZIaqhaQS0J4ZeYRERFJRQrIIiHYsWMHAJmZmYHqa6MHuaioCAge\n2kVERFKVArJICKragxw0IO/atQuA9PT0wG0qCciVmUdERCQVKSCLhKCyAbkk8Aa5qAhAcXExAGlp\nwf7Ei4uLKz2PiIhIqtI3oUgIKhuQ3R0g8BkpKht2Y3ucg65DREQkVSkgi4SgssMZ4h2QNbxCRERk\nDwVkkRDFu0e4sgE56BAOERGRVKaALJIE4t2DXFKvgCwiIqKALBKKksBb2frKBmQFXhERkcpTQBYJ\nUdDAG+8e5LCYWT0zG2tm083sNTPLKaXm92Y228w+NLNrw2iniIjUjkT5Xkjsb08RAfYE5MoOmUiC\nM1JcD3zq7icCzwJ3xr5oZqcCHd39BKAncLuZZdd+M0VEpJYkxPeCArJICCo7xKKqgTcJAnJPYEr0\n/mTgJ3u9Phu4KnrfgTrAztppmoiIhCAhvhd0TieREMVriEUiMrOrgVv2evo/QH70/magSeyL7l4A\nFJhZBvAMMNLdt5Sy7CHAEIC2bdvWcMtFRKQaWpjZ3JjHI919JMT3e6G6FJBFkkC8A3Jle7SruI6n\ngKdinzOzV4BG0YeNgI17zxf96exl4D13v7+MZY8ERgLk5ubG/82IiEhQ69w9t7QX4vm9UF0aYiES\ngqoG0nj3IIfQQz0T6Bu9fyYwfa/21APeBka7+4habpuIiNS+hPheUA+ySIiSechEDXkceMbMZgA7\ngEEAZvYgkd6BHkB74NqYI5WvdPdlYTRWRETiLiG+FxSQRSQ07r4NOL+U52+L3v0A+FOtNkpEREKT\nKN8LGmIhEoLaGPMrIiIiVaOALBIiDbEQERFJPArIIqIebRERkRgKyCKym3q0RUREFJBFQqEeWxER\nkcSls1iIhEg9trXjrrvuYuHChcCezzz2NnZKS0v7wVSnTp3dt7H309PTy5wyMjL+a8rMzNx9WzLV\nrVt3923JlJWVtfu2Tp06oX1mIiL7MgVkEUl5U6dOZdq0aWE3o9LS09PJysr6wVSvXr0fTPXr1989\nxT5u0KDBf902aNCAhg0b7r4tuZ+Wph8TRURiKSCLSMpL1iEtRUVFbNmyhS1btsR1PfXr198dmBs1\navSDqXHjxv91Gzs1adJk922jRo0UtkUkJSggi4js47Zt28a2bdtYu3ZttZZjZjRq1IgmTZrQpEkT\nmjZtuvs2dsrOzv6v2+zsbBo3bqyALSIJQQFZRJK2hzWoe++9l3Xr1u1+n7Hvt7i4GHffPZU83rVr\nF8XFxRQXF7Nr164fTMXFxRQVFbFr1y6Kiop2Tzt37vyv2507d7Jjx47dtyVTYWHhD+4XFhZSUFDw\ng/vJtl3cnU2bNrFp0yZWrFhR6fnT0tJo0qQJzZo1o1mzZmRnZ+++Hzs1b978B/ezs7NJT9fXmYjU\nHO1RRGS3VD1o8JRTTgm7CZXm7uzcuZOCgoLd0/bt23dPsY9LeoC3bdvG1q1b2b59O1u3bt39eO+p\nZNhGyeNEUVxczIYNG9iwYQNLliyp1LxNmzalefPmtGjRgubNm+++XzKV9lihWkTKor2DiEgCMrPd\nZ7to3Lhx3NZTXFzM1q1b2bx58+7b0qaSnuHYKT8/f/dtfn5+qGF748aNbNy4sVLBOjs7m5ycHFq0\naEFOTk6pU8uWLXffr1u3bhzfgYgkEgVkEZF9WFpa2u4D8qqrqKiIzZs3k5+fz8aNG39wu2HDht23\nGzdu3N1THDvVdsAuWe+iRYsC1Tdu3JiuXbsyffr0OLdMRMKmgCwiIjUiPT199wF3VbFz584fBObv\nv/9+97RhwwbWr1/P999//4Pb9evXs3Hjxhp+J6XbtGlT3M8oIiKJQQFZREQSQkZGBi1btqRly5aV\nmq+oqGh3gC6Z1q1bx7p1635wP3b6/vvvq9TGyrZNRJKTArKIiCS19PT03eOEgyoqKuL7778nLy+v\n1GndunWsXbv2B88VFxdXah0ikrwqDMhmNgQYAtC2bdu4N0jKpm2RWLQ9RJJXenp6pXqrS86wsWvX\nrji3TEQSQYVnZHf3ke6e6+65+p9zuLQtEou2h8i+Iy0tjebNm2uIhcg+QpcsEhERERGJoYAsIiIi\nIhJDAVlEREREJIYCsoiIiIhIDAVkEREREZEYCsgiIiIiIjEUkEVEREREYiggi4iIiIjEUEAWERER\nEYmhgCwiIiIiEkMBWUREREQkhgKyiIiIiEgMBWSRFOTuYTdBREQkaSkgi6QwMwu7CSIiIklHAVlE\nREREJIYCsoiIiIhIDAVkEREREZEYCsgiIiIiIjEUkEVEREREYiggi4iIiIjEUEAWEREREYmhgCwi\nIiIiEkMBWUREREQkhgKyiIiIiEgMBWQRERERkRgKyCIiIiIiMRSQRURERERiKCCLiIiIiMRQQBYR\nERERiaGALCIiIiISQwFZRERERCSGArKIhMbM6pnZWDObbmavmVlOGXX1zWyBmfWp7TaKiEjtSZTv\nBQVkEQnT9cCn7n4i8CxwZxl1fwW81lolIiJhSYjvBQVkEQlTT2BK9P5k4Cd7F5jZ/wCzgI9rsV0i\nIhKOhPheUEAWkVphZleb2WexE9AEyI+WbI4+jp2nF9DJ3UdVsOwhZjbXzObm5eXFpf0iIlIlLUr2\nz9FpSMkL8fxeqK70eC5cRKSEuz8FPBX7nJm9AjSKPmwEbNxrtquBA83sPeAQ4GgzW+PuC/Za9khg\nJEBubq6GYoiIJI517p5b2gvx/F6oLgVkEQnTTKAv8AFwJjA99kV3H1Ry38yeBl6s6Z2giIgklIT4\nXtAQCxEJ0+PA4WY2AxgC/BrAzB40s2NDbZmIiIQhIb4X1IMsIqFx923A+aU8f1spz11RG20SEZHw\nJMr3gnqQRURERERiKCCLiIiIiMRQQBYRERERiaGALCIiIiISQwFZRERERCSGArKIiIiISAwFZBER\nERGRGArIIiIiIiIxFJBFRERERGIoIIuIiIiIxKgwIJvZEDOba2Zz8/LyaqNNUgZti8RSne2RkZFB\nVlYWderUCVRfp04dsrKyyMjICFSflpZGVlYWmZmZgduUlZVFVlZW4HoREZFUlV5RgbuPBEYC5Obm\nemUWnpmZ+YMv3LQ0dVhXR3W2RUlgKlGZ4CSlq872GDVqFKNGjQpcP2zYMIYNGxa4/pRTTmH79u2B\n65s1a1apehERkVRWYUCujrFjx8Zz8VIJPXv2VAASERERCUBduiIiIiIiMRSQRURERERiKCCLiIiI\niMRQQBYRERERiaGALCIiIiISQwFZRERERCSGArKIiIiISAwFZBERERGRGArIIiIiIiIxFJBFRERE\nRGKYuwcvNssDvo1fcxLGge6eE3YjyrMPbQvQ9kgkyb4tWgDrarE5NU3tD1d57U/2vw2ReEn4v43S\nVCogi4gkMzOb6+65YbejqtT+cCV7+0UkOA2xEBERERGJoYAsIiIiIhJDAVlE9iUjw25ANan94Ur2\n9otIQNUKyGZ2u5l9Z2ZZ0cf3mNnQvWquMLPlZnZrwGXWMbNxZbzWxsx+Zma9zaxlBct52MwOCrjO\nG83sm73bnsrMbJqZnbbXc38xs2vKqK9jZuPMbKmZddjrtQlm9pN4tlekJrh7UgcctT9cyd5+EQmu\nuj3IlwAvAhdVUPe8u/8x4DJ7ArPKeO1QYAhwB9C2guUc5O7LgqzQ3R8Fng7YvlQxEhhc8sDMMoGz\ngRfKqC/ZLqOBy2Lm2w/oDLwdt5aKiIiI1KIqB2QzOwVYAjwB3BBwnqfNbJSZvWFmU83sejN7zcw+\ni+mVPAv4t5n1MLP3zWy6mU00s0bAR8DzwIfAJ2bWImZZI81scXQ9hwMLo/fvNLO5ZrbAzK4r67l9\n0MvAqWZWP/q4P/AGMMnMnjCz96Kfa6vo62cB/wb+Dlwcs5zBwNPu7mZ2n5nNNrM5ZnZzbb0RERER\nkZpUnR7ka4C/uftXQKGZHRdwvm/c/XTgCyK9vH2BsUR6LwEOdfcvgHOAV4CTifRaZrv7Ond/0N1v\nc/cdwK+A8e5+MvASkB5dRknIPgo4EzgO+DFwWBnPWTU+h6Tk7gXABGBA9Kkr2TO+bpa7nwKMIdJb\nD9Ht4u6rgK/MrEf0+UuIhGaIhOVBwEnA9vi+A5HgzCwt+h+/2dH//HUMu01BmdlxZvZe9H5HM5sR\n7Th43MwS9jgSM8sws39E2/qBmfVLsvbXMbPRZjYzOiStQzK1X0Sqp0p/3GaWDfQFbjKzKUAT4MaA\ns38Uvd1ItJcX2ABkmVl7YHH0ud8CLYn8dH8esLOUZR3KnuEY02OePyH6fGfgA3ff5e7b3P2m0p7z\nffdk0KOAy8xsfyL/ASnZNu9Eb2cBnffaLiXzDTaz44Gv3f0/0ecvAu4HXgeaxr31IsGdA2S5+wnA\ncOChkNsTiJndBvwNyIo+9UfgTnc/ETAiv/wkqkuB9dG2ngk8SnK1/2wAd+8B3EWk7cnUfhGphqr+\n7/dS4Cl3P93d+xDpjT0dCHKllPLC6NnApOj9S4j8dH8q8DmRscd7+4xIGAY4HsDMmgH57r4L+BI4\nOtp7lGFmbwLL9n7OzOoGaHfKcfdPgUbATUR66Ut0j972IPLZx24XgNeIfO6XE+11jn6G5xMZfnEa\ncIWZHRjP9otUQk9gCoC7vw8ky8UelgDnxjzuDkyN3p8MJPLBsS8B/xfzuIgkar+7j2fP986BwH9I\novaLSPVUNSBfA/yj5IG7byMyTOLaarbnJPbsfD4EnjGzqUQC17Ol1D8A9DOzd6Pr3gn0Yc8X4YLo\n/ZnADOA5d59TynOF1Wx3MhtN5LOLPTjviujn/lPgPn64XYj+52MCcCrwVvS5QuB7YAGRHug3gOW1\n0H6RIBoD+TGPd5lZelnFicLdx/LDX88s5hevzUR+vUtI7r7F3TdHjx95GbiTJGo/gLsXmdkzwCNE\n3kNStV9Eqi7ul5o2syuAQ9x9eByW3RfIc/cPo6cZu8PdT6tovjKWdQ+wxt2fqMk2JpvoWMeh7v5l\n2G0RqSlm9kfgfXf/V/TxSndvHXKzAjGzdsCL7n58bLvNrD/Q292DDm+rdWbWBhgHPObuo5Ot/SWi\nByvPARq7e3b0uaRpv4hUXm0dYDDIAp4HuZKWAQ+b2XTgXuC2qizEzG4ErqjBdolIYplJ5LgJomPn\nPw23OVU2P3oGIYiM651eTm2ooqeAfAO43d1LhnAlU/svM7P/jT7cBhQDc5Ol/SJSPXHvQRYRCVv0\nbAOPAV2JHFx1ZbL8SrJXD/LBRA6SzSRyJqBro0OeEo6Z/QW4kMixICVuAh4mOdrfgMgZeloBGUSG\n9H1Bknz+IlI9CsgiIiIiIjF0DkcRERERkRgKyCIiIiIiMRSQRURERERiKCCLiIiIiMRQQBYRERER\niaGALCKSRMzsHjMbWo3565jZ62Y2w8yyY57/s5m1reSyXjSzzL2e62NmT1e1fSIiiSDhL7UqIv/f\n3v2EWF2FYRz/PppkZCGpgZRooZCFRMgIojBmqQwKhSQURrSTmY1jJARSoiG6clGRJFG0bFq0qCY0\nYcb/NRO1iJEQKdEE0YkiFyWlb4vzThxuIffmdJV4PjDM/Z1zfu95l+99OZdjNq5mAtMjYmE9GBG9\nrQaKiKfHLSszs5uIO8hmZm0i6U5JfZL2S/pKUneOD2YH94CkIUmzc/zlXLdP0uHqFrexeDslHZV0\nXNK6f9hvvaTh7Ba/K2kSsBeYJ+mthrWDkh7IDvV7kj6VdELSqpxfk7GGJe2VNEHSaUmTJc3PHA4A\n3VXMdTl+RNKuHGslfme+e1DSO5m/mdl/zgWymVn7zKXcircSWAO8UM0NRcTjwGfAM5Ieplxn3AE8\nSen8/kVSF3BfRCwBHgW2SJpazU8DtgHLI2Ip8DOwAegBTkTEhmvkeTkiuig3322SdAvwBrA6IjqA\nHyUtnLUAAAHhSURBVIB7q/WvAq9k/sdy/7ty/8dy/3skrWgh/izKrXVrI6ITOAc8f42czczGjY9Y\nmJm1z3mgV9Ja4BfKFcZjvs7/ZynXG8+nFM1XgF8lfdkQawGwUNJgPk8CZlMKYYD7gZGIuJTPh4CV\nwMdN5FnnMhmYDvwUERcAImI7gKSx9Q8BQ/n5aOY+F5gB9Oe6OzKnpuJLupvypaAv378N2N9E7mZm\n180dZDOz9nkROB4RzwIfAKrmomHtCNCRRw1uBR5pmP8WGIiIZcByoA/4rpr/HnhQ0u353AmcbDLP\nxlwuAFOzK4yk1yQtashlcX7uqPY/C6zIHF8Hvmg2PjCH0kl+It/fAQw0mb+Z2XVxB9nMrH0+AvZI\nWg/8CPyRxe/fRMQ3kvqBz4FR4Pf8q2Mtk3QYmAJ8WHWLiYhRSVuBAUlXgVPAS5TudEsi4qqkHuAT\nSVcoHeDhakkP8L6kzcBF4LeIuChpN3BQ0kTgNKWIbyX+xhybQOm4P9dq7mZm/4YiGr/Im5nZjZZH\nDJ6KiDeziB6hnCc+c4NTMzP733MH2czs5jRKOWIxTDmS8LaLYzOz9nAH2czMzMys4h/pmZmZmZlV\nXCCbmZmZmVVcIJuZmZmZVVwgm5mZmZlVXCCbmZmZmVX+BFA2HBaKJ4xkAAAAAElFTkSuQmCC\n",
          "text/plain": "<matplotlib.figure.Figure at 0xa253898>"
         },
         "metadata": {},
         "output_type": "display_data"
        },
        {
         "data": {
          "text/plain": "(array([ 0,  1,  2,  3,  4,  5,  6,  7,  8,  9, 10, 11, 12, 13, 14, 15, 16,\n        17, 18, 19, 20, 21, 22, 23, 24, 25, 26, 27, 28, 29, 30]),\n array([-0.24338299, -0.24341179, -0.24349814, -0.24364195, -0.24384303,\n        -0.24410115, -0.24441598, -0.24478715, -0.24521421, -0.24569662,\n        -0.24623381, -0.24682511, -0.24746982, -0.24816714, -0.24891623,\n        -0.24971616, -0.25056598, -0.25146463, -0.25241104, -0.25340403,\n        -0.25444241, -0.25552491, -0.25665021, -0.25781694, -0.25902367,\n        -0.26026894, -0.26155124, -0.26286899, -0.26422059, -0.2656044 ,\n        -0.26701872]),\n -0.24338298853988244,\n -0.094542937487458734)"
         },
         "metadata": {},
         "output_type": "display_data"
        }
       ]
      }
     },
     "f153db1168ab407797290934e3f740ea": {
      "model_module": "@jupyter-widgets/base",
      "model_module_version": "1.0.0",
      "model_name": "LayoutModel",
      "state": {}
     },
     "f2b61954ba1d4f8094ba4cf2a2b8b2a2": {
      "model_module": "@jupyter-widgets/output",
      "model_module_version": "1.0.0",
      "model_name": "OutputModel",
      "state": {
       "layout": "IPY_MODEL_73941b473daa4ada9578893a20b30c71",
       "outputs": [
        {
         "ename": "ValueError",
         "evalue": "too many values to unpack (expected 3)",
         "output_type": "error",
         "traceback": [
          "\u001b[1;31m---------------------------------------------------------------------------\u001b[0m",
          "\u001b[1;31mValueError\u001b[0m                                Traceback (most recent call last)",
          "\u001b[1;32m~\\AppData\\Local\\Continuum\\Miniconda3\\lib\\site-packages\\ipywidgets\\widgets\\interaction.py\u001b[0m in \u001b[0;36mupdate\u001b[1;34m(self, *args)\u001b[0m\n\u001b[0;32m    248\u001b[0m                     \u001b[0mvalue\u001b[0m \u001b[1;33m=\u001b[0m \u001b[0mwidget\u001b[0m\u001b[1;33m.\u001b[0m\u001b[0mget_interact_value\u001b[0m\u001b[1;33m(\u001b[0m\u001b[1;33m)\u001b[0m\u001b[1;33m\u001b[0m\u001b[0m\n\u001b[0;32m    249\u001b[0m                     \u001b[0mself\u001b[0m\u001b[1;33m.\u001b[0m\u001b[0mkwargs\u001b[0m\u001b[1;33m[\u001b[0m\u001b[0mwidget\u001b[0m\u001b[1;33m.\u001b[0m\u001b[0m_kwarg\u001b[0m\u001b[1;33m]\u001b[0m \u001b[1;33m=\u001b[0m \u001b[0mvalue\u001b[0m\u001b[1;33m\u001b[0m\u001b[0m\n\u001b[1;32m--> 250\u001b[1;33m                 \u001b[0mself\u001b[0m\u001b[1;33m.\u001b[0m\u001b[0mresult\u001b[0m \u001b[1;33m=\u001b[0m \u001b[0mself\u001b[0m\u001b[1;33m.\u001b[0m\u001b[0mf\u001b[0m\u001b[1;33m(\u001b[0m\u001b[1;33m**\u001b[0m\u001b[0mself\u001b[0m\u001b[1;33m.\u001b[0m\u001b[0mkwargs\u001b[0m\u001b[1;33m)\u001b[0m\u001b[1;33m\u001b[0m\u001b[0m\n\u001b[0m\u001b[0;32m    251\u001b[0m                 \u001b[0mshow_inline_matplotlib_plots\u001b[0m\u001b[1;33m(\u001b[0m\u001b[1;33m)\u001b[0m\u001b[1;33m\u001b[0m\u001b[0m\n\u001b[0;32m    252\u001b[0m                 \u001b[1;32mif\u001b[0m \u001b[0mself\u001b[0m\u001b[1;33m.\u001b[0m\u001b[0mauto_display\u001b[0m \u001b[1;32mand\u001b[0m \u001b[0mself\u001b[0m\u001b[1;33m.\u001b[0m\u001b[0mresult\u001b[0m \u001b[1;32mis\u001b[0m \u001b[1;32mnot\u001b[0m \u001b[1;32mNone\u001b[0m\u001b[1;33m:\u001b[0m\u001b[1;33m\u001b[0m\u001b[0m\n",
          "\u001b[1;32m~\\GoogleDrive\\PYTHON\\geophysical_notes\\avo_explorer_library.py\u001b[0m in \u001b[0;36mmake_avo_explorer\u001b[1;34m(avoclass, fluid, phimod)\u001b[0m\n\u001b[0;32m    347\u001b[0m                 \u001b[0mrhof_new\u001b[0m\u001b[1;33m,\u001b[0m \u001b[0mkf_new\u001b[0m \u001b[1;33m=\u001b[0m \u001b[1;36m0.80\u001b[0m\u001b[1;33m,\u001b[0m  \u001b[1;36m1.02\u001b[0m \u001b[1;31m# oil density & bulk modulus\u001b[0m\u001b[1;33m\u001b[0m\u001b[0m\n\u001b[0;32m    348\u001b[0m \u001b[1;33m\u001b[0m\u001b[0m\n\u001b[1;32m--> 349\u001b[1;33m         \u001b[0mvp2B\u001b[0m\u001b[1;33m,\u001b[0m\u001b[0mvs2B\u001b[0m\u001b[1;33m,\u001b[0m\u001b[0mrho2B\u001b[0m\u001b[1;33m=\u001b[0m\u001b[0mgassmann\u001b[0m\u001b[1;33m(\u001b[0m\u001b[0mvp2\u001b[0m\u001b[1;33m,\u001b[0m \u001b[0mvs2\u001b[0m\u001b[1;33m,\u001b[0m \u001b[0mrho2\u001b[0m\u001b[1;33m,\u001b[0m \u001b[0mrhob\u001b[0m\u001b[1;33m,\u001b[0m \u001b[0mkb\u001b[0m\u001b[1;33m,\u001b[0m \u001b[0mrhof_new\u001b[0m\u001b[1;33m,\u001b[0m \u001b[0mkf_new\u001b[0m\u001b[1;33m,\u001b[0m \u001b[0mk0\u001b[0m\u001b[1;33m,\u001b[0m \u001b[0mphi2\u001b[0m\u001b[1;33m)\u001b[0m\u001b[1;33m\u001b[0m\u001b[0m\n\u001b[0m\u001b[0;32m    350\u001b[0m \u001b[1;33m\u001b[0m\u001b[0m\n\u001b[0;32m    351\u001b[0m         \u001b[1;31m# vp2B,vs2B,rho2B=b.rockphysics.avseth_fluidsub(vp2,vs2,rho2*1e3,phi2,rhob*1e3,rhof_new*1e3,k0*1e9,kb*1e9,kf_new*1e9)\u001b[0m\u001b[1;33m\u001b[0m\u001b[1;33m\u001b[0m\u001b[0m\n",
          "\u001b[1;31mValueError\u001b[0m: too many values to unpack (expected 3)"
         ]
        }
       ]
      }
     },
     "f3a8285a57d547caa3b6cc8f10fc4ac5": {
      "model_module": "@jupyter-widgets/base",
      "model_module_version": "1.0.0",
      "model_name": "LayoutModel",
      "state": {}
     },
     "f41bdecb4a6340f493ca4965fec824c5": {
      "model_module": "@jupyter-widgets/controls",
      "model_module_version": "1.0.0",
      "model_name": "DropdownModel",
      "state": {
       "_options_labels": [
        "normal",
        "reverse"
       ],
       "description": "polarity",
       "index": 0,
       "layout": "IPY_MODEL_a0dc5b610ecd423581f7ef7d80c69e20",
       "style": "IPY_MODEL_bd03e03e4ec3460fad43b940cda6a10c"
      }
     },
     "f4d1f0ac96484dcea49dca3d0493c9f8": {
      "model_module": "@jupyter-widgets/base",
      "model_module_version": "1.0.0",
      "model_name": "LayoutModel",
      "state": {}
     },
     "f5bb26252c16414f8cc55e824afeb294": {
      "model_module": "@jupyter-widgets/base",
      "model_module_version": "1.0.0",
      "model_name": "LayoutModel",
      "state": {}
     },
     "f6e91e1094b04c0fae6288a03d2e8ca8": {
      "model_module": "@jupyter-widgets/base",
      "model_module_version": "1.0.0",
      "model_name": "LayoutModel",
      "state": {}
     },
     "f7cb3a118ca44926b68bbdd1c486468b": {
      "model_module": "@jupyter-widgets/controls",
      "model_module_version": "1.0.0",
      "model_name": "DescriptionStyleModel",
      "state": {
       "description_width": ""
      }
     },
     "f855bff1fed842ca8fabe27f11190395": {
      "model_module": "@jupyter-widgets/controls",
      "model_module_version": "1.0.0",
      "model_name": "SliderStyleModel",
      "state": {
       "description_width": ""
      }
     },
     "f8b34d9aea474bdcb88acc732e635f95": {
      "model_module": "@jupyter-widgets/controls",
      "model_module_version": "1.0.0",
      "model_name": "SliderStyleModel",
      "state": {
       "description_width": ""
      }
     },
     "faab96db0d0240ceace951e63bc9d329": {
      "model_module": "@jupyter-widgets/controls",
      "model_module_version": "1.0.0",
      "model_name": "DescriptionStyleModel",
      "state": {
       "description_width": ""
      }
     },
     "fb4711ef240d4dc091aa16e905e41063": {
      "model_module": "@jupyter-widgets/controls",
      "model_module_version": "1.0.0",
      "model_name": "DescriptionStyleModel",
      "state": {
       "description_width": ""
      }
     },
     "fb6c240a954c4fc4b90d54def614a803": {
      "model_module": "@jupyter-widgets/base",
      "model_module_version": "1.0.0",
      "model_name": "LayoutModel",
      "state": {}
     },
     "fbddb8f05bcc408a95be77ccb6f5880a": {
      "model_module": "@jupyter-widgets/controls",
      "model_module_version": "1.0.0",
      "model_name": "SliderStyleModel",
      "state": {
       "description_width": ""
      }
     },
     "fcc36b939e8b4e24b644bd672e37f57b": {
      "model_module": "@jupyter-widgets/controls",
      "model_module_version": "1.0.0",
      "model_name": "IntSliderModel",
      "state": {
       "description": "vp2",
       "layout": "IPY_MODEL_0c86d4fa72094acfb593b05ff2822b0d",
       "max": 6000,
       "min": 1500,
       "step": 100,
       "style": "IPY_MODEL_47f7b19933d24ea8ae50ca8baccb2cd4",
       "value": 1542
      }
     },
     "fd3231c49d7c4c10b87993bb5c8e8087": {
      "model_module": "@jupyter-widgets/controls",
      "model_module_version": "1.0.0",
      "model_name": "IntSliderModel",
      "state": {
       "description": "vs2",
       "layout": "IPY_MODEL_43aed0262e39416180f3e3842dcf62f9",
       "max": 3000,
       "min": 1000,
       "step": 100,
       "style": "IPY_MODEL_df43b58e16a841cf9833a54866723e0c",
       "value": 1000
      }
     },
     "fe1f7bfa438a4ba0927b36da81e757a5": {
      "model_module": "@jupyter-widgets/controls",
      "model_module_version": "1.0.0",
      "model_name": "IntSliderModel",
      "state": {
       "description": "vp1",
       "layout": "IPY_MODEL_f6e91e1094b04c0fae6288a03d2e8ca8",
       "max": 6000,
       "min": 1500,
       "step": 100,
       "style": "IPY_MODEL_3284da3654164cd88f984377caa0b263",
       "value": 2192
      }
     },
     "ff082975a563403c8883b1a61726d0b7": {
      "model_module": "@jupyter-widgets/base",
      "model_module_version": "1.0.0",
      "model_name": "LayoutModel",
      "state": {}
     },
     "ff912ed480b943febdcefc6dbb7fa902": {
      "model_module": "@jupyter-widgets/controls",
      "model_module_version": "1.0.0",
      "model_name": "SliderStyleModel",
      "state": {
       "description_width": ""
      }
     },
     "ffd98bfecc0147438e042e960090cf61": {
      "model_module": "@jupyter-widgets/base",
      "model_module_version": "1.0.0",
      "model_name": "LayoutModel",
      "state": {}
     },
     "ffeec0681b0f4fa79eaa79e921e96241": {
      "model_module": "@jupyter-widgets/base",
      "model_module_version": "1.0.0",
      "model_name": "LayoutModel",
      "state": {}
     }
    },
    "version_major": 2,
    "version_minor": 0
   }
  }
 },
 "nbformat": 4,
 "nbformat_minor": 4
}
